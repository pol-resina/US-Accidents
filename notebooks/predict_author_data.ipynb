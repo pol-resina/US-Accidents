{
 "cells": [
  {
   "cell_type": "code",
   "execution_count": 1,
   "metadata": {},
   "outputs": [],
   "source": [
    "import pandas as pd"
   ]
  },
  {
   "cell_type": "code",
   "execution_count": 2,
   "metadata": {},
   "outputs": [],
   "source": [
    "data_new = {'ID': ['A-0'],                                                                # ID NOT NECESSARY\n",
    "            'Source': ['Source2'],\n",
    "            'Start_Time': ['2024-08-20 10:10:56'],                                        # START TIME. SET IN SUMMER\n",
    "            'End_Time': ['2024-08-20 10:55:58'],                                          # END TIME. SET IN SUMMER         \n",
    "            'Start_Lat': [30.641211],\n",
    "            'Start_Lng': [-91.153481],\n",
    "            'End_Lat': [None],\n",
    "            'End_Lng': [None],\n",
    "            'Distance(mi)': [0.0],\n",
    "            'Description': ['Accident on LA-19 Baker-Zachary Hwy at Lower Zachary Rd.'],\n",
    "            'Street': ['Highway 19'],\n",
    "            'City': ['Zachary'],\n",
    "            'County': ['East Baton Rouge'],\n",
    "            'State': ['LA'],\n",
    "            'Zipcode': ['70791-4610'],\n",
    "            'Country': ['US'],\n",
    "            'Timezone': ['US/Central'],\n",
    "            'Airport_Code': ['KBTR'],\n",
    "            'Weather_Timestamp': ['2019-06-12 09:53:00'],\n",
    "            'Temperature(F)': [77.0],\n",
    "            'Wind_Chill(F)': [77.0],\n",
    "            'Humidity(%)': [62.0],\n",
    "            'Pressure(in)': [29.92],\n",
    "            'Visibility(mi)': [10.0],\n",
    "            'Wind_Direction': ['NW'],\n",
    "            'Wind_Speed(mph)': [5.0],\n",
    "            'Precipitation(in)': [0.0],\n",
    "            'Weather_Condition': ['Fair'],\n",
    "            'Amenity': [False],\n",
    "            'Bump': [False],\n",
    "            'Crossing': [False],\n",
    "            'Give_Way': [False],\n",
    "            'Junction': [False],\n",
    "            'No_Exit': [False],\n",
    "            'Railway': [False],\n",
    "            'Roundabout': [False],\n",
    "            'Station': [False],\n",
    "            'Stop': [False],\n",
    "            'Traffic_Calming': [False],\n",
    "            'Traffic_Signal': [False],\n",
    "            'Turning_Loop': [False],\n",
    "            'Sunrise_Sunset': ['Day'],\n",
    "            'Civil_Twilight': ['Day'],\n",
    "            'Nautical_Twilight': ['Day'],\n",
    "            'Astronomical_Twilight': ['Day']}\n",
    "\n",
    "X_new = pd.DataFrame(data_new)"
   ]
  }
 ],
 "metadata": {
  "kernelspec": {
   "display_name": "Python 3",
   "language": "python",
   "name": "python3"
  },
  "language_info": {
   "codemirror_mode": {
    "name": "ipython",
    "version": 3
   },
   "file_extension": ".py",
   "mimetype": "text/x-python",
   "name": "python",
   "nbconvert_exporter": "python",
   "pygments_lexer": "ipython3",
   "version": "3.10.14"
  }
 },
 "nbformat": 4,
 "nbformat_minor": 2
}
