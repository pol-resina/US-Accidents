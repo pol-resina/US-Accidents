{
 "cells": [
  {
   "cell_type": "code",
   "execution_count": 115,
   "metadata": {},
   "outputs": [],
   "source": [
    "# imports\n",
    "import pandas as pd\n",
    "import numpy as np\n",
    "import matplotlib.pyplot as plt\n",
    "import seaborn as sns\n",
    "from sklearn.neighbors import KNeighborsRegressor, KNeighborsClassifier\n",
    "from sklearn.preprocessing import LabelEncoder\n",
    "from datetime import datetime"
   ]
  },
  {
   "cell_type": "code",
   "execution_count": 116,
   "metadata": {},
   "outputs": [
    {
     "data": {
      "text/plain": [
       "(500000, 46)"
      ]
     },
     "execution_count": 116,
     "metadata": {},
     "output_type": "execute_result"
    }
   ],
   "source": [
    "# read data\n",
    "data = pd.read_csv('../data/US_Accidents_March23_sampled_500k.csv')\n",
    "data.shape"
   ]
  },
  {
   "cell_type": "markdown",
   "metadata": {},
   "source": [
    "# Section 1: General inspection of dataset"
   ]
  },
  {
   "cell_type": "markdown",
   "metadata": {},
   "source": [
    "Let's see the variables in our data and decide which will we our target variable."
   ]
  },
  {
   "cell_type": "code",
   "execution_count": 117,
   "metadata": {},
   "outputs": [
    {
     "data": {
      "text/plain": [
       "Index(['ID', 'Source', 'Severity', 'Start_Time', 'End_Time', 'Start_Lat',\n",
       "       'Start_Lng', 'End_Lat', 'End_Lng', 'Distance(mi)', 'Description',\n",
       "       'Street', 'City', 'County', 'State', 'Zipcode', 'Country', 'Timezone',\n",
       "       'Airport_Code', 'Weather_Timestamp', 'Temperature(F)', 'Wind_Chill(F)',\n",
       "       'Humidity(%)', 'Pressure(in)', 'Visibility(mi)', 'Wind_Direction',\n",
       "       'Wind_Speed(mph)', 'Precipitation(in)', 'Weather_Condition', 'Amenity',\n",
       "       'Bump', 'Crossing', 'Give_Way', 'Junction', 'No_Exit', 'Railway',\n",
       "       'Roundabout', 'Station', 'Stop', 'Traffic_Calming', 'Traffic_Signal',\n",
       "       'Turning_Loop', 'Sunrise_Sunset', 'Civil_Twilight', 'Nautical_Twilight',\n",
       "       'Astronomical_Twilight'],\n",
       "      dtype='object')"
      ]
     },
     "execution_count": 117,
     "metadata": {},
     "output_type": "execute_result"
    }
   ],
   "source": [
    "data.columns"
   ]
  },
  {
   "cell_type": "code",
   "execution_count": 118,
   "metadata": {},
   "outputs": [
    {
     "data": {
      "text/plain": [
       "ID                            0\n",
       "Source                        0\n",
       "Severity                      0\n",
       "Start_Time                    0\n",
       "End_Time                      0\n",
       "Start_Lat                     0\n",
       "Start_Lng                     0\n",
       "End_Lat                  220377\n",
       "End_Lng                  220377\n",
       "Distance(mi)                  0\n",
       "Description                   1\n",
       "Street                      691\n",
       "City                         19\n",
       "County                        0\n",
       "State                         0\n",
       "Zipcode                     116\n",
       "Country                       0\n",
       "Timezone                    507\n",
       "Airport_Code               1446\n",
       "Weather_Timestamp          7674\n",
       "Temperature(F)            10466\n",
       "Wind_Chill(F)            129017\n",
       "Humidity(%)               11130\n",
       "Pressure(in)               8928\n",
       "Visibility(mi)            11291\n",
       "Wind_Direction            11197\n",
       "Wind_Speed(mph)           36987\n",
       "Precipitation(in)        142616\n",
       "Weather_Condition         11101\n",
       "Amenity                       0\n",
       "Bump                          0\n",
       "Crossing                      0\n",
       "Give_Way                      0\n",
       "Junction                      0\n",
       "No_Exit                       0\n",
       "Railway                       0\n",
       "Roundabout                    0\n",
       "Station                       0\n",
       "Stop                          0\n",
       "Traffic_Calming               0\n",
       "Traffic_Signal                0\n",
       "Turning_Loop                  0\n",
       "Sunrise_Sunset             1483\n",
       "Civil_Twilight             1483\n",
       "Nautical_Twilight          1483\n",
       "Astronomical_Twilight      1483\n",
       "dtype: int64"
      ]
     },
     "execution_count": 118,
     "metadata": {},
     "output_type": "execute_result"
    }
   ],
   "source": [
    "data.isna().sum()"
   ]
  },
  {
   "cell_type": "markdown",
   "metadata": {},
   "source": [
    "As explained, the target variable is 'Severity', this is how important, the gravity of the accident, in order to predict how does it affect the traffic."
   ]
  },
  {
   "cell_type": "markdown",
   "metadata": {},
   "source": [
    "First we take off some variables which we consider may not explain the target. Notice some of these variables are additional information if we alredy have the End_Lat and End_Lng, so we can take them off, they also present a lot of Nan's. We think these variables do not explain the severity of an accident, the effect of an accident on the traffic."
   ]
  },
  {
   "cell_type": "code",
   "execution_count": 41,
   "metadata": {},
   "outputs": [
    {
     "data": {
      "text/plain": [
       "(500000, 23)"
      ]
     },
     "execution_count": 41,
     "metadata": {},
     "output_type": "execute_result"
    }
   ],
   "source": [
    "data = data.drop(columns=['ID', 'Source', 'Description', 'Street', 'City', 'County', 'State', 'Zipcode', 'Country', 'Timezone', \n",
    "                          'Weather_Timestamp', 'End_Lat','End_Lng','Airport_Code','Wind_Chill(F)', 'Wind_Direction', 'Wind_Speed(mph)',\n",
    "                          'Precipitation(in)', 'Weather_Condition', 'Bump', 'Sunrise_Sunset', 'Civil_Twilight', 'Nautical_Twilight',])\n",
    "data.shape"
   ]
  },
  {
   "cell_type": "markdown",
   "metadata": {},
   "source": [
    "We have reduced the number of variables from 46 to 23."
   ]
  },
  {
   "cell_type": "code",
   "execution_count": 42,
   "metadata": {},
   "outputs": [
    {
     "data": {
      "text/plain": [
       "Index(['Severity', 'Start_Time', 'End_Time', 'Start_Lat', 'Start_Lng',\n",
       "       'Distance(mi)', 'Temperature(F)', 'Humidity(%)', 'Pressure(in)',\n",
       "       'Visibility(mi)', 'Amenity', 'Crossing', 'Give_Way', 'Junction',\n",
       "       'No_Exit', 'Railway', 'Roundabout', 'Station', 'Stop',\n",
       "       'Traffic_Calming', 'Traffic_Signal', 'Turning_Loop',\n",
       "       'Astronomical_Twilight'],\n",
       "      dtype='object')"
      ]
     },
     "execution_count": 42,
     "metadata": {},
     "output_type": "execute_result"
    }
   ],
   "source": [
    "data.columns"
   ]
  },
  {
   "cell_type": "markdown",
   "metadata": {},
   "source": [
    "The Start_Time and End_Time variables cause some problems since they are strings and are difficult to compute. In order to avoid further problems we will create a new variable called Elapsed_Time, which will be the difference between End_Time and Start_Time."
   ]
  },
  {
   "cell_type": "code",
   "execution_count": 43,
   "metadata": {},
   "outputs": [
    {
     "data": {
      "text/plain": [
       "0"
      ]
     },
     "execution_count": 43,
     "metadata": {},
     "output_type": "execute_result"
    }
   ],
   "source": [
    "data['Start_Time'].isna().sum()"
   ]
  },
  {
   "cell_type": "code",
   "execution_count": 44,
   "metadata": {},
   "outputs": [
    {
     "data": {
      "text/plain": [
       "0"
      ]
     },
     "execution_count": 44,
     "metadata": {},
     "output_type": "execute_result"
    }
   ],
   "source": [
    "data['End_Time'].isna().sum()"
   ]
  },
  {
   "cell_type": "markdown",
   "metadata": {},
   "source": [
    "These two variables do not present any Nan, so we can proceed creating this new variable."
   ]
  },
  {
   "cell_type": "code",
   "execution_count": 45,
   "metadata": {},
   "outputs": [
    {
     "data": {
      "text/plain": [
       "(500000, 29)"
      ]
     },
     "execution_count": 45,
     "metadata": {},
     "output_type": "execute_result"
    }
   ],
   "source": [
    "time_elapsed: list[int] = list()\n",
    "years: list[int] = list()\n",
    "months: list[int] = list()\n",
    "days: list[int] = list()\n",
    "hours: list[int] = list()\n",
    "weekdays: list[int] = list()\n",
    "\n",
    "for start_time, end_time in zip(data['Start_Time'], data['End_Time']):\n",
    "\n",
    "    years.append(int(start_time[:4]))\n",
    "    months.append(int(start_time[5:7]))\n",
    "    days.append(int(start_time[8:10]))\n",
    "    hours.append(int(start_time[11:13]))\n",
    "\n",
    "    start_time = start_time.split('.')[0]\n",
    "    end_time = end_time.split('.')[0]\n",
    "\n",
    "    weekdays.append(datetime.strptime(start_time, '%Y-%m-%d %H:%M:%S').weekday())\n",
    "\n",
    "    start = datetime.strptime(start_time, '%Y-%m-%d %H:%M:%S')\n",
    "    end = datetime.strptime(end_time, '%Y-%m-%d %H:%M:%S')\n",
    "\n",
    "    time_elapsed.append((end-start).seconds)\n",
    "\n",
    "data['Time_Difference'] = pd.DataFrame(time_elapsed)\n",
    "data['Year'] = pd.DataFrame(years)\n",
    "data['Month'] = pd.DataFrame(months)\n",
    "data['Day'] = pd.DataFrame(days)\n",
    "data['Hour'] = pd.DataFrame(hours)\n",
    "data['Weekday'] = pd.DataFrame(weekdays)\n",
    "\n",
    "data.shape"
   ]
  },
  {
   "cell_type": "markdown",
   "metadata": {},
   "source": [
    "Now that we have this information in this new variable, we can take off 'Start_Time' and 'End_Time'."
   ]
  },
  {
   "cell_type": "code",
   "execution_count": 60,
   "metadata": {},
   "outputs": [
    {
     "data": {
      "text/plain": [
       "(500000, 27)"
      ]
     },
     "execution_count": 60,
     "metadata": {},
     "output_type": "execute_result"
    }
   ],
   "source": [
    "data_w_c = data.drop(columns=['Start_Time', 'End_Time'])\n",
    "data_w_c.shape"
   ]
  },
  {
   "cell_type": "markdown",
   "metadata": {},
   "source": [
    "# Section 2: Dealing with missing values"
   ]
  },
  {
   "cell_type": "markdown",
   "metadata": {},
   "source": [
    "Let's see the summary of our dataset now in order to Identify possibles Nan's."
   ]
  },
  {
   "cell_type": "code",
   "execution_count": 61,
   "metadata": {},
   "outputs": [
    {
     "name": "stdout",
     "output_type": "stream",
     "text": [
      "<class 'pandas.core.frame.DataFrame'>\n",
      "RangeIndex: 500000 entries, 0 to 499999\n",
      "Data columns (total 27 columns):\n",
      " #   Column                 Non-Null Count   Dtype  \n",
      "---  ------                 --------------   -----  \n",
      " 0   Severity               500000 non-null  int64  \n",
      " 1   Start_Lat              500000 non-null  float64\n",
      " 2   Start_Lng              500000 non-null  float64\n",
      " 3   Distance(mi)           500000 non-null  float64\n",
      " 4   Temperature(F)         489534 non-null  float64\n",
      " 5   Humidity(%)            488870 non-null  float64\n",
      " 6   Pressure(in)           491072 non-null  float64\n",
      " 7   Visibility(mi)         488709 non-null  float64\n",
      " 8   Amenity                500000 non-null  bool   \n",
      " 9   Crossing               500000 non-null  bool   \n",
      " 10  Give_Way               500000 non-null  bool   \n",
      " 11  Junction               500000 non-null  bool   \n",
      " 12  No_Exit                500000 non-null  bool   \n",
      " 13  Railway                500000 non-null  bool   \n",
      " 14  Roundabout             500000 non-null  bool   \n",
      " 15  Station                500000 non-null  bool   \n",
      " 16  Stop                   500000 non-null  bool   \n",
      " 17  Traffic_Calming        500000 non-null  bool   \n",
      " 18  Traffic_Signal         500000 non-null  bool   \n",
      " 19  Turning_Loop           500000 non-null  bool   \n",
      " 20  Astronomical_Twilight  498517 non-null  object \n",
      " 21  Time_Difference        500000 non-null  int64  \n",
      " 22  Year                   500000 non-null  int64  \n",
      " 23  Month                  500000 non-null  int64  \n",
      " 24  Day                    500000 non-null  int64  \n",
      " 25  Hour                   500000 non-null  int64  \n",
      " 26  Weekday                500000 non-null  int64  \n",
      "dtypes: bool(12), float64(7), int64(7), object(1)\n",
      "memory usage: 62.9+ MB\n"
     ]
    }
   ],
   "source": [
    "data_w_c.info()"
   ]
  },
  {
   "cell_type": "markdown",
   "metadata": {},
   "source": [
    "The target value severity is categorical and Python identifies it as an int, so lets correct this. Also for the bool variables, let's make them an object. Some time variables will be converted to object too, those who take discrete values into an small set, like Day (1-31), Hour (0-23), Weekday (0-6) and Month(1-12)."
   ]
  },
  {
   "cell_type": "code",
   "execution_count": 65,
   "metadata": {},
   "outputs": [],
   "source": [
    "data_w_c.Severity = data_w_c.Severity.astype('object')\n",
    "for column in ['Amenity', 'Crossing', 'Give_Way', 'Junction', 'No_Exit', 'Railway', 'Roundabout', 'Station', 'Stop', 'Traffic_Calming', 'Traffic_Signal', 'Turning_Loop','Month','Weekday','Day','Hour']:\n",
    "    data_w_c[column] = data_w_c[column].astype('object')"
   ]
  },
  {
   "cell_type": "code",
   "execution_count": 66,
   "metadata": {},
   "outputs": [
    {
     "name": "stdout",
     "output_type": "stream",
     "text": [
      "<class 'pandas.core.frame.DataFrame'>\n",
      "RangeIndex: 500000 entries, 0 to 499999\n",
      "Data columns (total 27 columns):\n",
      " #   Column                 Non-Null Count   Dtype  \n",
      "---  ------                 --------------   -----  \n",
      " 0   Severity               500000 non-null  object \n",
      " 1   Start_Lat              500000 non-null  float64\n",
      " 2   Start_Lng              500000 non-null  float64\n",
      " 3   Distance(mi)           500000 non-null  float64\n",
      " 4   Temperature(F)         489534 non-null  float64\n",
      " 5   Humidity(%)            488870 non-null  float64\n",
      " 6   Pressure(in)           491072 non-null  float64\n",
      " 7   Visibility(mi)         488709 non-null  float64\n",
      " 8   Amenity                500000 non-null  object \n",
      " 9   Crossing               500000 non-null  object \n",
      " 10  Give_Way               500000 non-null  object \n",
      " 11  Junction               500000 non-null  object \n",
      " 12  No_Exit                500000 non-null  object \n",
      " 13  Railway                500000 non-null  object \n",
      " 14  Roundabout             500000 non-null  object \n",
      " 15  Station                500000 non-null  object \n",
      " 16  Stop                   500000 non-null  object \n",
      " 17  Traffic_Calming        500000 non-null  object \n",
      " 18  Traffic_Signal         500000 non-null  object \n",
      " 19  Turning_Loop           500000 non-null  object \n",
      " 20  Astronomical_Twilight  498517 non-null  object \n",
      " 21  Time_Difference        500000 non-null  int64  \n",
      " 22  Year                   500000 non-null  int64  \n",
      " 23  Month                  500000 non-null  object \n",
      " 24  Day                    500000 non-null  object \n",
      " 25  Hour                   500000 non-null  object \n",
      " 26  Weekday                500000 non-null  object \n",
      "dtypes: float64(7), int64(2), object(18)\n",
      "memory usage: 103.0+ MB\n"
     ]
    }
   ],
   "source": [
    "data_w_c.info()"
   ]
  },
  {
   "cell_type": "markdown",
   "metadata": {},
   "source": [
    "First we will compute the missing values for categorical variables and then for the continuous."
   ]
  },
  {
   "cell_type": "code",
   "execution_count": 67,
   "metadata": {},
   "outputs": [
    {
     "data": {
      "text/html": [
       "<div>\n",
       "<style scoped>\n",
       "    .dataframe tbody tr th:only-of-type {\n",
       "        vertical-align: middle;\n",
       "    }\n",
       "\n",
       "    .dataframe tbody tr th {\n",
       "        vertical-align: top;\n",
       "    }\n",
       "\n",
       "    .dataframe thead th {\n",
       "        text-align: right;\n",
       "    }\n",
       "</style>\n",
       "<table border=\"1\" class=\"dataframe\">\n",
       "  <thead>\n",
       "    <tr style=\"text-align: right;\">\n",
       "      <th></th>\n",
       "      <th>Severity</th>\n",
       "      <th>Amenity</th>\n",
       "      <th>Crossing</th>\n",
       "      <th>Give_Way</th>\n",
       "      <th>Junction</th>\n",
       "      <th>No_Exit</th>\n",
       "      <th>Railway</th>\n",
       "      <th>Roundabout</th>\n",
       "      <th>Station</th>\n",
       "      <th>Stop</th>\n",
       "      <th>Traffic_Calming</th>\n",
       "      <th>Traffic_Signal</th>\n",
       "      <th>Turning_Loop</th>\n",
       "      <th>Astronomical_Twilight</th>\n",
       "      <th>Month</th>\n",
       "      <th>Day</th>\n",
       "      <th>Hour</th>\n",
       "      <th>Weekday</th>\n",
       "    </tr>\n",
       "  </thead>\n",
       "  <tbody>\n",
       "    <tr>\n",
       "      <th>count</th>\n",
       "      <td>500000</td>\n",
       "      <td>500000</td>\n",
       "      <td>500000</td>\n",
       "      <td>500000</td>\n",
       "      <td>500000</td>\n",
       "      <td>500000</td>\n",
       "      <td>500000</td>\n",
       "      <td>500000</td>\n",
       "      <td>500000</td>\n",
       "      <td>500000</td>\n",
       "      <td>500000</td>\n",
       "      <td>500000</td>\n",
       "      <td>500000</td>\n",
       "      <td>498517</td>\n",
       "      <td>500000</td>\n",
       "      <td>500000</td>\n",
       "      <td>500000</td>\n",
       "      <td>500000</td>\n",
       "    </tr>\n",
       "    <tr>\n",
       "      <th>unique</th>\n",
       "      <td>4</td>\n",
       "      <td>2</td>\n",
       "      <td>2</td>\n",
       "      <td>2</td>\n",
       "      <td>2</td>\n",
       "      <td>2</td>\n",
       "      <td>2</td>\n",
       "      <td>2</td>\n",
       "      <td>2</td>\n",
       "      <td>2</td>\n",
       "      <td>2</td>\n",
       "      <td>2</td>\n",
       "      <td>1</td>\n",
       "      <td>2</td>\n",
       "      <td>12</td>\n",
       "      <td>31</td>\n",
       "      <td>24</td>\n",
       "      <td>7</td>\n",
       "    </tr>\n",
       "    <tr>\n",
       "      <th>top</th>\n",
       "      <td>2</td>\n",
       "      <td>False</td>\n",
       "      <td>False</td>\n",
       "      <td>False</td>\n",
       "      <td>False</td>\n",
       "      <td>False</td>\n",
       "      <td>False</td>\n",
       "      <td>False</td>\n",
       "      <td>False</td>\n",
       "      <td>False</td>\n",
       "      <td>False</td>\n",
       "      <td>False</td>\n",
       "      <td>False</td>\n",
       "      <td>Day</td>\n",
       "      <td>12</td>\n",
       "      <td>23</td>\n",
       "      <td>7</td>\n",
       "      <td>4</td>\n",
       "    </tr>\n",
       "    <tr>\n",
       "      <th>freq</th>\n",
       "      <td>398142</td>\n",
       "      <td>493809</td>\n",
       "      <td>443747</td>\n",
       "      <td>497638</td>\n",
       "      <td>462993</td>\n",
       "      <td>498755</td>\n",
       "      <td>495680</td>\n",
       "      <td>499987</td>\n",
       "      <td>487002</td>\n",
       "      <td>485937</td>\n",
       "      <td>499534</td>\n",
       "      <td>425965</td>\n",
       "      <td>500000</td>\n",
       "      <td>412242</td>\n",
       "      <td>54589</td>\n",
       "      <td>18159</td>\n",
       "      <td>37988</td>\n",
       "      <td>88766</td>\n",
       "    </tr>\n",
       "  </tbody>\n",
       "</table>\n",
       "</div>"
      ],
      "text/plain": [
       "        Severity Amenity Crossing Give_Way Junction No_Exit Railway  \\\n",
       "count     500000  500000   500000   500000   500000  500000  500000   \n",
       "unique         4       2        2        2        2       2       2   \n",
       "top            2   False    False    False    False   False   False   \n",
       "freq      398142  493809   443747   497638   462993  498755  495680   \n",
       "\n",
       "       Roundabout Station    Stop Traffic_Calming Traffic_Signal Turning_Loop  \\\n",
       "count      500000  500000  500000          500000         500000       500000   \n",
       "unique          2       2       2               2              2            1   \n",
       "top         False   False   False           False          False        False   \n",
       "freq       499987  487002  485937          499534         425965       500000   \n",
       "\n",
       "       Astronomical_Twilight   Month     Day    Hour  Weekday  \n",
       "count                 498517  500000  500000  500000   500000  \n",
       "unique                     2      12      31      24        7  \n",
       "top                      Day      12      23       7        4  \n",
       "freq                  412242   54589   18159   37988    88766  "
      ]
     },
     "execution_count": 67,
     "metadata": {},
     "output_type": "execute_result"
    }
   ],
   "source": [
    "data_w_c.describe(include=['O'])"
   ]
  },
  {
   "cell_type": "markdown",
   "metadata": {},
   "source": [
    "It does not seem to be any missing value for the categorical values of the dataset, using the information available from the description. There are some Nan's, but these are detected by Python, so for the moment there is anything to worry about."
   ]
  },
  {
   "cell_type": "markdown",
   "metadata": {},
   "source": [
    "Now let's do the same for numerical variables."
   ]
  },
  {
   "cell_type": "code",
   "execution_count": 68,
   "metadata": {},
   "outputs": [
    {
     "data": {
      "text/html": [
       "<div>\n",
       "<style scoped>\n",
       "    .dataframe tbody tr th:only-of-type {\n",
       "        vertical-align: middle;\n",
       "    }\n",
       "\n",
       "    .dataframe tbody tr th {\n",
       "        vertical-align: top;\n",
       "    }\n",
       "\n",
       "    .dataframe thead th {\n",
       "        text-align: right;\n",
       "    }\n",
       "</style>\n",
       "<table border=\"1\" class=\"dataframe\">\n",
       "  <thead>\n",
       "    <tr style=\"text-align: right;\">\n",
       "      <th></th>\n",
       "      <th>Start_Lat</th>\n",
       "      <th>Start_Lng</th>\n",
       "      <th>Distance(mi)</th>\n",
       "      <th>Temperature(F)</th>\n",
       "      <th>Humidity(%)</th>\n",
       "      <th>Pressure(in)</th>\n",
       "      <th>Visibility(mi)</th>\n",
       "      <th>Time_Difference</th>\n",
       "      <th>Year</th>\n",
       "    </tr>\n",
       "  </thead>\n",
       "  <tbody>\n",
       "    <tr>\n",
       "      <th>count</th>\n",
       "      <td>500000.000000</td>\n",
       "      <td>500000.000000</td>\n",
       "      <td>500000.000000</td>\n",
       "      <td>489534.000000</td>\n",
       "      <td>488870.000000</td>\n",
       "      <td>491072.000000</td>\n",
       "      <td>488709.000000</td>\n",
       "      <td>500000.000000</td>\n",
       "      <td>500000.000000</td>\n",
       "    </tr>\n",
       "    <tr>\n",
       "      <th>mean</th>\n",
       "      <td>36.206421</td>\n",
       "      <td>-94.736583</td>\n",
       "      <td>0.564317</td>\n",
       "      <td>61.646254</td>\n",
       "      <td>64.834921</td>\n",
       "      <td>29.536621</td>\n",
       "      <td>9.091540</td>\n",
       "      <td>6532.913214</td>\n",
       "      <td>2019.906596</td>\n",
       "    </tr>\n",
       "    <tr>\n",
       "      <th>std</th>\n",
       "      <td>5.071411</td>\n",
       "      <td>17.405761</td>\n",
       "      <td>1.774872</td>\n",
       "      <td>19.000133</td>\n",
       "      <td>22.826158</td>\n",
       "      <td>1.008666</td>\n",
       "      <td>2.708083</td>\n",
       "      <td>7566.691113</td>\n",
       "      <td>1.913944</td>\n",
       "    </tr>\n",
       "    <tr>\n",
       "      <th>min</th>\n",
       "      <td>24.562117</td>\n",
       "      <td>-124.497420</td>\n",
       "      <td>0.000000</td>\n",
       "      <td>-77.800000</td>\n",
       "      <td>1.000000</td>\n",
       "      <td>0.120000</td>\n",
       "      <td>0.000000</td>\n",
       "      <td>0.000000</td>\n",
       "      <td>2016.000000</td>\n",
       "    </tr>\n",
       "    <tr>\n",
       "      <th>25%</th>\n",
       "      <td>33.416823</td>\n",
       "      <td>-117.233047</td>\n",
       "      <td>0.000000</td>\n",
       "      <td>49.000000</td>\n",
       "      <td>48.000000</td>\n",
       "      <td>29.370000</td>\n",
       "      <td>10.000000</td>\n",
       "      <td>1890.000000</td>\n",
       "      <td>2018.000000</td>\n",
       "    </tr>\n",
       "    <tr>\n",
       "      <th>50%</th>\n",
       "      <td>35.832147</td>\n",
       "      <td>-87.794365</td>\n",
       "      <td>0.029000</td>\n",
       "      <td>64.000000</td>\n",
       "      <td>67.000000</td>\n",
       "      <td>29.860000</td>\n",
       "      <td>10.000000</td>\n",
       "      <td>4488.000000</td>\n",
       "      <td>2020.000000</td>\n",
       "    </tr>\n",
       "    <tr>\n",
       "      <th>75%</th>\n",
       "      <td>40.082443</td>\n",
       "      <td>-80.359601</td>\n",
       "      <td>0.465000</td>\n",
       "      <td>76.000000</td>\n",
       "      <td>84.000000</td>\n",
       "      <td>30.030000</td>\n",
       "      <td>10.000000</td>\n",
       "      <td>7485.000000</td>\n",
       "      <td>2022.000000</td>\n",
       "    </tr>\n",
       "    <tr>\n",
       "      <th>max</th>\n",
       "      <td>48.999569</td>\n",
       "      <td>-67.484130</td>\n",
       "      <td>193.479996</td>\n",
       "      <td>207.000000</td>\n",
       "      <td>100.000000</td>\n",
       "      <td>38.440000</td>\n",
       "      <td>130.000000</td>\n",
       "      <td>86399.000000</td>\n",
       "      <td>2023.000000</td>\n",
       "    </tr>\n",
       "  </tbody>\n",
       "</table>\n",
       "</div>"
      ],
      "text/plain": [
       "           Start_Lat      Start_Lng   Distance(mi)  Temperature(F)  \\\n",
       "count  500000.000000  500000.000000  500000.000000   489534.000000   \n",
       "mean       36.206421     -94.736583       0.564317       61.646254   \n",
       "std         5.071411      17.405761       1.774872       19.000133   \n",
       "min        24.562117    -124.497420       0.000000      -77.800000   \n",
       "25%        33.416823    -117.233047       0.000000       49.000000   \n",
       "50%        35.832147     -87.794365       0.029000       64.000000   \n",
       "75%        40.082443     -80.359601       0.465000       76.000000   \n",
       "max        48.999569     -67.484130     193.479996      207.000000   \n",
       "\n",
       "         Humidity(%)   Pressure(in)  Visibility(mi)  Time_Difference  \\\n",
       "count  488870.000000  491072.000000   488709.000000    500000.000000   \n",
       "mean       64.834921      29.536621        9.091540      6532.913214   \n",
       "std        22.826158       1.008666        2.708083      7566.691113   \n",
       "min         1.000000       0.120000        0.000000         0.000000   \n",
       "25%        48.000000      29.370000       10.000000      1890.000000   \n",
       "50%        67.000000      29.860000       10.000000      4488.000000   \n",
       "75%        84.000000      30.030000       10.000000      7485.000000   \n",
       "max       100.000000      38.440000      130.000000     86399.000000   \n",
       "\n",
       "                Year  \n",
       "count  500000.000000  \n",
       "mean     2019.906596  \n",
       "std         1.913944  \n",
       "min      2016.000000  \n",
       "25%      2018.000000  \n",
       "50%      2020.000000  \n",
       "75%      2022.000000  \n",
       "max      2023.000000  "
      ]
     },
     "execution_count": 68,
     "metadata": {},
     "output_type": "execute_result"
    }
   ],
   "source": [
    "data_w_c.describe(include=['int', 'float'])"
   ]
  },
  {
   "cell_type": "markdown",
   "metadata": {},
   "source": []
  },
  {
   "cell_type": "markdown",
   "metadata": {},
   "source": [
    "The Distance variable contains some 0's, it cannot be since if there has been an accident, the lenght of the road affected by it is greater than 0. The temperature of 200 F is not possible here, so it is also a Nan, the same with temperatures smaller then -40 F.The humidity percentage contains some 1, it is very low and cannot be real so we compute it as a missing value, the same for one of 100%. The minimum of the pressure (0.12 in) is very low for a place in the Earth, so there are also missing values there. A visibility of 0 miles is also a missing value, although it could be due to a climatological adversity, the same for 130 miles."
   ]
  },
  {
   "cell_type": "code",
   "execution_count": 69,
   "metadata": {},
   "outputs": [
    {
     "data": {
      "text/plain": [
       "<Axes: >"
      ]
     },
     "execution_count": 69,
     "metadata": {},
     "output_type": "execute_result"
    },
    {
     "data": {
      "image/png": "[encoded data removed]",
      "text/plain": [
       "<Figure size 640x480 with 1 Axes>"
      ]
     },
     "metadata": {},
     "output_type": "display_data"
    }
   ],
   "source": [
    "data_w_c['Distance(mi)'].hist()"
   ]
  },
  {
   "cell_type": "code",
   "execution_count": 73,
   "metadata": {},
   "outputs": [
    {
     "data": {
      "text/plain": [
       "<Axes: >"
      ]
     },
     "execution_count": 73,
     "metadata": {},
     "output_type": "execute_result"
    },
    {
     "data": {
      "image/png": "[encoded data removed]",
      "text/plain": [
       "<Figure size 640x480 with 1 Axes>"
      ]
     },
     "metadata": {},
     "output_type": "display_data"
    }
   ],
   "source": [
    "data_w_c['Distance(mi)'][(data_w_c['Distance(mi)'] != 0)].hist()"
   ]
  },
  {
   "cell_type": "code",
   "execution_count": 74,
   "metadata": {},
   "outputs": [
    {
     "data": {
      "text/plain": [
       "<Axes: >"
      ]
     },
     "execution_count": 74,
     "metadata": {},
     "output_type": "execute_result"
    },
    {
     "data": {
      "image/png": "[encoded data removed]",
      "text/plain": [
       "<Figure size 640x480 with 1 Axes>"
      ]
     },
     "metadata": {},
     "output_type": "display_data"
    }
   ],
   "source": [
    "data_w_c['Temperature(F)'].hist()"
   ]
  },
  {
   "cell_type": "code",
   "execution_count": 75,
   "metadata": {},
   "outputs": [
    {
     "data": {
      "text/plain": [
       "<Axes: >"
      ]
     },
     "execution_count": 75,
     "metadata": {},
     "output_type": "execute_result"
    },
    {
     "data": {
      "image/png": "[encoded data removed]",
      "text/plain": [
       "<Figure size 640x480 with 1 Axes>"
      ]
     },
     "metadata": {},
     "output_type": "display_data"
    }
   ],
   "source": [
    "data_w_c['Temperature(F)'][(data_w_c['Temperature(F)'] <= 200)&(data_w_c['Temperature(F)'] > -50)].hist()"
   ]
  },
  {
   "cell_type": "code",
   "execution_count": 76,
   "metadata": {},
   "outputs": [
    {
     "data": {
      "text/plain": [
       "<Axes: >"
      ]
     },
     "execution_count": 76,
     "metadata": {},
     "output_type": "execute_result"
    },
    {
     "data": {
      "image/png": "[encoded data removed]",
      "text/plain": [
       "<Figure size 640x480 with 1 Axes>"
      ]
     },
     "metadata": {},
     "output_type": "display_data"
    }
   ],
   "source": [
    "data_w_c['Humidity(%)'].hist()"
   ]
  },
  {
   "cell_type": "code",
   "execution_count": 77,
   "metadata": {},
   "outputs": [
    {
     "data": {
      "text/plain": [
       "<Axes: >"
      ]
     },
     "execution_count": 77,
     "metadata": {},
     "output_type": "execute_result"
    },
    {
     "data": {
      "image/png": "[encoded data removed]",
      "text/plain": [
       "<Figure size 640x480 with 1 Axes>"
      ]
     },
     "metadata": {},
     "output_type": "display_data"
    }
   ],
   "source": [
    "data_w_c['Humidity(%)'][(data_w_c['Humidity(%)'] !=1)&(data_w_c['Humidity(%)'] != 100)].hist()"
   ]
  },
  {
   "cell_type": "code",
   "execution_count": 78,
   "metadata": {},
   "outputs": [
    {
     "data": {
      "text/plain": [
       "<Axes: >"
      ]
     },
     "execution_count": 78,
     "metadata": {},
     "output_type": "execute_result"
    },
    {
     "data": {
      "image/png": "[encoded data removed]",
      "text/plain": [
       "<Figure size 640x480 with 1 Axes>"
      ]
     },
     "metadata": {},
     "output_type": "display_data"
    }
   ],
   "source": [
    "data_w_c['Pressure(in)'].hist()"
   ]
  },
  {
   "cell_type": "code",
   "execution_count": 79,
   "metadata": {},
   "outputs": [
    {
     "data": {
      "text/plain": [
       "<Axes: >"
      ]
     },
     "execution_count": 79,
     "metadata": {},
     "output_type": "execute_result"
    },
    {
     "data": {
      "image/png": "[encoded data removed]",
      "text/plain": [
       "<Figure size 640x480 with 1 Axes>"
      ]
     },
     "metadata": {},
     "output_type": "display_data"
    }
   ],
   "source": [
    "data_w_c['Pressure(in)'][(data_w_c['Pressure(in)'] > 3)].hist()"
   ]
  },
  {
   "cell_type": "code",
   "execution_count": 80,
   "metadata": {},
   "outputs": [
    {
     "data": {
      "text/plain": [
       "<Axes: >"
      ]
     },
     "execution_count": 80,
     "metadata": {},
     "output_type": "execute_result"
    },
    {
     "data": {
      "image/png": "[encoded data removed]",
      "text/plain": [
       "<Figure size 640x480 with 1 Axes>"
      ]
     },
     "metadata": {},
     "output_type": "display_data"
    }
   ],
   "source": [
    "data_w_c['Visibility(mi)'].hist()"
   ]
  },
  {
   "cell_type": "code",
   "execution_count": 81,
   "metadata": {},
   "outputs": [
    {
     "data": {
      "text/plain": [
       "<Axes: >"
      ]
     },
     "execution_count": 81,
     "metadata": {},
     "output_type": "execute_result"
    },
    {
     "data": {
      "image/png": "[encoded data removed]",
      "text/plain": [
       "<Figure size 640x480 with 1 Axes>"
      ]
     },
     "metadata": {},
     "output_type": "display_data"
    }
   ],
   "source": [
    "data_w_c['Visibility(mi)'][(data_w_c['Visibility(mi)'] != 0) & (data_w_c['Visibility(mi)'] != 130)].hist()"
   ]
  },
  {
   "cell_type": "code",
   "execution_count": 82,
   "metadata": {},
   "outputs": [
    {
     "data": {
      "text/plain": [
       "Visibility(mi)\n",
       "False    499481\n",
       "True        519\n",
       "Name: count, dtype: int64"
      ]
     },
     "execution_count": 82,
     "metadata": {},
     "output_type": "execute_result"
    }
   ],
   "source": [
    "((data_w_c['Visibility(mi)'] == 0) | (data_w_c['Visibility(mi)'] == 130)).value_counts()"
   ]
  },
  {
   "cell_type": "markdown",
   "metadata": {},
   "source": [
    "We set the 300 mph bound because it is the aproximately point of the wind's speed in a hurricane."
   ]
  },
  {
   "cell_type": "markdown",
   "metadata": {},
   "source": [
    "Now that we have seen some missing values in our data, we will set no NA the values seen here in order to impute a prediction using the KNN algorithm."
   ]
  },
  {
   "cell_type": "code",
   "execution_count": 83,
   "metadata": {},
   "outputs": [
    {
     "name": "stderr",
     "output_type": "stream",
     "text": [
      "C:\\Users\\mique\\AppData\\Local\\Temp\\ipykernel_6948\\3770805335.py:1: FutureWarning: ChainedAssignmentError: behaviour will change in pandas 3.0!\n",
      "You are setting values through chained assignment. Currently this works in certain cases, but when using Copy-on-Write (which will become the default behaviour in pandas 3.0) this will never work to update the original DataFrame or Series, because the intermediate object on which we are setting values will behave as a copy.\n",
      "A typical example is when you are setting values in a column of a DataFrame, like:\n",
      "\n",
      "df[\"col\"][row_indexer] = value\n",
      "\n",
      "Use `df.loc[row_indexer, \"col\"] = values` instead, to perform the assignment in a single step and ensure this keeps updating the original `df`.\n",
      "\n",
      "See the caveats in the documentation: https://pandas.pydata.org/pandas-docs/stable/user_guide/indexing.html#returning-a-view-versus-a-copy\n",
      "\n",
      "  data_w_c['Distance(mi)'][(data_w_c['Distance(mi)'] == 0)] = np.nan\n",
      "C:\\Users\\mique\\AppData\\Local\\Temp\\ipykernel_6948\\3770805335.py:1: SettingWithCopyWarning: \n",
      "A value is trying to be set on a copy of a slice from a DataFrame\n",
      "\n",
      "See the caveats in the documentation: https://pandas.pydata.org/pandas-docs/stable/user_guide/indexing.html#returning-a-view-versus-a-copy\n",
      "  data_w_c['Distance(mi)'][(data_w_c['Distance(mi)'] == 0)] = np.nan\n",
      "C:\\Users\\mique\\AppData\\Local\\Temp\\ipykernel_6948\\3770805335.py:2: FutureWarning: ChainedAssignmentError: behaviour will change in pandas 3.0!\n",
      "You are setting values through chained assignment. Currently this works in certain cases, but when using Copy-on-Write (which will become the default behaviour in pandas 3.0) this will never work to update the original DataFrame or Series, because the intermediate object on which we are setting values will behave as a copy.\n",
      "A typical example is when you are setting values in a column of a DataFrame, like:\n",
      "\n",
      "df[\"col\"][row_indexer] = value\n",
      "\n",
      "Use `df.loc[row_indexer, \"col\"] = values` instead, to perform the assignment in a single step and ensure this keeps updating the original `df`.\n",
      "\n",
      "See the caveats in the documentation: https://pandas.pydata.org/pandas-docs/stable/user_guide/indexing.html#returning-a-view-versus-a-copy\n",
      "\n",
      "  data_w_c['Temperature(F)'][(data_w_c['Temperature(F)'] >= 200)|(data_w_c['Temperature(F)'] <= -50)] = np.nan\n",
      "C:\\Users\\mique\\AppData\\Local\\Temp\\ipykernel_6948\\3770805335.py:2: SettingWithCopyWarning: \n",
      "A value is trying to be set on a copy of a slice from a DataFrame\n",
      "\n",
      "See the caveats in the documentation: https://pandas.pydata.org/pandas-docs/stable/user_guide/indexing.html#returning-a-view-versus-a-copy\n",
      "  data_w_c['Temperature(F)'][(data_w_c['Temperature(F)'] >= 200)|(data_w_c['Temperature(F)'] <= -50)] = np.nan\n",
      "C:\\Users\\mique\\AppData\\Local\\Temp\\ipykernel_6948\\3770805335.py:3: FutureWarning: ChainedAssignmentError: behaviour will change in pandas 3.0!\n",
      "You are setting values through chained assignment. Currently this works in certain cases, but when using Copy-on-Write (which will become the default behaviour in pandas 3.0) this will never work to update the original DataFrame or Series, because the intermediate object on which we are setting values will behave as a copy.\n",
      "A typical example is when you are setting values in a column of a DataFrame, like:\n",
      "\n",
      "df[\"col\"][row_indexer] = value\n",
      "\n",
      "Use `df.loc[row_indexer, \"col\"] = values` instead, to perform the assignment in a single step and ensure this keeps updating the original `df`.\n",
      "\n",
      "See the caveats in the documentation: https://pandas.pydata.org/pandas-docs/stable/user_guide/indexing.html#returning-a-view-versus-a-copy\n",
      "\n",
      "  data_w_c['Humidity(%)'][(data_w_c['Humidity(%)'] == 1)|(data_w_c['Humidity(%)'] == 100)] = np.nan\n",
      "C:\\Users\\mique\\AppData\\Local\\Temp\\ipykernel_6948\\3770805335.py:3: SettingWithCopyWarning: \n",
      "A value is trying to be set on a copy of a slice from a DataFrame\n",
      "\n",
      "See the caveats in the documentation: https://pandas.pydata.org/pandas-docs/stable/user_guide/indexing.html#returning-a-view-versus-a-copy\n",
      "  data_w_c['Humidity(%)'][(data_w_c['Humidity(%)'] == 1)|(data_w_c['Humidity(%)'] == 100)] = np.nan\n",
      "C:\\Users\\mique\\AppData\\Local\\Temp\\ipykernel_6948\\3770805335.py:4: FutureWarning: ChainedAssignmentError: behaviour will change in pandas 3.0!\n",
      "You are setting values through chained assignment. Currently this works in certain cases, but when using Copy-on-Write (which will become the default behaviour in pandas 3.0) this will never work to update the original DataFrame or Series, because the intermediate object on which we are setting values will behave as a copy.\n",
      "A typical example is when you are setting values in a column of a DataFrame, like:\n",
      "\n",
      "df[\"col\"][row_indexer] = value\n",
      "\n",
      "Use `df.loc[row_indexer, \"col\"] = values` instead, to perform the assignment in a single step and ensure this keeps updating the original `df`.\n",
      "\n",
      "See the caveats in the documentation: https://pandas.pydata.org/pandas-docs/stable/user_guide/indexing.html#returning-a-view-versus-a-copy\n",
      "\n",
      "  data_w_c['Pressure(in)'][(data_w_c['Pressure(in)'] < 3)] = np.nan\n",
      "C:\\Users\\mique\\AppData\\Local\\Temp\\ipykernel_6948\\3770805335.py:4: SettingWithCopyWarning: \n",
      "A value is trying to be set on a copy of a slice from a DataFrame\n",
      "\n",
      "See the caveats in the documentation: https://pandas.pydata.org/pandas-docs/stable/user_guide/indexing.html#returning-a-view-versus-a-copy\n",
      "  data_w_c['Pressure(in)'][(data_w_c['Pressure(in)'] < 3)] = np.nan\n",
      "C:\\Users\\mique\\AppData\\Local\\Temp\\ipykernel_6948\\3770805335.py:5: FutureWarning: ChainedAssignmentError: behaviour will change in pandas 3.0!\n",
      "You are setting values through chained assignment. Currently this works in certain cases, but when using Copy-on-Write (which will become the default behaviour in pandas 3.0) this will never work to update the original DataFrame or Series, because the intermediate object on which we are setting values will behave as a copy.\n",
      "A typical example is when you are setting values in a column of a DataFrame, like:\n",
      "\n",
      "df[\"col\"][row_indexer] = value\n",
      "\n",
      "Use `df.loc[row_indexer, \"col\"] = values` instead, to perform the assignment in a single step and ensure this keeps updating the original `df`.\n",
      "\n",
      "See the caveats in the documentation: https://pandas.pydata.org/pandas-docs/stable/user_guide/indexing.html#returning-a-view-versus-a-copy\n",
      "\n",
      "  data_w_c['Visibility(mi)'][(data_w_c['Visibility(mi)'] == 0)|(data_w_c['Visibility(mi)'] == 130)] = np.nan\n",
      "C:\\Users\\mique\\AppData\\Local\\Temp\\ipykernel_6948\\3770805335.py:5: SettingWithCopyWarning: \n",
      "A value is trying to be set on a copy of a slice from a DataFrame\n",
      "\n",
      "See the caveats in the documentation: https://pandas.pydata.org/pandas-docs/stable/user_guide/indexing.html#returning-a-view-versus-a-copy\n",
      "  data_w_c['Visibility(mi)'][(data_w_c['Visibility(mi)'] == 0)|(data_w_c['Visibility(mi)'] == 130)] = np.nan\n"
     ]
    }
   ],
   "source": [
    "data_w_c['Distance(mi)'][(data_w_c['Distance(mi)'] == 0)] = np.nan\n",
    "data_w_c['Temperature(F)'][(data_w_c['Temperature(F)'] >= 200)|(data_w_c['Temperature(F)'] <= -50)] = np.nan\n",
    "data_w_c['Humidity(%)'][(data_w_c['Humidity(%)'] == 1)|(data_w_c['Humidity(%)'] == 100)] = np.nan\n",
    "data_w_c['Pressure(in)'][(data_w_c['Pressure(in)'] < 3)] = np.nan\n",
    "data_w_c['Visibility(mi)'][(data_w_c['Visibility(mi)'] == 0)|(data_w_c['Visibility(mi)'] == 130)] = np.nan"
   ]
  },
  {
   "cell_type": "markdown",
   "metadata": {},
   "source": [
    "Let's see the difference in the description table of the numerical variables of the dataset."
   ]
  },
  {
   "cell_type": "code",
   "execution_count": 84,
   "metadata": {},
   "outputs": [
    {
     "data": {
      "text/html": [
       "<div>\n",
       "<style scoped>\n",
       "    .dataframe tbody tr th:only-of-type {\n",
       "        vertical-align: middle;\n",
       "    }\n",
       "\n",
       "    .dataframe tbody tr th {\n",
       "        vertical-align: top;\n",
       "    }\n",
       "\n",
       "    .dataframe thead th {\n",
       "        text-align: right;\n",
       "    }\n",
       "</style>\n",
       "<table border=\"1\" class=\"dataframe\">\n",
       "  <thead>\n",
       "    <tr style=\"text-align: right;\">\n",
       "      <th></th>\n",
       "      <th>Start_Lat</th>\n",
       "      <th>Start_Lng</th>\n",
       "      <th>Distance(mi)</th>\n",
       "      <th>Temperature(F)</th>\n",
       "      <th>Humidity(%)</th>\n",
       "      <th>Pressure(in)</th>\n",
       "      <th>Visibility(mi)</th>\n",
       "      <th>Time_Difference</th>\n",
       "      <th>Year</th>\n",
       "    </tr>\n",
       "  </thead>\n",
       "  <tbody>\n",
       "    <tr>\n",
       "      <th>count</th>\n",
       "      <td>500000.000000</td>\n",
       "      <td>500000.000000</td>\n",
       "      <td>286413.000000</td>\n",
       "      <td>489532.000000</td>\n",
       "      <td>470461.000000</td>\n",
       "      <td>491070.000000</td>\n",
       "      <td>488190.000000</td>\n",
       "      <td>500000.000000</td>\n",
       "      <td>500000.000000</td>\n",
       "    </tr>\n",
       "    <tr>\n",
       "      <th>mean</th>\n",
       "      <td>36.206421</td>\n",
       "      <td>-94.736583</td>\n",
       "      <td>0.985146</td>\n",
       "      <td>61.646242</td>\n",
       "      <td>63.459133</td>\n",
       "      <td>29.536735</td>\n",
       "      <td>9.100939</td>\n",
       "      <td>6532.913214</td>\n",
       "      <td>2019.906596</td>\n",
       "    </tr>\n",
       "    <tr>\n",
       "      <th>std</th>\n",
       "      <td>5.071411</td>\n",
       "      <td>17.405761</td>\n",
       "      <td>2.254945</td>\n",
       "      <td>18.997991</td>\n",
       "      <td>22.161575</td>\n",
       "      <td>1.007082</td>\n",
       "      <td>2.687707</td>\n",
       "      <td>7566.691113</td>\n",
       "      <td>1.913944</td>\n",
       "    </tr>\n",
       "    <tr>\n",
       "      <th>min</th>\n",
       "      <td>24.562117</td>\n",
       "      <td>-124.497420</td>\n",
       "      <td>0.001000</td>\n",
       "      <td>-35.000000</td>\n",
       "      <td>2.000000</td>\n",
       "      <td>19.360000</td>\n",
       "      <td>0.060000</td>\n",
       "      <td>0.000000</td>\n",
       "      <td>2016.000000</td>\n",
       "    </tr>\n",
       "    <tr>\n",
       "      <th>25%</th>\n",
       "      <td>33.416823</td>\n",
       "      <td>-117.233047</td>\n",
       "      <td>0.089000</td>\n",
       "      <td>49.000000</td>\n",
       "      <td>47.000000</td>\n",
       "      <td>29.370000</td>\n",
       "      <td>10.000000</td>\n",
       "      <td>1890.000000</td>\n",
       "      <td>2018.000000</td>\n",
       "    </tr>\n",
       "    <tr>\n",
       "      <th>50%</th>\n",
       "      <td>35.832147</td>\n",
       "      <td>-87.794365</td>\n",
       "      <td>0.344000</td>\n",
       "      <td>64.000000</td>\n",
       "      <td>66.000000</td>\n",
       "      <td>29.860000</td>\n",
       "      <td>10.000000</td>\n",
       "      <td>4488.000000</td>\n",
       "      <td>2020.000000</td>\n",
       "    </tr>\n",
       "    <tr>\n",
       "      <th>75%</th>\n",
       "      <td>40.082443</td>\n",
       "      <td>-80.359601</td>\n",
       "      <td>1.005000</td>\n",
       "      <td>76.000000</td>\n",
       "      <td>82.000000</td>\n",
       "      <td>30.030000</td>\n",
       "      <td>10.000000</td>\n",
       "      <td>7485.000000</td>\n",
       "      <td>2022.000000</td>\n",
       "    </tr>\n",
       "    <tr>\n",
       "      <th>max</th>\n",
       "      <td>48.999569</td>\n",
       "      <td>-67.484130</td>\n",
       "      <td>193.479996</td>\n",
       "      <td>196.000000</td>\n",
       "      <td>99.000000</td>\n",
       "      <td>38.440000</td>\n",
       "      <td>120.000000</td>\n",
       "      <td>86399.000000</td>\n",
       "      <td>2023.000000</td>\n",
       "    </tr>\n",
       "  </tbody>\n",
       "</table>\n",
       "</div>"
      ],
      "text/plain": [
       "           Start_Lat      Start_Lng   Distance(mi)  Temperature(F)  \\\n",
       "count  500000.000000  500000.000000  286413.000000   489532.000000   \n",
       "mean       36.206421     -94.736583       0.985146       61.646242   \n",
       "std         5.071411      17.405761       2.254945       18.997991   \n",
       "min        24.562117    -124.497420       0.001000      -35.000000   \n",
       "25%        33.416823    -117.233047       0.089000       49.000000   \n",
       "50%        35.832147     -87.794365       0.344000       64.000000   \n",
       "75%        40.082443     -80.359601       1.005000       76.000000   \n",
       "max        48.999569     -67.484130     193.479996      196.000000   \n",
       "\n",
       "         Humidity(%)   Pressure(in)  Visibility(mi)  Time_Difference  \\\n",
       "count  470461.000000  491070.000000   488190.000000    500000.000000   \n",
       "mean       63.459133      29.536735        9.100939      6532.913214   \n",
       "std        22.161575       1.007082        2.687707      7566.691113   \n",
       "min         2.000000      19.360000        0.060000         0.000000   \n",
       "25%        47.000000      29.370000       10.000000      1890.000000   \n",
       "50%        66.000000      29.860000       10.000000      4488.000000   \n",
       "75%        82.000000      30.030000       10.000000      7485.000000   \n",
       "max        99.000000      38.440000      120.000000     86399.000000   \n",
       "\n",
       "                Year  \n",
       "count  500000.000000  \n",
       "mean     2019.906596  \n",
       "std         1.913944  \n",
       "min      2016.000000  \n",
       "25%      2018.000000  \n",
       "50%      2020.000000  \n",
       "75%      2022.000000  \n",
       "max      2023.000000  "
      ]
     },
     "execution_count": 84,
     "metadata": {},
     "output_type": "execute_result"
    }
   ],
   "source": [
    "data_w_c.describe(include=['int', 'float'])"
   ]
  },
  {
   "cell_type": "markdown",
   "metadata": {},
   "source": [
    "Now we have set no NAN all those values that we have considered to be something strange, we will impute these values using the KNN algorithm."
   ]
  },
  {
   "cell_type": "code",
   "execution_count": 85,
   "metadata": {},
   "outputs": [
    {
     "data": {
      "image/png": "[encoded data removed]",
      "text/plain": [
       "<Figure size 1000x600 with 1 Axes>"
      ]
     },
     "metadata": {},
     "output_type": "display_data"
    }
   ],
   "source": [
    "# nan histogram\n",
    "nan_counts = data_w_c.isna().sum()\n",
    "nan_counts.plot(kind='bar', figsize=(10, 6))\n",
    "plt.xlabel('Columns')\n",
    "plt.ylabel('NaN Counts')\n",
    "plt.title('NaN Values in Dataset')\n",
    "plt.show()"
   ]
  },
  {
   "cell_type": "code",
   "execution_count": 86,
   "metadata": {},
   "outputs": [],
   "source": [
    "columns_with_nan = ['Distance(mi)', 'Temperature(F)', 'Humidity(%)', 'Pressure(in)', 'Visibility(mi)', 'Astronomical_Twilight']\n",
    "subset_data_w_c = data_w_c.drop(columns=columns_with_nan)"
   ]
  },
  {
   "cell_type": "code",
   "execution_count": 87,
   "metadata": {},
   "outputs": [
    {
     "data": {
      "text/plain": [
       "(500000, 21)"
      ]
     },
     "execution_count": 87,
     "metadata": {},
     "output_type": "execute_result"
    }
   ],
   "source": [
    "subset_data_w_c.shape"
   ]
  },
  {
   "cell_type": "code",
   "execution_count": 88,
   "metadata": {},
   "outputs": [
    {
     "data": {
      "text/plain": [
       "(500000, 27)"
      ]
     },
     "execution_count": 88,
     "metadata": {},
     "output_type": "execute_result"
    }
   ],
   "source": [
    "data_w_c.shape"
   ]
  },
  {
   "cell_type": "markdown",
   "metadata": {},
   "source": []
  },
  {
   "cell_type": "code",
   "execution_count": 89,
   "metadata": {},
   "outputs": [
    {
     "data": {
      "text/plain": [
       "(266357, 21)"
      ]
     },
     "execution_count": 89,
     "metadata": {},
     "output_type": "execute_result"
    }
   ],
   "source": [
    "rows_not_missing = data_w_c['Distance(mi)'].notna() & data_w_c['Temperature(F)'].notna() &  data_w_c['Humidity(%)'].notna() & data_w_c['Pressure(in)'].notna() & data_w_c['Visibility(mi)'].notna() & data_w_c['Astronomical_Twilight'].notna()\n",
    "data_w_c_without_missing = subset_data_w_c[rows_not_missing]\n",
    "data_w_c_without_missing.shape"
   ]
  },
  {
   "cell_type": "code",
   "execution_count": 90,
   "metadata": {},
   "outputs": [
    {
     "name": "stderr",
     "output_type": "stream",
     "text": [
      "C:\\Users\\mique\\AppData\\Local\\Temp\\ipykernel_6948\\1192817537.py:17: FutureWarning: ChainedAssignmentError: behaviour will change in pandas 3.0!\n",
      "You are setting values through chained assignment. Currently this works in certain cases, but when using Copy-on-Write (which will become the default behaviour in pandas 3.0) this will never work to update the original DataFrame or Series, because the intermediate object on which we are setting values will behave as a copy.\n",
      "A typical example is when you are setting values in a column of a DataFrame, like:\n",
      "\n",
      "df[\"col\"][row_indexer] = value\n",
      "\n",
      "Use `df.loc[row_indexer, \"col\"] = values` instead, to perform the assignment in a single step and ensure this keeps updating the original `df`.\n",
      "\n",
      "See the caveats in the documentation: https://pandas.pydata.org/pandas-docs/stable/user_guide/indexing.html#returning-a-view-versus-a-copy\n",
      "\n",
      "  data_w_c[column][data_w_c[column].isna()] = imputed_values\n",
      "C:\\Users\\mique\\AppData\\Local\\Temp\\ipykernel_6948\\1192817537.py:17: SettingWithCopyWarning: \n",
      "A value is trying to be set on a copy of a slice from a DataFrame\n",
      "\n",
      "See the caveats in the documentation: https://pandas.pydata.org/pandas-docs/stable/user_guide/indexing.html#returning-a-view-versus-a-copy\n",
      "  data_w_c[column][data_w_c[column].isna()] = imputed_values\n",
      "C:\\Users\\mique\\AppData\\Local\\Temp\\ipykernel_6948\\1192817537.py:17: FutureWarning: ChainedAssignmentError: behaviour will change in pandas 3.0!\n",
      "You are setting values through chained assignment. Currently this works in certain cases, but when using Copy-on-Write (which will become the default behaviour in pandas 3.0) this will never work to update the original DataFrame or Series, because the intermediate object on which we are setting values will behave as a copy.\n",
      "A typical example is when you are setting values in a column of a DataFrame, like:\n",
      "\n",
      "df[\"col\"][row_indexer] = value\n",
      "\n",
      "Use `df.loc[row_indexer, \"col\"] = values` instead, to perform the assignment in a single step and ensure this keeps updating the original `df`.\n",
      "\n",
      "See the caveats in the documentation: https://pandas.pydata.org/pandas-docs/stable/user_guide/indexing.html#returning-a-view-versus-a-copy\n",
      "\n",
      "  data_w_c[column][data_w_c[column].isna()] = imputed_values\n",
      "C:\\Users\\mique\\AppData\\Local\\Temp\\ipykernel_6948\\1192817537.py:17: SettingWithCopyWarning: \n",
      "A value is trying to be set on a copy of a slice from a DataFrame\n",
      "\n",
      "See the caveats in the documentation: https://pandas.pydata.org/pandas-docs/stable/user_guide/indexing.html#returning-a-view-versus-a-copy\n",
      "  data_w_c[column][data_w_c[column].isna()] = imputed_values\n",
      "C:\\Users\\mique\\AppData\\Local\\Temp\\ipykernel_6948\\1192817537.py:17: FutureWarning: ChainedAssignmentError: behaviour will change in pandas 3.0!\n",
      "You are setting values through chained assignment. Currently this works in certain cases, but when using Copy-on-Write (which will become the default behaviour in pandas 3.0) this will never work to update the original DataFrame or Series, because the intermediate object on which we are setting values will behave as a copy.\n",
      "A typical example is when you are setting values in a column of a DataFrame, like:\n",
      "\n",
      "df[\"col\"][row_indexer] = value\n",
      "\n",
      "Use `df.loc[row_indexer, \"col\"] = values` instead, to perform the assignment in a single step and ensure this keeps updating the original `df`.\n",
      "\n",
      "See the caveats in the documentation: https://pandas.pydata.org/pandas-docs/stable/user_guide/indexing.html#returning-a-view-versus-a-copy\n",
      "\n",
      "  data_w_c[column][data_w_c[column].isna()] = imputed_values\n",
      "C:\\Users\\mique\\AppData\\Local\\Temp\\ipykernel_6948\\1192817537.py:17: SettingWithCopyWarning: \n",
      "A value is trying to be set on a copy of a slice from a DataFrame\n",
      "\n",
      "See the caveats in the documentation: https://pandas.pydata.org/pandas-docs/stable/user_guide/indexing.html#returning-a-view-versus-a-copy\n",
      "  data_w_c[column][data_w_c[column].isna()] = imputed_values\n",
      "C:\\Users\\mique\\AppData\\Local\\Temp\\ipykernel_6948\\1192817537.py:17: FutureWarning: ChainedAssignmentError: behaviour will change in pandas 3.0!\n",
      "You are setting values through chained assignment. Currently this works in certain cases, but when using Copy-on-Write (which will become the default behaviour in pandas 3.0) this will never work to update the original DataFrame or Series, because the intermediate object on which we are setting values will behave as a copy.\n",
      "A typical example is when you are setting values in a column of a DataFrame, like:\n",
      "\n",
      "df[\"col\"][row_indexer] = value\n",
      "\n",
      "Use `df.loc[row_indexer, \"col\"] = values` instead, to perform the assignment in a single step and ensure this keeps updating the original `df`.\n",
      "\n",
      "See the caveats in the documentation: https://pandas.pydata.org/pandas-docs/stable/user_guide/indexing.html#returning-a-view-versus-a-copy\n",
      "\n",
      "  data_w_c[column][data_w_c[column].isna()] = imputed_values\n",
      "C:\\Users\\mique\\AppData\\Local\\Temp\\ipykernel_6948\\1192817537.py:17: SettingWithCopyWarning: \n",
      "A value is trying to be set on a copy of a slice from a DataFrame\n",
      "\n",
      "See the caveats in the documentation: https://pandas.pydata.org/pandas-docs/stable/user_guide/indexing.html#returning-a-view-versus-a-copy\n",
      "  data_w_c[column][data_w_c[column].isna()] = imputed_values\n",
      "C:\\Users\\mique\\AppData\\Local\\Temp\\ipykernel_6948\\1192817537.py:17: FutureWarning: ChainedAssignmentError: behaviour will change in pandas 3.0!\n",
      "You are setting values through chained assignment. Currently this works in certain cases, but when using Copy-on-Write (which will become the default behaviour in pandas 3.0) this will never work to update the original DataFrame or Series, because the intermediate object on which we are setting values will behave as a copy.\n",
      "A typical example is when you are setting values in a column of a DataFrame, like:\n",
      "\n",
      "df[\"col\"][row_indexer] = value\n",
      "\n",
      "Use `df.loc[row_indexer, \"col\"] = values` instead, to perform the assignment in a single step and ensure this keeps updating the original `df`.\n",
      "\n",
      "See the caveats in the documentation: https://pandas.pydata.org/pandas-docs/stable/user_guide/indexing.html#returning-a-view-versus-a-copy\n",
      "\n",
      "  data_w_c[column][data_w_c[column].isna()] = imputed_values\n",
      "C:\\Users\\mique\\AppData\\Local\\Temp\\ipykernel_6948\\1192817537.py:17: SettingWithCopyWarning: \n",
      "A value is trying to be set on a copy of a slice from a DataFrame\n",
      "\n",
      "See the caveats in the documentation: https://pandas.pydata.org/pandas-docs/stable/user_guide/indexing.html#returning-a-view-versus-a-copy\n",
      "  data_w_c[column][data_w_c[column].isna()] = imputed_values\n",
      "C:\\Users\\mique\\AppData\\Local\\Temp\\ipykernel_6948\\1192817537.py:17: FutureWarning: ChainedAssignmentError: behaviour will change in pandas 3.0!\n",
      "You are setting values through chained assignment. Currently this works in certain cases, but when using Copy-on-Write (which will become the default behaviour in pandas 3.0) this will never work to update the original DataFrame or Series, because the intermediate object on which we are setting values will behave as a copy.\n",
      "A typical example is when you are setting values in a column of a DataFrame, like:\n",
      "\n",
      "df[\"col\"][row_indexer] = value\n",
      "\n",
      "Use `df.loc[row_indexer, \"col\"] = values` instead, to perform the assignment in a single step and ensure this keeps updating the original `df`.\n",
      "\n",
      "See the caveats in the documentation: https://pandas.pydata.org/pandas-docs/stable/user_guide/indexing.html#returning-a-view-versus-a-copy\n",
      "\n",
      "  data_w_c[column][data_w_c[column].isna()] = imputed_values\n",
      "C:\\Users\\mique\\AppData\\Local\\Temp\\ipykernel_6948\\1192817537.py:17: SettingWithCopyWarning: \n",
      "A value is trying to be set on a copy of a slice from a DataFrame\n",
      "\n",
      "See the caveats in the documentation: https://pandas.pydata.org/pandas-docs/stable/user_guide/indexing.html#returning-a-view-versus-a-copy\n",
      "  data_w_c[column][data_w_c[column].isna()] = imputed_values\n"
     ]
    },
    {
     "data": {
      "text/plain": [
       "Severity                 0\n",
       "Start_Lat                0\n",
       "Start_Lng                0\n",
       "Distance(mi)             0\n",
       "Temperature(F)           0\n",
       "Humidity(%)              0\n",
       "Pressure(in)             0\n",
       "Visibility(mi)           0\n",
       "Amenity                  0\n",
       "Crossing                 0\n",
       "Give_Way                 0\n",
       "Junction                 0\n",
       "No_Exit                  0\n",
       "Railway                  0\n",
       "Roundabout               0\n",
       "Station                  0\n",
       "Stop                     0\n",
       "Traffic_Calming          0\n",
       "Traffic_Signal           0\n",
       "Turning_Loop             0\n",
       "Astronomical_Twilight    0\n",
       "Time_Difference          0\n",
       "Year                     0\n",
       "Month                    0\n",
       "Day                      0\n",
       "Hour                     0\n",
       "Weekday                  0\n",
       "dtype: int64"
      ]
     },
     "execution_count": 90,
     "metadata": {},
     "output_type": "execute_result"
    }
   ],
   "source": [
    "#Seguir lo que se dice en el notebook 1 pre-processing\n",
    "knn1 = KNeighborsRegressor(n_neighbors=1)\n",
    "knn2 = KNeighborsClassifier(n_neighbors=1)\n",
    "\n",
    "for column in columns_with_nan:\n",
    "    \n",
    "    rows_column_missing = subset_data_w_c[data_w_c[column].isna()]\n",
    "\n",
    "    if data_w_c[column].dtype == 'float' or data_w_c[column].dtype == 'int':\n",
    "        knn = knn1\n",
    "    elif data_w_c[column].dtype == 'object':\n",
    "        knn = knn2\n",
    "\n",
    "    knn.fit(data_w_c_without_missing, data_w_c[column][rows_not_missing])\n",
    "    imputed_values = knn.predict(rows_column_missing)\n",
    "\n",
    "    data_w_c[column][data_w_c[column].isna()] = imputed_values\n",
    "\n",
    "data_w_c.isna().sum()  "
   ]
  },
  {
   "cell_type": "code",
   "execution_count": 91,
   "metadata": {},
   "outputs": [
    {
     "data": {
      "text/html": [
       "<div>\n",
       "<style scoped>\n",
       "    .dataframe tbody tr th:only-of-type {\n",
       "        vertical-align: middle;\n",
       "    }\n",
       "\n",
       "    .dataframe tbody tr th {\n",
       "        vertical-align: top;\n",
       "    }\n",
       "\n",
       "    .dataframe thead th {\n",
       "        text-align: right;\n",
       "    }\n",
       "</style>\n",
       "<table border=\"1\" class=\"dataframe\">\n",
       "  <thead>\n",
       "    <tr style=\"text-align: right;\">\n",
       "      <th></th>\n",
       "      <th>Severity</th>\n",
       "      <th>Start_Lat</th>\n",
       "      <th>Start_Lng</th>\n",
       "      <th>Distance(mi)</th>\n",
       "      <th>Temperature(F)</th>\n",
       "      <th>Humidity(%)</th>\n",
       "      <th>Pressure(in)</th>\n",
       "      <th>Visibility(mi)</th>\n",
       "      <th>Amenity</th>\n",
       "      <th>Crossing</th>\n",
       "      <th>...</th>\n",
       "      <th>Traffic_Calming</th>\n",
       "      <th>Traffic_Signal</th>\n",
       "      <th>Turning_Loop</th>\n",
       "      <th>Astronomical_Twilight</th>\n",
       "      <th>Time_Difference</th>\n",
       "      <th>Year</th>\n",
       "      <th>Month</th>\n",
       "      <th>Day</th>\n",
       "      <th>Hour</th>\n",
       "      <th>Weekday</th>\n",
       "    </tr>\n",
       "  </thead>\n",
       "  <tbody>\n",
       "    <tr>\n",
       "      <th>count</th>\n",
       "      <td>500000.0</td>\n",
       "      <td>500000.000000</td>\n",
       "      <td>500000.000000</td>\n",
       "      <td>500000.000000</td>\n",
       "      <td>500000.000000</td>\n",
       "      <td>500000.00000</td>\n",
       "      <td>500000.000000</td>\n",
       "      <td>500000.000000</td>\n",
       "      <td>500000</td>\n",
       "      <td>500000</td>\n",
       "      <td>...</td>\n",
       "      <td>500000</td>\n",
       "      <td>500000</td>\n",
       "      <td>500000</td>\n",
       "      <td>500000</td>\n",
       "      <td>500000.000000</td>\n",
       "      <td>500000.000000</td>\n",
       "      <td>500000.0</td>\n",
       "      <td>500000.0</td>\n",
       "      <td>500000.0</td>\n",
       "      <td>500000.0</td>\n",
       "    </tr>\n",
       "    <tr>\n",
       "      <th>unique</th>\n",
       "      <td>4.0</td>\n",
       "      <td>NaN</td>\n",
       "      <td>NaN</td>\n",
       "      <td>NaN</td>\n",
       "      <td>NaN</td>\n",
       "      <td>NaN</td>\n",
       "      <td>NaN</td>\n",
       "      <td>NaN</td>\n",
       "      <td>2</td>\n",
       "      <td>2</td>\n",
       "      <td>...</td>\n",
       "      <td>2</td>\n",
       "      <td>2</td>\n",
       "      <td>1</td>\n",
       "      <td>2</td>\n",
       "      <td>NaN</td>\n",
       "      <td>NaN</td>\n",
       "      <td>12.0</td>\n",
       "      <td>31.0</td>\n",
       "      <td>24.0</td>\n",
       "      <td>7.0</td>\n",
       "    </tr>\n",
       "    <tr>\n",
       "      <th>top</th>\n",
       "      <td>2.0</td>\n",
       "      <td>NaN</td>\n",
       "      <td>NaN</td>\n",
       "      <td>NaN</td>\n",
       "      <td>NaN</td>\n",
       "      <td>NaN</td>\n",
       "      <td>NaN</td>\n",
       "      <td>NaN</td>\n",
       "      <td>False</td>\n",
       "      <td>False</td>\n",
       "      <td>...</td>\n",
       "      <td>False</td>\n",
       "      <td>False</td>\n",
       "      <td>False</td>\n",
       "      <td>Day</td>\n",
       "      <td>NaN</td>\n",
       "      <td>NaN</td>\n",
       "      <td>12.0</td>\n",
       "      <td>23.0</td>\n",
       "      <td>7.0</td>\n",
       "      <td>4.0</td>\n",
       "    </tr>\n",
       "    <tr>\n",
       "      <th>freq</th>\n",
       "      <td>398142.0</td>\n",
       "      <td>NaN</td>\n",
       "      <td>NaN</td>\n",
       "      <td>NaN</td>\n",
       "      <td>NaN</td>\n",
       "      <td>NaN</td>\n",
       "      <td>NaN</td>\n",
       "      <td>NaN</td>\n",
       "      <td>493809</td>\n",
       "      <td>443747</td>\n",
       "      <td>...</td>\n",
       "      <td>499534</td>\n",
       "      <td>425965</td>\n",
       "      <td>500000</td>\n",
       "      <td>413486</td>\n",
       "      <td>NaN</td>\n",
       "      <td>NaN</td>\n",
       "      <td>54589.0</td>\n",
       "      <td>18159.0</td>\n",
       "      <td>37988.0</td>\n",
       "      <td>88766.0</td>\n",
       "    </tr>\n",
       "    <tr>\n",
       "      <th>mean</th>\n",
       "      <td>NaN</td>\n",
       "      <td>36.206421</td>\n",
       "      <td>-94.736583</td>\n",
       "      <td>1.050359</td>\n",
       "      <td>61.653554</td>\n",
       "      <td>63.75506</td>\n",
       "      <td>29.534957</td>\n",
       "      <td>9.103726</td>\n",
       "      <td>NaN</td>\n",
       "      <td>NaN</td>\n",
       "      <td>...</td>\n",
       "      <td>NaN</td>\n",
       "      <td>NaN</td>\n",
       "      <td>NaN</td>\n",
       "      <td>NaN</td>\n",
       "      <td>6532.913214</td>\n",
       "      <td>2019.906596</td>\n",
       "      <td>NaN</td>\n",
       "      <td>NaN</td>\n",
       "      <td>NaN</td>\n",
       "      <td>NaN</td>\n",
       "    </tr>\n",
       "    <tr>\n",
       "      <th>std</th>\n",
       "      <td>NaN</td>\n",
       "      <td>5.071411</td>\n",
       "      <td>17.405761</td>\n",
       "      <td>2.429694</td>\n",
       "      <td>18.989811</td>\n",
       "      <td>22.16335</td>\n",
       "      <td>1.010866</td>\n",
       "      <td>2.684685</td>\n",
       "      <td>NaN</td>\n",
       "      <td>NaN</td>\n",
       "      <td>...</td>\n",
       "      <td>NaN</td>\n",
       "      <td>NaN</td>\n",
       "      <td>NaN</td>\n",
       "      <td>NaN</td>\n",
       "      <td>7566.691113</td>\n",
       "      <td>1.913944</td>\n",
       "      <td>NaN</td>\n",
       "      <td>NaN</td>\n",
       "      <td>NaN</td>\n",
       "      <td>NaN</td>\n",
       "    </tr>\n",
       "    <tr>\n",
       "      <th>min</th>\n",
       "      <td>NaN</td>\n",
       "      <td>24.562117</td>\n",
       "      <td>-124.497420</td>\n",
       "      <td>0.001000</td>\n",
       "      <td>-35.000000</td>\n",
       "      <td>2.00000</td>\n",
       "      <td>19.360000</td>\n",
       "      <td>0.060000</td>\n",
       "      <td>NaN</td>\n",
       "      <td>NaN</td>\n",
       "      <td>...</td>\n",
       "      <td>NaN</td>\n",
       "      <td>NaN</td>\n",
       "      <td>NaN</td>\n",
       "      <td>NaN</td>\n",
       "      <td>0.000000</td>\n",
       "      <td>2016.000000</td>\n",
       "      <td>NaN</td>\n",
       "      <td>NaN</td>\n",
       "      <td>NaN</td>\n",
       "      <td>NaN</td>\n",
       "    </tr>\n",
       "    <tr>\n",
       "      <th>25%</th>\n",
       "      <td>NaN</td>\n",
       "      <td>33.416823</td>\n",
       "      <td>-117.233047</td>\n",
       "      <td>0.066000</td>\n",
       "      <td>49.000000</td>\n",
       "      <td>48.00000</td>\n",
       "      <td>29.370000</td>\n",
       "      <td>10.000000</td>\n",
       "      <td>NaN</td>\n",
       "      <td>NaN</td>\n",
       "      <td>...</td>\n",
       "      <td>NaN</td>\n",
       "      <td>NaN</td>\n",
       "      <td>NaN</td>\n",
       "      <td>NaN</td>\n",
       "      <td>1890.000000</td>\n",
       "      <td>2018.000000</td>\n",
       "      <td>NaN</td>\n",
       "      <td>NaN</td>\n",
       "      <td>NaN</td>\n",
       "      <td>NaN</td>\n",
       "    </tr>\n",
       "    <tr>\n",
       "      <th>50%</th>\n",
       "      <td>NaN</td>\n",
       "      <td>35.832147</td>\n",
       "      <td>-87.794365</td>\n",
       "      <td>0.372000</td>\n",
       "      <td>64.000000</td>\n",
       "      <td>66.00000</td>\n",
       "      <td>29.860000</td>\n",
       "      <td>10.000000</td>\n",
       "      <td>NaN</td>\n",
       "      <td>NaN</td>\n",
       "      <td>...</td>\n",
       "      <td>NaN</td>\n",
       "      <td>NaN</td>\n",
       "      <td>NaN</td>\n",
       "      <td>NaN</td>\n",
       "      <td>4488.000000</td>\n",
       "      <td>2020.000000</td>\n",
       "      <td>NaN</td>\n",
       "      <td>NaN</td>\n",
       "      <td>NaN</td>\n",
       "      <td>NaN</td>\n",
       "    </tr>\n",
       "    <tr>\n",
       "      <th>75%</th>\n",
       "      <td>NaN</td>\n",
       "      <td>40.082443</td>\n",
       "      <td>-80.359601</td>\n",
       "      <td>1.070000</td>\n",
       "      <td>76.000000</td>\n",
       "      <td>83.00000</td>\n",
       "      <td>30.030000</td>\n",
       "      <td>10.000000</td>\n",
       "      <td>NaN</td>\n",
       "      <td>NaN</td>\n",
       "      <td>...</td>\n",
       "      <td>NaN</td>\n",
       "      <td>NaN</td>\n",
       "      <td>NaN</td>\n",
       "      <td>NaN</td>\n",
       "      <td>7485.000000</td>\n",
       "      <td>2022.000000</td>\n",
       "      <td>NaN</td>\n",
       "      <td>NaN</td>\n",
       "      <td>NaN</td>\n",
       "      <td>NaN</td>\n",
       "    </tr>\n",
       "    <tr>\n",
       "      <th>max</th>\n",
       "      <td>NaN</td>\n",
       "      <td>48.999569</td>\n",
       "      <td>-67.484130</td>\n",
       "      <td>193.479996</td>\n",
       "      <td>196.000000</td>\n",
       "      <td>99.00000</td>\n",
       "      <td>38.440000</td>\n",
       "      <td>120.000000</td>\n",
       "      <td>NaN</td>\n",
       "      <td>NaN</td>\n",
       "      <td>...</td>\n",
       "      <td>NaN</td>\n",
       "      <td>NaN</td>\n",
       "      <td>NaN</td>\n",
       "      <td>NaN</td>\n",
       "      <td>86399.000000</td>\n",
       "      <td>2023.000000</td>\n",
       "      <td>NaN</td>\n",
       "      <td>NaN</td>\n",
       "      <td>NaN</td>\n",
       "      <td>NaN</td>\n",
       "    </tr>\n",
       "  </tbody>\n",
       "</table>\n",
       "<p>11 rows × 27 columns</p>\n",
       "</div>"
      ],
      "text/plain": [
       "        Severity      Start_Lat      Start_Lng   Distance(mi)  Temperature(F)  \\\n",
       "count   500000.0  500000.000000  500000.000000  500000.000000   500000.000000   \n",
       "unique       4.0            NaN            NaN            NaN             NaN   \n",
       "top          2.0            NaN            NaN            NaN             NaN   \n",
       "freq    398142.0            NaN            NaN            NaN             NaN   \n",
       "mean         NaN      36.206421     -94.736583       1.050359       61.653554   \n",
       "std          NaN       5.071411      17.405761       2.429694       18.989811   \n",
       "min          NaN      24.562117    -124.497420       0.001000      -35.000000   \n",
       "25%          NaN      33.416823    -117.233047       0.066000       49.000000   \n",
       "50%          NaN      35.832147     -87.794365       0.372000       64.000000   \n",
       "75%          NaN      40.082443     -80.359601       1.070000       76.000000   \n",
       "max          NaN      48.999569     -67.484130     193.479996      196.000000   \n",
       "\n",
       "         Humidity(%)   Pressure(in)  Visibility(mi) Amenity Crossing  ...  \\\n",
       "count   500000.00000  500000.000000   500000.000000  500000   500000  ...   \n",
       "unique           NaN            NaN             NaN       2        2  ...   \n",
       "top              NaN            NaN             NaN   False    False  ...   \n",
       "freq             NaN            NaN             NaN  493809   443747  ...   \n",
       "mean        63.75506      29.534957        9.103726     NaN      NaN  ...   \n",
       "std         22.16335       1.010866        2.684685     NaN      NaN  ...   \n",
       "min          2.00000      19.360000        0.060000     NaN      NaN  ...   \n",
       "25%         48.00000      29.370000       10.000000     NaN      NaN  ...   \n",
       "50%         66.00000      29.860000       10.000000     NaN      NaN  ...   \n",
       "75%         83.00000      30.030000       10.000000     NaN      NaN  ...   \n",
       "max         99.00000      38.440000      120.000000     NaN      NaN  ...   \n",
       "\n",
       "       Traffic_Calming Traffic_Signal Turning_Loop Astronomical_Twilight  \\\n",
       "count           500000         500000       500000                500000   \n",
       "unique               2              2            1                     2   \n",
       "top              False          False        False                   Day   \n",
       "freq            499534         425965       500000                413486   \n",
       "mean               NaN            NaN          NaN                   NaN   \n",
       "std                NaN            NaN          NaN                   NaN   \n",
       "min                NaN            NaN          NaN                   NaN   \n",
       "25%                NaN            NaN          NaN                   NaN   \n",
       "50%                NaN            NaN          NaN                   NaN   \n",
       "75%                NaN            NaN          NaN                   NaN   \n",
       "max                NaN            NaN          NaN                   NaN   \n",
       "\n",
       "       Time_Difference           Year     Month       Day      Hour   Weekday  \n",
       "count    500000.000000  500000.000000  500000.0  500000.0  500000.0  500000.0  \n",
       "unique             NaN            NaN      12.0      31.0      24.0       7.0  \n",
       "top                NaN            NaN      12.0      23.0       7.0       4.0  \n",
       "freq               NaN            NaN   54589.0   18159.0   37988.0   88766.0  \n",
       "mean       6532.913214    2019.906596       NaN       NaN       NaN       NaN  \n",
       "std        7566.691113       1.913944       NaN       NaN       NaN       NaN  \n",
       "min           0.000000    2016.000000       NaN       NaN       NaN       NaN  \n",
       "25%        1890.000000    2018.000000       NaN       NaN       NaN       NaN  \n",
       "50%        4488.000000    2020.000000       NaN       NaN       NaN       NaN  \n",
       "75%        7485.000000    2022.000000       NaN       NaN       NaN       NaN  \n",
       "max       86399.000000    2023.000000       NaN       NaN       NaN       NaN  \n",
       "\n",
       "[11 rows x 27 columns]"
      ]
     },
     "execution_count": 91,
     "metadata": {},
     "output_type": "execute_result"
    }
   ],
   "source": [
    "data_without_nan = data_w_c\n",
    "data_without_nan.describe(include='all')"
   ]
  },
  {
   "cell_type": "markdown",
   "metadata": {},
   "source": [
    "Our data has no Nan's, those who where have been imputated, now let's focus on the outliers."
   ]
  },
  {
   "cell_type": "markdown",
   "metadata": {},
   "source": [
    "## Section 3: Finding Outliers"
   ]
  },
  {
   "cell_type": "markdown",
   "metadata": {},
   "source": [
    "It is important to identify these values, in order to take them into account when fitting models. Some of these models are sensitive to outliers. "
   ]
  },
  {
   "cell_type": "markdown",
   "metadata": {},
   "source": [
    "First let's see the variable Distance(mi), this has a clear outlier, it's max."
   ]
  },
  {
   "cell_type": "code",
   "execution_count": 92,
   "metadata": {},
   "outputs": [
    {
     "data": {
      "text/plain": [
       "array([<Axes: title={'center': 'Distance(mi)'}>], dtype=object)"
      ]
     },
     "execution_count": 92,
     "metadata": {},
     "output_type": "execute_result"
    },
    {
     "data": {
      "image/png": "[encoded data removed]",
      "text/plain": [
       "<Figure size 900x500 with 2 Axes>"
      ]
     },
     "metadata": {},
     "output_type": "display_data"
    }
   ],
   "source": [
    "fig, axes = plt.subplots(1,2,gridspec_kw={'width_ratios': [1, 4]}, figsize=(9, 5))\n",
    "data_without_nan.boxplot(column='Distance(mi)',ax=axes[0])\n",
    "data_without_nan.hist(column='Distance(mi)',ax=axes[1])"
   ]
  },
  {
   "cell_type": "markdown",
   "metadata": {},
   "source": [
    "There are obviously a lot of values that do not represent the correct distribution of our variable."
   ]
  },
  {
   "cell_type": "markdown",
   "metadata": {},
   "source": [
    "Let's use the IQR to improve this. Using LocalOutlierFactor, we have seen that it requires a lot of computational time and does not improve the results given by the IQR, so we will use this strategy."
   ]
  },
  {
   "cell_type": "code",
   "execution_count": 93,
   "metadata": {},
   "outputs": [
    {
     "data": {
      "text/plain": [
       "array([<Axes: title={'center': 'Distance(mi)'}>], dtype=object)"
      ]
     },
     "execution_count": 93,
     "metadata": {},
     "output_type": "execute_result"
    },
    {
     "data": {
      "image/png": "[encoded data removed]",
      "text/plain": [
       "<Figure size 900x500 with 2 Axes>"
      ]
     },
     "metadata": {},
     "output_type": "display_data"
    }
   ],
   "source": [
    "Q1 = data_without_nan['Distance(mi)'].quantile(0.25)\n",
    "Q3 = data_without_nan['Distance(mi)'].quantile(0.75)\n",
    "IQR = Q3 - Q1\n",
    "\n",
    "small_out = data_without_nan['Distance(mi)'] < (Q1 - 1.5 * IQR)\n",
    "big_out = data_without_nan['Distance(mi)'] > (Q3 + 1.5 * IQR)\n",
    "\n",
    "fig, axes = plt.subplots(1,2,gridspec_kw={'width_ratios': [1, 4]}, figsize=(9, 5))\n",
    "data_without_nan[~(small_out | big_out)].boxplot(column='Distance(mi)',ax=axes[0])\n",
    "data_without_nan[~(small_out | big_out)].hist(column='Distance(mi)',ax=axes[1])"
   ]
  },
  {
   "cell_type": "code",
   "execution_count": 94,
   "metadata": {},
   "outputs": [
    {
     "data": {
      "text/html": [
       "<div>\n",
       "<style scoped>\n",
       "    .dataframe tbody tr th:only-of-type {\n",
       "        vertical-align: middle;\n",
       "    }\n",
       "\n",
       "    .dataframe tbody tr th {\n",
       "        vertical-align: top;\n",
       "    }\n",
       "\n",
       "    .dataframe thead th {\n",
       "        text-align: right;\n",
       "    }\n",
       "</style>\n",
       "<table border=\"1\" class=\"dataframe\">\n",
       "  <thead>\n",
       "    <tr style=\"text-align: right;\">\n",
       "      <th></th>\n",
       "      <th>Start_Lat</th>\n",
       "      <th>Start_Lng</th>\n",
       "      <th>Distance(mi)</th>\n",
       "      <th>Temperature(F)</th>\n",
       "      <th>Humidity(%)</th>\n",
       "      <th>Pressure(in)</th>\n",
       "      <th>Visibility(mi)</th>\n",
       "      <th>Time_Difference</th>\n",
       "      <th>Year</th>\n",
       "    </tr>\n",
       "  </thead>\n",
       "  <tbody>\n",
       "    <tr>\n",
       "      <th>count</th>\n",
       "      <td>451587.000000</td>\n",
       "      <td>451587.000000</td>\n",
       "      <td>451587.000000</td>\n",
       "      <td>451587.000000</td>\n",
       "      <td>451587.000000</td>\n",
       "      <td>451587.000000</td>\n",
       "      <td>451587.000000</td>\n",
       "      <td>451587.000000</td>\n",
       "      <td>451587.000000</td>\n",
       "    </tr>\n",
       "    <tr>\n",
       "      <th>mean</th>\n",
       "      <td>36.101833</td>\n",
       "      <td>-95.055722</td>\n",
       "      <td>0.527847</td>\n",
       "      <td>61.821486</td>\n",
       "      <td>63.681873</td>\n",
       "      <td>29.556106</td>\n",
       "      <td>9.120915</td>\n",
       "      <td>6397.467959</td>\n",
       "      <td>2019.871611</td>\n",
       "    </tr>\n",
       "    <tr>\n",
       "      <th>std</th>\n",
       "      <td>5.079623</td>\n",
       "      <td>17.479867</td>\n",
       "      <td>0.609029</td>\n",
       "      <td>18.828311</td>\n",
       "      <td>22.155256</td>\n",
       "      <td>0.977168</td>\n",
       "      <td>2.666094</td>\n",
       "      <td>7442.517508</td>\n",
       "      <td>1.935287</td>\n",
       "    </tr>\n",
       "    <tr>\n",
       "      <th>min</th>\n",
       "      <td>24.562117</td>\n",
       "      <td>-124.497420</td>\n",
       "      <td>0.001000</td>\n",
       "      <td>-35.000000</td>\n",
       "      <td>2.000000</td>\n",
       "      <td>19.360000</td>\n",
       "      <td>0.060000</td>\n",
       "      <td>0.000000</td>\n",
       "      <td>2016.000000</td>\n",
       "    </tr>\n",
       "    <tr>\n",
       "      <th>25%</th>\n",
       "      <td>33.265287</td>\n",
       "      <td>-117.331487</td>\n",
       "      <td>0.051000</td>\n",
       "      <td>50.000000</td>\n",
       "      <td>48.000000</td>\n",
       "      <td>29.390000</td>\n",
       "      <td>10.000000</td>\n",
       "      <td>1800.000000</td>\n",
       "      <td>2018.000000</td>\n",
       "    </tr>\n",
       "    <tr>\n",
       "      <th>50%</th>\n",
       "      <td>35.746361</td>\n",
       "      <td>-87.988268</td>\n",
       "      <td>0.286000</td>\n",
       "      <td>64.000000</td>\n",
       "      <td>66.000000</td>\n",
       "      <td>29.860000</td>\n",
       "      <td>10.000000</td>\n",
       "      <td>4485.000000</td>\n",
       "      <td>2020.000000</td>\n",
       "    </tr>\n",
       "    <tr>\n",
       "      <th>75%</th>\n",
       "      <td>40.000357</td>\n",
       "      <td>-80.384592</td>\n",
       "      <td>0.803000</td>\n",
       "      <td>76.000000</td>\n",
       "      <td>83.000000</td>\n",
       "      <td>30.030000</td>\n",
       "      <td>10.000000</td>\n",
       "      <td>7403.000000</td>\n",
       "      <td>2022.000000</td>\n",
       "    </tr>\n",
       "    <tr>\n",
       "      <th>max</th>\n",
       "      <td>48.999569</td>\n",
       "      <td>-67.484130</td>\n",
       "      <td>2.576000</td>\n",
       "      <td>196.000000</td>\n",
       "      <td>99.000000</td>\n",
       "      <td>38.440000</td>\n",
       "      <td>120.000000</td>\n",
       "      <td>86399.000000</td>\n",
       "      <td>2023.000000</td>\n",
       "    </tr>\n",
       "  </tbody>\n",
       "</table>\n",
       "</div>"
      ],
      "text/plain": [
       "           Start_Lat      Start_Lng   Distance(mi)  Temperature(F)  \\\n",
       "count  451587.000000  451587.000000  451587.000000   451587.000000   \n",
       "mean       36.101833     -95.055722       0.527847       61.821486   \n",
       "std         5.079623      17.479867       0.609029       18.828311   \n",
       "min        24.562117    -124.497420       0.001000      -35.000000   \n",
       "25%        33.265287    -117.331487       0.051000       50.000000   \n",
       "50%        35.746361     -87.988268       0.286000       64.000000   \n",
       "75%        40.000357     -80.384592       0.803000       76.000000   \n",
       "max        48.999569     -67.484130       2.576000      196.000000   \n",
       "\n",
       "         Humidity(%)   Pressure(in)  Visibility(mi)  Time_Difference  \\\n",
       "count  451587.000000  451587.000000   451587.000000    451587.000000   \n",
       "mean       63.681873      29.556106        9.120915      6397.467959   \n",
       "std        22.155256       0.977168        2.666094      7442.517508   \n",
       "min         2.000000      19.360000        0.060000         0.000000   \n",
       "25%        48.000000      29.390000       10.000000      1800.000000   \n",
       "50%        66.000000      29.860000       10.000000      4485.000000   \n",
       "75%        83.000000      30.030000       10.000000      7403.000000   \n",
       "max        99.000000      38.440000      120.000000     86399.000000   \n",
       "\n",
       "                Year  \n",
       "count  451587.000000  \n",
       "mean     2019.871611  \n",
       "std         1.935287  \n",
       "min      2016.000000  \n",
       "25%      2018.000000  \n",
       "50%      2020.000000  \n",
       "75%      2022.000000  \n",
       "max      2023.000000  "
      ]
     },
     "execution_count": 94,
     "metadata": {},
     "output_type": "execute_result"
    }
   ],
   "source": [
    "data_without_nan[~(small_out | big_out)].describe(include=['int', 'float']) "
   ]
  },
  {
   "cell_type": "code",
   "execution_count": 95,
   "metadata": {},
   "outputs": [],
   "source": [
    "data_without_nan_out1 = data_without_nan[~(small_out | big_out)]"
   ]
  },
  {
   "cell_type": "markdown",
   "metadata": {},
   "source": [
    "Visibility:"
   ]
  },
  {
   "cell_type": "code",
   "execution_count": 96,
   "metadata": {},
   "outputs": [
    {
     "data": {
      "text/plain": [
       "array([<Axes: title={'center': 'Visibility(mi)'}>], dtype=object)"
      ]
     },
     "execution_count": 96,
     "metadata": {},
     "output_type": "execute_result"
    },
    {
     "data": {
      "image/png": "[encoded data removed]",
      "text/plain": [
       "<Figure size 900x500 with 2 Axes>"
      ]
     },
     "metadata": {},
     "output_type": "display_data"
    }
   ],
   "source": [
    "fig, axes = plt.subplots(1,2,gridspec_kw={'width_ratios': [1, 4]}, figsize=(9, 5))\n",
    "data_without_nan_out1.boxplot(column='Visibility(mi)',ax=axes[0])\n",
    "data_without_nan_out1.hist(column='Visibility(mi)',ax=axes[1])"
   ]
  },
  {
   "cell_type": "code",
   "execution_count": 97,
   "metadata": {},
   "outputs": [
    {
     "data": {
      "text/plain": [
       "array([<Axes: title={'center': 'Visibility(mi)'}>], dtype=object)"
      ]
     },
     "execution_count": 97,
     "metadata": {},
     "output_type": "execute_result"
    },
    {
     "data": {
      "image/png": "[encoded data removed]",
      "text/plain": [
       "<Figure size 900x500 with 2 Axes>"
      ]
     },
     "metadata": {},
     "output_type": "display_data"
    }
   ],
   "source": [
    "Q1 = data_without_nan_out1['Visibility(mi)'].quantile(0.25)\n",
    "Q3 = data_without_nan_out1['Visibility(mi)'].quantile(0.75)\n",
    "IQR = Q3 - Q1\n",
    "\n",
    "small_out = data_without_nan_out1['Visibility(mi)'] < (Q1 - 1.5 * IQR)\n",
    "big_out = data_without_nan_out1['Visibility(mi)'] > (Q3 + 1.5 * IQR)\n",
    "\n",
    "fig, axes = plt.subplots(1,2,gridspec_kw={'width_ratios': [1, 4]}, figsize=(9, 5))\n",
    "data_without_nan_out1[~(small_out | big_out)].boxplot(column='Visibility(mi)',ax=axes[0])\n",
    "data_without_nan_out1[~(small_out | big_out)].hist(column='Visibility(mi)',ax=axes[1])"
   ]
  },
  {
   "cell_type": "markdown",
   "metadata": {},
   "source": [
    "All data from Visibility is concentrated around 10 mi."
   ]
  },
  {
   "cell_type": "code",
   "execution_count": 98,
   "metadata": {},
   "outputs": [
    {
     "data": {
      "text/html": [
       "<div>\n",
       "<style scoped>\n",
       "    .dataframe tbody tr th:only-of-type {\n",
       "        vertical-align: middle;\n",
       "    }\n",
       "\n",
       "    .dataframe tbody tr th {\n",
       "        vertical-align: top;\n",
       "    }\n",
       "\n",
       "    .dataframe thead th {\n",
       "        text-align: right;\n",
       "    }\n",
       "</style>\n",
       "<table border=\"1\" class=\"dataframe\">\n",
       "  <thead>\n",
       "    <tr style=\"text-align: right;\">\n",
       "      <th></th>\n",
       "      <th>Start_Lat</th>\n",
       "      <th>Start_Lng</th>\n",
       "      <th>Distance(mi)</th>\n",
       "      <th>Temperature(F)</th>\n",
       "      <th>Humidity(%)</th>\n",
       "      <th>Pressure(in)</th>\n",
       "      <th>Visibility(mi)</th>\n",
       "      <th>Time_Difference</th>\n",
       "      <th>Year</th>\n",
       "    </tr>\n",
       "  </thead>\n",
       "  <tbody>\n",
       "    <tr>\n",
       "      <th>count</th>\n",
       "      <td>364268.000000</td>\n",
       "      <td>364268.000000</td>\n",
       "      <td>364268.000000</td>\n",
       "      <td>364268.000000</td>\n",
       "      <td>364268.000000</td>\n",
       "      <td>364268.000000</td>\n",
       "      <td>364268.0</td>\n",
       "      <td>364268.000000</td>\n",
       "      <td>364268.000000</td>\n",
       "    </tr>\n",
       "    <tr>\n",
       "      <th>mean</th>\n",
       "      <td>35.888480</td>\n",
       "      <td>-94.800899</td>\n",
       "      <td>0.521612</td>\n",
       "      <td>63.666228</td>\n",
       "      <td>59.824371</td>\n",
       "      <td>29.566190</td>\n",
       "      <td>10.0</td>\n",
       "      <td>6453.357231</td>\n",
       "      <td>2019.882328</td>\n",
       "    </tr>\n",
       "    <tr>\n",
       "      <th>std</th>\n",
       "      <td>5.122245</td>\n",
       "      <td>17.422068</td>\n",
       "      <td>0.605723</td>\n",
       "      <td>18.412993</td>\n",
       "      <td>21.231672</td>\n",
       "      <td>0.978824</td>\n",
       "      <td>0.0</td>\n",
       "      <td>7512.577385</td>\n",
       "      <td>1.942335</td>\n",
       "    </tr>\n",
       "    <tr>\n",
       "      <th>min</th>\n",
       "      <td>24.562117</td>\n",
       "      <td>-124.497420</td>\n",
       "      <td>0.001000</td>\n",
       "      <td>-35.000000</td>\n",
       "      <td>2.000000</td>\n",
       "      <td>19.360000</td>\n",
       "      <td>10.0</td>\n",
       "      <td>0.000000</td>\n",
       "      <td>2016.000000</td>\n",
       "    </tr>\n",
       "    <tr>\n",
       "      <th>25%</th>\n",
       "      <td>32.921176</td>\n",
       "      <td>-117.232892</td>\n",
       "      <td>0.051000</td>\n",
       "      <td>51.800000</td>\n",
       "      <td>45.000000</td>\n",
       "      <td>29.410000</td>\n",
       "      <td>10.0</td>\n",
       "      <td>1829.000000</td>\n",
       "      <td>2018.000000</td>\n",
       "    </tr>\n",
       "    <tr>\n",
       "      <th>50%</th>\n",
       "      <td>35.447500</td>\n",
       "      <td>-87.736355</td>\n",
       "      <td>0.278000</td>\n",
       "      <td>66.000000</td>\n",
       "      <td>61.000000</td>\n",
       "      <td>29.870000</td>\n",
       "      <td>10.0</td>\n",
       "      <td>4500.000000</td>\n",
       "      <td>2020.000000</td>\n",
       "    </tr>\n",
       "    <tr>\n",
       "      <th>75%</th>\n",
       "      <td>39.851216</td>\n",
       "      <td>-80.358434</td>\n",
       "      <td>0.790000</td>\n",
       "      <td>78.000000</td>\n",
       "      <td>77.000000</td>\n",
       "      <td>30.040000</td>\n",
       "      <td>10.0</td>\n",
       "      <td>7428.000000</td>\n",
       "      <td>2022.000000</td>\n",
       "    </tr>\n",
       "    <tr>\n",
       "      <th>max</th>\n",
       "      <td>48.991585</td>\n",
       "      <td>-67.484130</td>\n",
       "      <td>2.576000</td>\n",
       "      <td>196.000000</td>\n",
       "      <td>99.000000</td>\n",
       "      <td>38.440000</td>\n",
       "      <td>10.0</td>\n",
       "      <td>86399.000000</td>\n",
       "      <td>2023.000000</td>\n",
       "    </tr>\n",
       "  </tbody>\n",
       "</table>\n",
       "</div>"
      ],
      "text/plain": [
       "           Start_Lat      Start_Lng   Distance(mi)  Temperature(F)  \\\n",
       "count  364268.000000  364268.000000  364268.000000   364268.000000   \n",
       "mean       35.888480     -94.800899       0.521612       63.666228   \n",
       "std         5.122245      17.422068       0.605723       18.412993   \n",
       "min        24.562117    -124.497420       0.001000      -35.000000   \n",
       "25%        32.921176    -117.232892       0.051000       51.800000   \n",
       "50%        35.447500     -87.736355       0.278000       66.000000   \n",
       "75%        39.851216     -80.358434       0.790000       78.000000   \n",
       "max        48.991585     -67.484130       2.576000      196.000000   \n",
       "\n",
       "         Humidity(%)   Pressure(in)  Visibility(mi)  Time_Difference  \\\n",
       "count  364268.000000  364268.000000        364268.0    364268.000000   \n",
       "mean       59.824371      29.566190            10.0      6453.357231   \n",
       "std        21.231672       0.978824             0.0      7512.577385   \n",
       "min         2.000000      19.360000            10.0         0.000000   \n",
       "25%        45.000000      29.410000            10.0      1829.000000   \n",
       "50%        61.000000      29.870000            10.0      4500.000000   \n",
       "75%        77.000000      30.040000            10.0      7428.000000   \n",
       "max        99.000000      38.440000            10.0     86399.000000   \n",
       "\n",
       "                Year  \n",
       "count  364268.000000  \n",
       "mean     2019.882328  \n",
       "std         1.942335  \n",
       "min      2016.000000  \n",
       "25%      2018.000000  \n",
       "50%      2020.000000  \n",
       "75%      2022.000000  \n",
       "max      2023.000000  "
      ]
     },
     "execution_count": 98,
     "metadata": {},
     "output_type": "execute_result"
    }
   ],
   "source": [
    "data_without_nan_out1[~(small_out | big_out)].describe(include=['int', 'float']) "
   ]
  },
  {
   "cell_type": "code",
   "execution_count": 99,
   "metadata": {},
   "outputs": [],
   "source": [
    "data_without_nan_out2 = data_without_nan_out1[~(small_out | big_out)]"
   ]
  },
  {
   "cell_type": "markdown",
   "metadata": {},
   "source": [
    "Temperature:"
   ]
  },
  {
   "cell_type": "code",
   "execution_count": 100,
   "metadata": {},
   "outputs": [
    {
     "data": {
      "text/plain": [
       "array([<Axes: title={'center': 'Temperature(F)'}>], dtype=object)"
      ]
     },
     "execution_count": 100,
     "metadata": {},
     "output_type": "execute_result"
    },
    {
     "data": {
      "image/png": "[encoded data removed]",
      "text/plain": [
       "<Figure size 900x500 with 2 Axes>"
      ]
     },
     "metadata": {},
     "output_type": "display_data"
    }
   ],
   "source": [
    "fig, axes = plt.subplots(1,2,gridspec_kw={'width_ratios': [1, 4]}, figsize=(9, 5))\n",
    "data_without_nan_out2.boxplot(column='Temperature(F)',ax=axes[0])\n",
    "data_without_nan_out2.hist(column='Temperature(F)',ax=axes[1])"
   ]
  },
  {
   "cell_type": "markdown",
   "metadata": {},
   "source": [
    "It seems well distributed. However, it seems there are some outliers. We will do the same for Wind_Chill since from the describe of the dataset, it is almost equally distributed as temperature."
   ]
  },
  {
   "cell_type": "code",
   "execution_count": 101,
   "metadata": {},
   "outputs": [
    {
     "data": {
      "text/plain": [
       "array([<Axes: title={'center': 'Temperature(F)'}>], dtype=object)"
      ]
     },
     "execution_count": 101,
     "metadata": {},
     "output_type": "execute_result"
    },
    {
     "data": {
      "image/png": "[encoded data removed]",
      "text/plain": [
       "<Figure size 900x500 with 2 Axes>"
      ]
     },
     "metadata": {},
     "output_type": "display_data"
    }
   ],
   "source": [
    "Q1 = data_without_nan_out2['Temperature(F)'].quantile(0.25)\n",
    "Q3 = data_without_nan_out2['Temperature(F)'].quantile(0.75)\n",
    "IQR = Q3 - Q1\n",
    "\n",
    "small_out = data_without_nan_out2['Temperature(F)'] < (Q1 - 1.5 * IQR)\n",
    "big_out = data_without_nan_out2['Temperature(F)'] > (Q3 + 1.5 * IQR)\n",
    "\n",
    "fig, axes = plt.subplots(1,2,gridspec_kw={'width_ratios': [1, 4]}, figsize=(9, 5))\n",
    "data_without_nan_out2[~(small_out | big_out)].boxplot(column='Temperature(F)',ax=axes[0])\n",
    "data_without_nan_out2[~(small_out | big_out)].hist(column='Temperature(F)',ax=axes[1])"
   ]
  },
  {
   "cell_type": "markdown",
   "metadata": {},
   "source": [
    "It is better now."
   ]
  },
  {
   "cell_type": "code",
   "execution_count": 102,
   "metadata": {},
   "outputs": [
    {
     "data": {
      "text/html": [
       "<div>\n",
       "<style scoped>\n",
       "    .dataframe tbody tr th:only-of-type {\n",
       "        vertical-align: middle;\n",
       "    }\n",
       "\n",
       "    .dataframe tbody tr th {\n",
       "        vertical-align: top;\n",
       "    }\n",
       "\n",
       "    .dataframe thead th {\n",
       "        text-align: right;\n",
       "    }\n",
       "</style>\n",
       "<table border=\"1\" class=\"dataframe\">\n",
       "  <thead>\n",
       "    <tr style=\"text-align: right;\">\n",
       "      <th></th>\n",
       "      <th>Start_Lat</th>\n",
       "      <th>Start_Lng</th>\n",
       "      <th>Distance(mi)</th>\n",
       "      <th>Temperature(F)</th>\n",
       "      <th>Humidity(%)</th>\n",
       "      <th>Pressure(in)</th>\n",
       "      <th>Visibility(mi)</th>\n",
       "      <th>Time_Difference</th>\n",
       "      <th>Year</th>\n",
       "    </tr>\n",
       "  </thead>\n",
       "  <tbody>\n",
       "    <tr>\n",
       "      <th>count</th>\n",
       "      <td>361485.000000</td>\n",
       "      <td>361485.000000</td>\n",
       "      <td>361485.000000</td>\n",
       "      <td>361485.000000</td>\n",
       "      <td>361485.000000</td>\n",
       "      <td>361485.000000</td>\n",
       "      <td>361485.0</td>\n",
       "      <td>361485.000000</td>\n",
       "      <td>361485.000000</td>\n",
       "    </tr>\n",
       "    <tr>\n",
       "      <th>mean</th>\n",
       "      <td>35.832810</td>\n",
       "      <td>-94.829682</td>\n",
       "      <td>0.520503</td>\n",
       "      <td>64.129872</td>\n",
       "      <td>59.750839</td>\n",
       "      <td>29.568273</td>\n",
       "      <td>10.0</td>\n",
       "      <td>6455.311659</td>\n",
       "      <td>2019.880261</td>\n",
       "    </tr>\n",
       "    <tr>\n",
       "      <th>std</th>\n",
       "      <td>5.097340</td>\n",
       "      <td>17.467245</td>\n",
       "      <td>0.605084</td>\n",
       "      <td>17.690069</td>\n",
       "      <td>21.269594</td>\n",
       "      <td>0.971655</td>\n",
       "      <td>0.0</td>\n",
       "      <td>7522.032110</td>\n",
       "      <td>1.942826</td>\n",
       "    </tr>\n",
       "    <tr>\n",
       "      <th>min</th>\n",
       "      <td>24.562117</td>\n",
       "      <td>-124.497420</td>\n",
       "      <td>0.001000</td>\n",
       "      <td>12.600000</td>\n",
       "      <td>2.000000</td>\n",
       "      <td>19.360000</td>\n",
       "      <td>10.0</td>\n",
       "      <td>0.000000</td>\n",
       "      <td>2016.000000</td>\n",
       "    </tr>\n",
       "    <tr>\n",
       "      <th>25%</th>\n",
       "      <td>32.899804</td>\n",
       "      <td>-117.258352</td>\n",
       "      <td>0.051000</td>\n",
       "      <td>52.000000</td>\n",
       "      <td>45.000000</td>\n",
       "      <td>29.410000</td>\n",
       "      <td>10.0</td>\n",
       "      <td>1830.000000</td>\n",
       "      <td>2018.000000</td>\n",
       "    </tr>\n",
       "    <tr>\n",
       "      <th>50%</th>\n",
       "      <td>35.377190</td>\n",
       "      <td>-87.647057</td>\n",
       "      <td>0.277000</td>\n",
       "      <td>66.000000</td>\n",
       "      <td>61.000000</td>\n",
       "      <td>29.880000</td>\n",
       "      <td>10.0</td>\n",
       "      <td>4500.000000</td>\n",
       "      <td>2020.000000</td>\n",
       "    </tr>\n",
       "    <tr>\n",
       "      <th>75%</th>\n",
       "      <td>39.784940</td>\n",
       "      <td>-80.352281</td>\n",
       "      <td>0.789000</td>\n",
       "      <td>78.000000</td>\n",
       "      <td>77.000000</td>\n",
       "      <td>30.040000</td>\n",
       "      <td>10.0</td>\n",
       "      <td>7430.000000</td>\n",
       "      <td>2022.000000</td>\n",
       "    </tr>\n",
       "    <tr>\n",
       "      <th>max</th>\n",
       "      <td>48.991585</td>\n",
       "      <td>-67.484130</td>\n",
       "      <td>2.576000</td>\n",
       "      <td>117.000000</td>\n",
       "      <td>99.000000</td>\n",
       "      <td>38.440000</td>\n",
       "      <td>10.0</td>\n",
       "      <td>86399.000000</td>\n",
       "      <td>2023.000000</td>\n",
       "    </tr>\n",
       "  </tbody>\n",
       "</table>\n",
       "</div>"
      ],
      "text/plain": [
       "           Start_Lat      Start_Lng   Distance(mi)  Temperature(F)  \\\n",
       "count  361485.000000  361485.000000  361485.000000   361485.000000   \n",
       "mean       35.832810     -94.829682       0.520503       64.129872   \n",
       "std         5.097340      17.467245       0.605084       17.690069   \n",
       "min        24.562117    -124.497420       0.001000       12.600000   \n",
       "25%        32.899804    -117.258352       0.051000       52.000000   \n",
       "50%        35.377190     -87.647057       0.277000       66.000000   \n",
       "75%        39.784940     -80.352281       0.789000       78.000000   \n",
       "max        48.991585     -67.484130       2.576000      117.000000   \n",
       "\n",
       "         Humidity(%)   Pressure(in)  Visibility(mi)  Time_Difference  \\\n",
       "count  361485.000000  361485.000000        361485.0    361485.000000   \n",
       "mean       59.750839      29.568273            10.0      6455.311659   \n",
       "std        21.269594       0.971655             0.0      7522.032110   \n",
       "min         2.000000      19.360000            10.0         0.000000   \n",
       "25%        45.000000      29.410000            10.0      1830.000000   \n",
       "50%        61.000000      29.880000            10.0      4500.000000   \n",
       "75%        77.000000      30.040000            10.0      7430.000000   \n",
       "max        99.000000      38.440000            10.0     86399.000000   \n",
       "\n",
       "                Year  \n",
       "count  361485.000000  \n",
       "mean     2019.880261  \n",
       "std         1.942826  \n",
       "min      2016.000000  \n",
       "25%      2018.000000  \n",
       "50%      2020.000000  \n",
       "75%      2022.000000  \n",
       "max      2023.000000  "
      ]
     },
     "execution_count": 102,
     "metadata": {},
     "output_type": "execute_result"
    }
   ],
   "source": [
    "data_without_nan_out2[~(small_out | big_out)].describe(include=['int', 'float']) "
   ]
  },
  {
   "cell_type": "code",
   "execution_count": 103,
   "metadata": {},
   "outputs": [],
   "source": [
    "data_without_nan_out3 = data_without_nan_out2[~(small_out | big_out)]"
   ]
  },
  {
   "cell_type": "markdown",
   "metadata": {},
   "source": [
    "Humidity:"
   ]
  },
  {
   "cell_type": "code",
   "execution_count": 104,
   "metadata": {},
   "outputs": [
    {
     "data": {
      "text/plain": [
       "array([<Axes: title={'center': 'Humidity(%)'}>], dtype=object)"
      ]
     },
     "execution_count": 104,
     "metadata": {},
     "output_type": "execute_result"
    },
    {
     "data": {
      "image/png": "[encoded data removed]",
      "text/plain": [
       "<Figure size 900x500 with 2 Axes>"
      ]
     },
     "metadata": {},
     "output_type": "display_data"
    }
   ],
   "source": [
    "fig, axes = plt.subplots(1,2,gridspec_kw={'width_ratios': [1, 4]}, figsize=(9, 5))\n",
    "data_without_nan_out3.boxplot(column='Humidity(%)',ax=axes[0])\n",
    "data_without_nan_out3.hist(column='Humidity(%)',ax=axes[1])"
   ]
  },
  {
   "cell_type": "markdown",
   "metadata": {},
   "source": [
    "Humidity is well distributed."
   ]
  },
  {
   "cell_type": "markdown",
   "metadata": {},
   "source": [
    "Time_Difference:"
   ]
  },
  {
   "cell_type": "code",
   "execution_count": 105,
   "metadata": {},
   "outputs": [
    {
     "data": {
      "text/plain": [
       "array([<Axes: title={'center': 'Time_Difference'}>], dtype=object)"
      ]
     },
     "execution_count": 105,
     "metadata": {},
     "output_type": "execute_result"
    },
    {
     "data": {
      "image/png": "[encoded data removed]",
      "text/plain": [
       "<Figure size 900x500 with 2 Axes>"
      ]
     },
     "metadata": {},
     "output_type": "display_data"
    }
   ],
   "source": [
    "fig, axes = plt.subplots(1,2,gridspec_kw={'width_ratios': [1, 4]}, figsize=(9, 5))\n",
    "data_without_nan_out3.boxplot(column='Time_Difference',ax=axes[0])\n",
    "data_without_nan_out3.hist(column='Time_Difference',ax=axes[1])"
   ]
  },
  {
   "cell_type": "code",
   "execution_count": 106,
   "metadata": {},
   "outputs": [
    {
     "data": {
      "text/plain": [
       "array([<Axes: title={'center': 'Time_Difference'}>], dtype=object)"
      ]
     },
     "execution_count": 106,
     "metadata": {},
     "output_type": "execute_result"
    },
    {
     "data": {
      "image/png": "[encoded data removed]",
      "text/plain": [
       "<Figure size 900x500 with 2 Axes>"
      ]
     },
     "metadata": {},
     "output_type": "display_data"
    }
   ],
   "source": [
    "Q1 = data_without_nan_out3['Time_Difference'].quantile(0.25)\n",
    "Q3 = data_without_nan_out3['Time_Difference'].quantile(0.75)\n",
    "IQR = Q3 - Q1\n",
    "\n",
    "small_out = data_without_nan_out3['Time_Difference'] < (Q1 - 1.5 * IQR)\n",
    "big_out = data_without_nan_out3['Time_Difference'] > (Q3 + 1.5 * IQR)\n",
    "\n",
    "fig, axes = plt.subplots(1,2,gridspec_kw={'width_ratios': [1, 4]}, figsize=(9, 5))\n",
    "data_without_nan_out3[~(small_out | big_out)].boxplot(column='Time_Difference',ax=axes[0])\n",
    "data_without_nan_out3[~(small_out | big_out)].hist(column='Time_Difference',ax=axes[1])"
   ]
  },
  {
   "cell_type": "code",
   "execution_count": 107,
   "metadata": {},
   "outputs": [
    {
     "data": {
      "text/html": [
       "<div>\n",
       "<style scoped>\n",
       "    .dataframe tbody tr th:only-of-type {\n",
       "        vertical-align: middle;\n",
       "    }\n",
       "\n",
       "    .dataframe tbody tr th {\n",
       "        vertical-align: top;\n",
       "    }\n",
       "\n",
       "    .dataframe thead th {\n",
       "        text-align: right;\n",
       "    }\n",
       "</style>\n",
       "<table border=\"1\" class=\"dataframe\">\n",
       "  <thead>\n",
       "    <tr style=\"text-align: right;\">\n",
       "      <th></th>\n",
       "      <th>Start_Lat</th>\n",
       "      <th>Start_Lng</th>\n",
       "      <th>Distance(mi)</th>\n",
       "      <th>Temperature(F)</th>\n",
       "      <th>Humidity(%)</th>\n",
       "      <th>Pressure(in)</th>\n",
       "      <th>Visibility(mi)</th>\n",
       "      <th>Time_Difference</th>\n",
       "      <th>Year</th>\n",
       "    </tr>\n",
       "  </thead>\n",
       "  <tbody>\n",
       "    <tr>\n",
       "      <th>count</th>\n",
       "      <td>328880.000000</td>\n",
       "      <td>328880.000000</td>\n",
       "      <td>328880.000000</td>\n",
       "      <td>328880.000000</td>\n",
       "      <td>328880.000000</td>\n",
       "      <td>328880.000000</td>\n",
       "      <td>328880.0</td>\n",
       "      <td>328880.000000</td>\n",
       "      <td>328880.000000</td>\n",
       "    </tr>\n",
       "    <tr>\n",
       "      <th>mean</th>\n",
       "      <td>35.830729</td>\n",
       "      <td>-94.845382</td>\n",
       "      <td>0.516963</td>\n",
       "      <td>64.102644</td>\n",
       "      <td>59.763218</td>\n",
       "      <td>29.546489</td>\n",
       "      <td>10.0</td>\n",
       "      <td>4516.740936</td>\n",
       "      <td>2020.012448</td>\n",
       "    </tr>\n",
       "    <tr>\n",
       "      <th>std</th>\n",
       "      <td>5.054099</td>\n",
       "      <td>17.443525</td>\n",
       "      <td>0.609086</td>\n",
       "      <td>17.724216</td>\n",
       "      <td>21.296095</td>\n",
       "      <td>0.987008</td>\n",
       "      <td>0.0</td>\n",
       "      <td>2987.080623</td>\n",
       "      <td>1.871375</td>\n",
       "    </tr>\n",
       "    <tr>\n",
       "      <th>min</th>\n",
       "      <td>24.562117</td>\n",
       "      <td>-124.494330</td>\n",
       "      <td>0.001000</td>\n",
       "      <td>12.700000</td>\n",
       "      <td>2.000000</td>\n",
       "      <td>19.360000</td>\n",
       "      <td>10.0</td>\n",
       "      <td>0.000000</td>\n",
       "      <td>2016.000000</td>\n",
       "    </tr>\n",
       "    <tr>\n",
       "      <th>25%</th>\n",
       "      <td>32.909157</td>\n",
       "      <td>-117.246979</td>\n",
       "      <td>0.043000</td>\n",
       "      <td>52.000000</td>\n",
       "      <td>44.000000</td>\n",
       "      <td>29.380000</td>\n",
       "      <td>10.0</td>\n",
       "      <td>1793.000000</td>\n",
       "      <td>2019.000000</td>\n",
       "    </tr>\n",
       "    <tr>\n",
       "      <th>50%</th>\n",
       "      <td>35.363226</td>\n",
       "      <td>-87.670975</td>\n",
       "      <td>0.262000</td>\n",
       "      <td>66.000000</td>\n",
       "      <td>61.000000</td>\n",
       "      <td>29.860000</td>\n",
       "      <td>10.0</td>\n",
       "      <td>3611.000000</td>\n",
       "      <td>2020.000000</td>\n",
       "    </tr>\n",
       "    <tr>\n",
       "      <th>75%</th>\n",
       "      <td>39.757571</td>\n",
       "      <td>-80.363121</td>\n",
       "      <td>0.792000</td>\n",
       "      <td>78.000000</td>\n",
       "      <td>77.000000</td>\n",
       "      <td>30.030000</td>\n",
       "      <td>10.0</td>\n",
       "      <td>6141.000000</td>\n",
       "      <td>2022.000000</td>\n",
       "    </tr>\n",
       "    <tr>\n",
       "      <th>max</th>\n",
       "      <td>48.991585</td>\n",
       "      <td>-67.484130</td>\n",
       "      <td>2.576000</td>\n",
       "      <td>117.000000</td>\n",
       "      <td>99.000000</td>\n",
       "      <td>38.440000</td>\n",
       "      <td>10.0</td>\n",
       "      <td>15828.000000</td>\n",
       "      <td>2023.000000</td>\n",
       "    </tr>\n",
       "  </tbody>\n",
       "</table>\n",
       "</div>"
      ],
      "text/plain": [
       "           Start_Lat      Start_Lng   Distance(mi)  Temperature(F)  \\\n",
       "count  328880.000000  328880.000000  328880.000000   328880.000000   \n",
       "mean       35.830729     -94.845382       0.516963       64.102644   \n",
       "std         5.054099      17.443525       0.609086       17.724216   \n",
       "min        24.562117    -124.494330       0.001000       12.700000   \n",
       "25%        32.909157    -117.246979       0.043000       52.000000   \n",
       "50%        35.363226     -87.670975       0.262000       66.000000   \n",
       "75%        39.757571     -80.363121       0.792000       78.000000   \n",
       "max        48.991585     -67.484130       2.576000      117.000000   \n",
       "\n",
       "         Humidity(%)   Pressure(in)  Visibility(mi)  Time_Difference  \\\n",
       "count  328880.000000  328880.000000        328880.0    328880.000000   \n",
       "mean       59.763218      29.546489            10.0      4516.740936   \n",
       "std        21.296095       0.987008             0.0      2987.080623   \n",
       "min         2.000000      19.360000            10.0         0.000000   \n",
       "25%        44.000000      29.380000            10.0      1793.000000   \n",
       "50%        61.000000      29.860000            10.0      3611.000000   \n",
       "75%        77.000000      30.030000            10.0      6141.000000   \n",
       "max        99.000000      38.440000            10.0     15828.000000   \n",
       "\n",
       "                Year  \n",
       "count  328880.000000  \n",
       "mean     2020.012448  \n",
       "std         1.871375  \n",
       "min      2016.000000  \n",
       "25%      2019.000000  \n",
       "50%      2020.000000  \n",
       "75%      2022.000000  \n",
       "max      2023.000000  "
      ]
     },
     "execution_count": 107,
     "metadata": {},
     "output_type": "execute_result"
    }
   ],
   "source": [
    "data_without_nan_out3[~(small_out | big_out)].describe(include=['int', 'float'])"
   ]
  },
  {
   "cell_type": "code",
   "execution_count": 109,
   "metadata": {},
   "outputs": [],
   "source": [
    "data_without_nan_out4 = data_without_nan_out3[~(small_out | big_out)]"
   ]
  },
  {
   "cell_type": "markdown",
   "metadata": {},
   "source": [
    "Start_Lat:"
   ]
  },
  {
   "cell_type": "code",
   "execution_count": 110,
   "metadata": {},
   "outputs": [
    {
     "data": {
      "text/plain": [
       "array([<Axes: title={'center': 'Start_Lat'}>], dtype=object)"
      ]
     },
     "execution_count": 110,
     "metadata": {},
     "output_type": "execute_result"
    },
    {
     "data": {
      "image/png": "[encoded data removed]",
      "text/plain": [
       "<Figure size 900x500 with 2 Axes>"
      ]
     },
     "metadata": {},
     "output_type": "display_data"
    }
   ],
   "source": [
    "fig, axes = plt.subplots(1,2,gridspec_kw={'width_ratios': [1, 4]}, figsize=(9, 5))\n",
    "data_without_nan_out4.boxplot(column='Start_Lat',ax=axes[0])\n",
    "data_without_nan_out4.hist(column='Start_Lat',ax=axes[1])"
   ]
  },
  {
   "cell_type": "markdown",
   "metadata": {},
   "source": [
    "Start_Lat does not present any kind of outlier."
   ]
  },
  {
   "cell_type": "markdown",
   "metadata": {},
   "source": [
    "Start_Lng:"
   ]
  },
  {
   "cell_type": "code",
   "execution_count": 112,
   "metadata": {},
   "outputs": [
    {
     "data": {
      "text/plain": [
       "array([<Axes: title={'center': 'Start_Lng'}>], dtype=object)"
      ]
     },
     "execution_count": 112,
     "metadata": {},
     "output_type": "execute_result"
    },
    {
     "data": {
      "image/png": "[encoded data removed]",
      "text/plain": [
       "<Figure size 900x500 with 2 Axes>"
      ]
     },
     "metadata": {},
     "output_type": "display_data"
    }
   ],
   "source": [
    "fig, axes = plt.subplots(1,2,gridspec_kw={'width_ratios': [1, 4]}, figsize=(9, 5))\n",
    "data_without_nan_out4.boxplot(column='Start_Lng',ax=axes[0])\n",
    "data_without_nan_out4.hist(column='Start_Lng',ax=axes[1])"
   ]
  },
  {
   "cell_type": "markdown",
   "metadata": {},
   "source": [
    "The same for Start_Lng."
   ]
  },
  {
   "cell_type": "code",
   "execution_count": 113,
   "metadata": {},
   "outputs": [],
   "source": [
    "data_without_nan_out = data_without_nan_out4"
   ]
  },
  {
   "cell_type": "markdown",
   "metadata": {},
   "source": [
    "Every numerical variable has been treated from outliers."
   ]
  },
  {
   "cell_type": "markdown",
   "metadata": {},
   "source": [
    "## Section 4: Gaussianity and Transformations"
   ]
  },
  {
   "cell_type": "markdown",
   "metadata": {},
   "source": [
    "Let's see if every variable is distributed with a gaussian."
   ]
  },
  {
   "cell_type": "code",
   "execution_count": 119,
   "metadata": {},
   "outputs": [
    {
     "data": {
      "text/html": [
       "<div>\n",
       "<style scoped>\n",
       "    .dataframe tbody tr th:only-of-type {\n",
       "        vertical-align: middle;\n",
       "    }\n",
       "\n",
       "    .dataframe tbody tr th {\n",
       "        vertical-align: top;\n",
       "    }\n",
       "\n",
       "    .dataframe thead th {\n",
       "        text-align: right;\n",
       "    }\n",
       "</style>\n",
       "<table border=\"1\" class=\"dataframe\">\n",
       "  <thead>\n",
       "    <tr style=\"text-align: right;\">\n",
       "      <th></th>\n",
       "      <th>Severity</th>\n",
       "      <th>Start_Lat</th>\n",
       "      <th>Start_Lng</th>\n",
       "      <th>Distance(mi)</th>\n",
       "      <th>Temperature(F)</th>\n",
       "      <th>Humidity(%)</th>\n",
       "      <th>Pressure(in)</th>\n",
       "      <th>Visibility(mi)</th>\n",
       "      <th>Amenity</th>\n",
       "      <th>Crossing</th>\n",
       "      <th>...</th>\n",
       "      <th>Traffic_Calming</th>\n",
       "      <th>Traffic_Signal</th>\n",
       "      <th>Turning_Loop</th>\n",
       "      <th>Astronomical_Twilight</th>\n",
       "      <th>Time_Difference</th>\n",
       "      <th>Year</th>\n",
       "      <th>Month</th>\n",
       "      <th>Day</th>\n",
       "      <th>Hour</th>\n",
       "      <th>Weekday</th>\n",
       "    </tr>\n",
       "  </thead>\n",
       "  <tbody>\n",
       "    <tr>\n",
       "      <th>count</th>\n",
       "      <td>328880.0</td>\n",
       "      <td>328880.000000</td>\n",
       "      <td>328880.000000</td>\n",
       "      <td>328880.000000</td>\n",
       "      <td>328880.000000</td>\n",
       "      <td>328880.000000</td>\n",
       "      <td>328880.000000</td>\n",
       "      <td>328880.0</td>\n",
       "      <td>328880</td>\n",
       "      <td>328880</td>\n",
       "      <td>...</td>\n",
       "      <td>328880</td>\n",
       "      <td>328880</td>\n",
       "      <td>328880</td>\n",
       "      <td>328880</td>\n",
       "      <td>328880.000000</td>\n",
       "      <td>328880.000000</td>\n",
       "      <td>328880.0</td>\n",
       "      <td>328880.0</td>\n",
       "      <td>328880.0</td>\n",
       "      <td>328880.0</td>\n",
       "    </tr>\n",
       "    <tr>\n",
       "      <th>unique</th>\n",
       "      <td>4.0</td>\n",
       "      <td>NaN</td>\n",
       "      <td>NaN</td>\n",
       "      <td>NaN</td>\n",
       "      <td>NaN</td>\n",
       "      <td>NaN</td>\n",
       "      <td>NaN</td>\n",
       "      <td>NaN</td>\n",
       "      <td>2</td>\n",
       "      <td>2</td>\n",
       "      <td>...</td>\n",
       "      <td>2</td>\n",
       "      <td>2</td>\n",
       "      <td>1</td>\n",
       "      <td>2</td>\n",
       "      <td>NaN</td>\n",
       "      <td>NaN</td>\n",
       "      <td>12.0</td>\n",
       "      <td>31.0</td>\n",
       "      <td>24.0</td>\n",
       "      <td>7.0</td>\n",
       "    </tr>\n",
       "    <tr>\n",
       "      <th>top</th>\n",
       "      <td>2.0</td>\n",
       "      <td>NaN</td>\n",
       "      <td>NaN</td>\n",
       "      <td>NaN</td>\n",
       "      <td>NaN</td>\n",
       "      <td>NaN</td>\n",
       "      <td>NaN</td>\n",
       "      <td>NaN</td>\n",
       "      <td>False</td>\n",
       "      <td>False</td>\n",
       "      <td>...</td>\n",
       "      <td>False</td>\n",
       "      <td>False</td>\n",
       "      <td>False</td>\n",
       "      <td>Day</td>\n",
       "      <td>NaN</td>\n",
       "      <td>NaN</td>\n",
       "      <td>11.0</td>\n",
       "      <td>23.0</td>\n",
       "      <td>16.0</td>\n",
       "      <td>4.0</td>\n",
       "    </tr>\n",
       "    <tr>\n",
       "      <th>freq</th>\n",
       "      <td>264543.0</td>\n",
       "      <td>NaN</td>\n",
       "      <td>NaN</td>\n",
       "      <td>NaN</td>\n",
       "      <td>NaN</td>\n",
       "      <td>NaN</td>\n",
       "      <td>NaN</td>\n",
       "      <td>NaN</td>\n",
       "      <td>324348</td>\n",
       "      <td>287282</td>\n",
       "      <td>...</td>\n",
       "      <td>328538</td>\n",
       "      <td>275311</td>\n",
       "      <td>328880</td>\n",
       "      <td>273337</td>\n",
       "      <td>NaN</td>\n",
       "      <td>NaN</td>\n",
       "      <td>32484.0</td>\n",
       "      <td>11873.0</td>\n",
       "      <td>27166.0</td>\n",
       "      <td>58572.0</td>\n",
       "    </tr>\n",
       "    <tr>\n",
       "      <th>mean</th>\n",
       "      <td>NaN</td>\n",
       "      <td>35.830729</td>\n",
       "      <td>-94.845382</td>\n",
       "      <td>0.516963</td>\n",
       "      <td>64.102644</td>\n",
       "      <td>59.763218</td>\n",
       "      <td>29.546489</td>\n",
       "      <td>10.0</td>\n",
       "      <td>NaN</td>\n",
       "      <td>NaN</td>\n",
       "      <td>...</td>\n",
       "      <td>NaN</td>\n",
       "      <td>NaN</td>\n",
       "      <td>NaN</td>\n",
       "      <td>NaN</td>\n",
       "      <td>4516.740936</td>\n",
       "      <td>2020.012448</td>\n",
       "      <td>NaN</td>\n",
       "      <td>NaN</td>\n",
       "      <td>NaN</td>\n",
       "      <td>NaN</td>\n",
       "    </tr>\n",
       "    <tr>\n",
       "      <th>std</th>\n",
       "      <td>NaN</td>\n",
       "      <td>5.054099</td>\n",
       "      <td>17.443525</td>\n",
       "      <td>0.609086</td>\n",
       "      <td>17.724216</td>\n",
       "      <td>21.296095</td>\n",
       "      <td>0.987008</td>\n",
       "      <td>0.0</td>\n",
       "      <td>NaN</td>\n",
       "      <td>NaN</td>\n",
       "      <td>...</td>\n",
       "      <td>NaN</td>\n",
       "      <td>NaN</td>\n",
       "      <td>NaN</td>\n",
       "      <td>NaN</td>\n",
       "      <td>2987.080623</td>\n",
       "      <td>1.871375</td>\n",
       "      <td>NaN</td>\n",
       "      <td>NaN</td>\n",
       "      <td>NaN</td>\n",
       "      <td>NaN</td>\n",
       "    </tr>\n",
       "    <tr>\n",
       "      <th>min</th>\n",
       "      <td>NaN</td>\n",
       "      <td>24.562117</td>\n",
       "      <td>-124.494330</td>\n",
       "      <td>0.001000</td>\n",
       "      <td>12.700000</td>\n",
       "      <td>2.000000</td>\n",
       "      <td>19.360000</td>\n",
       "      <td>10.0</td>\n",
       "      <td>NaN</td>\n",
       "      <td>NaN</td>\n",
       "      <td>...</td>\n",
       "      <td>NaN</td>\n",
       "      <td>NaN</td>\n",
       "      <td>NaN</td>\n",
       "      <td>NaN</td>\n",
       "      <td>0.000000</td>\n",
       "      <td>2016.000000</td>\n",
       "      <td>NaN</td>\n",
       "      <td>NaN</td>\n",
       "      <td>NaN</td>\n",
       "      <td>NaN</td>\n",
       "    </tr>\n",
       "    <tr>\n",
       "      <th>25%</th>\n",
       "      <td>NaN</td>\n",
       "      <td>32.909157</td>\n",
       "      <td>-117.246979</td>\n",
       "      <td>0.043000</td>\n",
       "      <td>52.000000</td>\n",
       "      <td>44.000000</td>\n",
       "      <td>29.380000</td>\n",
       "      <td>10.0</td>\n",
       "      <td>NaN</td>\n",
       "      <td>NaN</td>\n",
       "      <td>...</td>\n",
       "      <td>NaN</td>\n",
       "      <td>NaN</td>\n",
       "      <td>NaN</td>\n",
       "      <td>NaN</td>\n",
       "      <td>1793.000000</td>\n",
       "      <td>2019.000000</td>\n",
       "      <td>NaN</td>\n",
       "      <td>NaN</td>\n",
       "      <td>NaN</td>\n",
       "      <td>NaN</td>\n",
       "    </tr>\n",
       "    <tr>\n",
       "      <th>50%</th>\n",
       "      <td>NaN</td>\n",
       "      <td>35.363226</td>\n",
       "      <td>-87.670975</td>\n",
       "      <td>0.262000</td>\n",
       "      <td>66.000000</td>\n",
       "      <td>61.000000</td>\n",
       "      <td>29.860000</td>\n",
       "      <td>10.0</td>\n",
       "      <td>NaN</td>\n",
       "      <td>NaN</td>\n",
       "      <td>...</td>\n",
       "      <td>NaN</td>\n",
       "      <td>NaN</td>\n",
       "      <td>NaN</td>\n",
       "      <td>NaN</td>\n",
       "      <td>3611.000000</td>\n",
       "      <td>2020.000000</td>\n",
       "      <td>NaN</td>\n",
       "      <td>NaN</td>\n",
       "      <td>NaN</td>\n",
       "      <td>NaN</td>\n",
       "    </tr>\n",
       "    <tr>\n",
       "      <th>75%</th>\n",
       "      <td>NaN</td>\n",
       "      <td>39.757571</td>\n",
       "      <td>-80.363121</td>\n",
       "      <td>0.792000</td>\n",
       "      <td>78.000000</td>\n",
       "      <td>77.000000</td>\n",
       "      <td>30.030000</td>\n",
       "      <td>10.0</td>\n",
       "      <td>NaN</td>\n",
       "      <td>NaN</td>\n",
       "      <td>...</td>\n",
       "      <td>NaN</td>\n",
       "      <td>NaN</td>\n",
       "      <td>NaN</td>\n",
       "      <td>NaN</td>\n",
       "      <td>6141.000000</td>\n",
       "      <td>2022.000000</td>\n",
       "      <td>NaN</td>\n",
       "      <td>NaN</td>\n",
       "      <td>NaN</td>\n",
       "      <td>NaN</td>\n",
       "    </tr>\n",
       "    <tr>\n",
       "      <th>max</th>\n",
       "      <td>NaN</td>\n",
       "      <td>48.991585</td>\n",
       "      <td>-67.484130</td>\n",
       "      <td>2.576000</td>\n",
       "      <td>117.000000</td>\n",
       "      <td>99.000000</td>\n",
       "      <td>38.440000</td>\n",
       "      <td>10.0</td>\n",
       "      <td>NaN</td>\n",
       "      <td>NaN</td>\n",
       "      <td>...</td>\n",
       "      <td>NaN</td>\n",
       "      <td>NaN</td>\n",
       "      <td>NaN</td>\n",
       "      <td>NaN</td>\n",
       "      <td>15828.000000</td>\n",
       "      <td>2023.000000</td>\n",
       "      <td>NaN</td>\n",
       "      <td>NaN</td>\n",
       "      <td>NaN</td>\n",
       "      <td>NaN</td>\n",
       "    </tr>\n",
       "  </tbody>\n",
       "</table>\n",
       "<p>11 rows × 27 columns</p>\n",
       "</div>"
      ],
      "text/plain": [
       "        Severity      Start_Lat      Start_Lng   Distance(mi)  Temperature(F)  \\\n",
       "count   328880.0  328880.000000  328880.000000  328880.000000   328880.000000   \n",
       "unique       4.0            NaN            NaN            NaN             NaN   \n",
       "top          2.0            NaN            NaN            NaN             NaN   \n",
       "freq    264543.0            NaN            NaN            NaN             NaN   \n",
       "mean         NaN      35.830729     -94.845382       0.516963       64.102644   \n",
       "std          NaN       5.054099      17.443525       0.609086       17.724216   \n",
       "min          NaN      24.562117    -124.494330       0.001000       12.700000   \n",
       "25%          NaN      32.909157    -117.246979       0.043000       52.000000   \n",
       "50%          NaN      35.363226     -87.670975       0.262000       66.000000   \n",
       "75%          NaN      39.757571     -80.363121       0.792000       78.000000   \n",
       "max          NaN      48.991585     -67.484130       2.576000      117.000000   \n",
       "\n",
       "          Humidity(%)   Pressure(in)  Visibility(mi) Amenity Crossing  ...  \\\n",
       "count   328880.000000  328880.000000        328880.0  328880   328880  ...   \n",
       "unique            NaN            NaN             NaN       2        2  ...   \n",
       "top               NaN            NaN             NaN   False    False  ...   \n",
       "freq              NaN            NaN             NaN  324348   287282  ...   \n",
       "mean        59.763218      29.546489            10.0     NaN      NaN  ...   \n",
       "std         21.296095       0.987008             0.0     NaN      NaN  ...   \n",
       "min          2.000000      19.360000            10.0     NaN      NaN  ...   \n",
       "25%         44.000000      29.380000            10.0     NaN      NaN  ...   \n",
       "50%         61.000000      29.860000            10.0     NaN      NaN  ...   \n",
       "75%         77.000000      30.030000            10.0     NaN      NaN  ...   \n",
       "max         99.000000      38.440000            10.0     NaN      NaN  ...   \n",
       "\n",
       "       Traffic_Calming Traffic_Signal Turning_Loop Astronomical_Twilight  \\\n",
       "count           328880         328880       328880                328880   \n",
       "unique               2              2            1                     2   \n",
       "top              False          False        False                   Day   \n",
       "freq            328538         275311       328880                273337   \n",
       "mean               NaN            NaN          NaN                   NaN   \n",
       "std                NaN            NaN          NaN                   NaN   \n",
       "min                NaN            NaN          NaN                   NaN   \n",
       "25%                NaN            NaN          NaN                   NaN   \n",
       "50%                NaN            NaN          NaN                   NaN   \n",
       "75%                NaN            NaN          NaN                   NaN   \n",
       "max                NaN            NaN          NaN                   NaN   \n",
       "\n",
       "       Time_Difference           Year     Month       Day      Hour   Weekday  \n",
       "count    328880.000000  328880.000000  328880.0  328880.0  328880.0  328880.0  \n",
       "unique             NaN            NaN      12.0      31.0      24.0       7.0  \n",
       "top                NaN            NaN      11.0      23.0      16.0       4.0  \n",
       "freq               NaN            NaN   32484.0   11873.0   27166.0   58572.0  \n",
       "mean       4516.740936    2020.012448       NaN       NaN       NaN       NaN  \n",
       "std        2987.080623       1.871375       NaN       NaN       NaN       NaN  \n",
       "min           0.000000    2016.000000       NaN       NaN       NaN       NaN  \n",
       "25%        1793.000000    2019.000000       NaN       NaN       NaN       NaN  \n",
       "50%        3611.000000    2020.000000       NaN       NaN       NaN       NaN  \n",
       "75%        6141.000000    2022.000000       NaN       NaN       NaN       NaN  \n",
       "max       15828.000000    2023.000000       NaN       NaN       NaN       NaN  \n",
       "\n",
       "[11 rows x 27 columns]"
      ]
     },
     "execution_count": 119,
     "metadata": {},
     "output_type": "execute_result"
    }
   ],
   "source": [
    "data_without_nan_out.describe(include='all')"
   ]
  },
  {
   "cell_type": "code",
   "execution_count": 121,
   "metadata": {},
   "outputs": [
    {
     "data": {
      "image/png": "[encoded data removed]",
      "text/plain": [
       "<Figure size 640x480 with 1 Axes>"
      ]
     },
     "metadata": {},
     "output_type": "display_data"
    }
   ],
   "source": [
    "plt.bar(data_without_nan_out['Amenity'].value_counts().index, data_without_nan_out['Amenity'].value_counts().values)\n",
    "plt.title('Bar Plot of Categorical Variable')\n",
    "plt.xlabel('Category')\n",
    "plt.ylabel('Count')\n",
    "plt.show()"
   ]
  },
  {
   "cell_type": "markdown",
   "metadata": {},
   "source": [
    "## SECTION Y: NORMALIZATION"
   ]
  },
  {
   "cell_type": "code",
   "execution_count": 114,
   "metadata": {},
   "outputs": [
    {
     "data": {
      "text/html": [
       "<div>\n",
       "<style scoped>\n",
       "    .dataframe tbody tr th:only-of-type {\n",
       "        vertical-align: middle;\n",
       "    }\n",
       "\n",
       "    .dataframe tbody tr th {\n",
       "        vertical-align: top;\n",
       "    }\n",
       "\n",
       "    .dataframe thead th {\n",
       "        text-align: right;\n",
       "    }\n",
       "</style>\n",
       "<table border=\"1\" class=\"dataframe\">\n",
       "  <thead>\n",
       "    <tr style=\"text-align: right;\">\n",
       "      <th></th>\n",
       "      <th>Start_Lat</th>\n",
       "      <th>Start_Lng</th>\n",
       "      <th>Distance(mi)</th>\n",
       "      <th>Temperature(F)</th>\n",
       "      <th>Humidity(%)</th>\n",
       "      <th>Pressure(in)</th>\n",
       "      <th>Visibility(mi)</th>\n",
       "      <th>Time_Difference</th>\n",
       "      <th>Year</th>\n",
       "    </tr>\n",
       "  </thead>\n",
       "  <tbody>\n",
       "    <tr>\n",
       "      <th>count</th>\n",
       "      <td>328880.000000</td>\n",
       "      <td>328880.000000</td>\n",
       "      <td>328880.000000</td>\n",
       "      <td>328880.000000</td>\n",
       "      <td>328880.000000</td>\n",
       "      <td>328880.000000</td>\n",
       "      <td>328880.0</td>\n",
       "      <td>328880.000000</td>\n",
       "      <td>328880.000000</td>\n",
       "    </tr>\n",
       "    <tr>\n",
       "      <th>mean</th>\n",
       "      <td>35.830729</td>\n",
       "      <td>-94.845382</td>\n",
       "      <td>0.516963</td>\n",
       "      <td>64.102644</td>\n",
       "      <td>59.763218</td>\n",
       "      <td>29.546489</td>\n",
       "      <td>10.0</td>\n",
       "      <td>4516.740936</td>\n",
       "      <td>2020.012448</td>\n",
       "    </tr>\n",
       "    <tr>\n",
       "      <th>std</th>\n",
       "      <td>5.054099</td>\n",
       "      <td>17.443525</td>\n",
       "      <td>0.609086</td>\n",
       "      <td>17.724216</td>\n",
       "      <td>21.296095</td>\n",
       "      <td>0.987008</td>\n",
       "      <td>0.0</td>\n",
       "      <td>2987.080623</td>\n",
       "      <td>1.871375</td>\n",
       "    </tr>\n",
       "    <tr>\n",
       "      <th>min</th>\n",
       "      <td>24.562117</td>\n",
       "      <td>-124.494330</td>\n",
       "      <td>0.001000</td>\n",
       "      <td>12.700000</td>\n",
       "      <td>2.000000</td>\n",
       "      <td>19.360000</td>\n",
       "      <td>10.0</td>\n",
       "      <td>0.000000</td>\n",
       "      <td>2016.000000</td>\n",
       "    </tr>\n",
       "    <tr>\n",
       "      <th>25%</th>\n",
       "      <td>32.909157</td>\n",
       "      <td>-117.246979</td>\n",
       "      <td>0.043000</td>\n",
       "      <td>52.000000</td>\n",
       "      <td>44.000000</td>\n",
       "      <td>29.380000</td>\n",
       "      <td>10.0</td>\n",
       "      <td>1793.000000</td>\n",
       "      <td>2019.000000</td>\n",
       "    </tr>\n",
       "    <tr>\n",
       "      <th>50%</th>\n",
       "      <td>35.363226</td>\n",
       "      <td>-87.670975</td>\n",
       "      <td>0.262000</td>\n",
       "      <td>66.000000</td>\n",
       "      <td>61.000000</td>\n",
       "      <td>29.860000</td>\n",
       "      <td>10.0</td>\n",
       "      <td>3611.000000</td>\n",
       "      <td>2020.000000</td>\n",
       "    </tr>\n",
       "    <tr>\n",
       "      <th>75%</th>\n",
       "      <td>39.757571</td>\n",
       "      <td>-80.363121</td>\n",
       "      <td>0.792000</td>\n",
       "      <td>78.000000</td>\n",
       "      <td>77.000000</td>\n",
       "      <td>30.030000</td>\n",
       "      <td>10.0</td>\n",
       "      <td>6141.000000</td>\n",
       "      <td>2022.000000</td>\n",
       "    </tr>\n",
       "    <tr>\n",
       "      <th>max</th>\n",
       "      <td>48.991585</td>\n",
       "      <td>-67.484130</td>\n",
       "      <td>2.576000</td>\n",
       "      <td>117.000000</td>\n",
       "      <td>99.000000</td>\n",
       "      <td>38.440000</td>\n",
       "      <td>10.0</td>\n",
       "      <td>15828.000000</td>\n",
       "      <td>2023.000000</td>\n",
       "    </tr>\n",
       "  </tbody>\n",
       "</table>\n",
       "</div>"
      ],
      "text/plain": [
       "           Start_Lat      Start_Lng   Distance(mi)  Temperature(F)  \\\n",
       "count  328880.000000  328880.000000  328880.000000   328880.000000   \n",
       "mean       35.830729     -94.845382       0.516963       64.102644   \n",
       "std         5.054099      17.443525       0.609086       17.724216   \n",
       "min        24.562117    -124.494330       0.001000       12.700000   \n",
       "25%        32.909157    -117.246979       0.043000       52.000000   \n",
       "50%        35.363226     -87.670975       0.262000       66.000000   \n",
       "75%        39.757571     -80.363121       0.792000       78.000000   \n",
       "max        48.991585     -67.484130       2.576000      117.000000   \n",
       "\n",
       "         Humidity(%)   Pressure(in)  Visibility(mi)  Time_Difference  \\\n",
       "count  328880.000000  328880.000000        328880.0    328880.000000   \n",
       "mean       59.763218      29.546489            10.0      4516.740936   \n",
       "std        21.296095       0.987008             0.0      2987.080623   \n",
       "min         2.000000      19.360000            10.0         0.000000   \n",
       "25%        44.000000      29.380000            10.0      1793.000000   \n",
       "50%        61.000000      29.860000            10.0      3611.000000   \n",
       "75%        77.000000      30.030000            10.0      6141.000000   \n",
       "max        99.000000      38.440000            10.0     15828.000000   \n",
       "\n",
       "                Year  \n",
       "count  328880.000000  \n",
       "mean     2020.012448  \n",
       "std         1.871375  \n",
       "min      2016.000000  \n",
       "25%      2019.000000  \n",
       "50%      2020.000000  \n",
       "75%      2022.000000  \n",
       "max      2023.000000  "
      ]
     },
     "execution_count": 114,
     "metadata": {},
     "output_type": "execute_result"
    }
   ],
   "source": [
    "data_without_nan_out.describe(include=['int', 'float'])"
   ]
  },
  {
   "cell_type": "markdown",
   "metadata": {},
   "source": [
    "## SECTION x: SHUFFLING DATA"
   ]
  },
  {
   "cell_type": "code",
   "execution_count": null,
   "metadata": {},
   "outputs": [],
   "source": [
    "np.random.seed(1234)\n",
    "data_without_nan_out = data_without_nan_out.sample(frac=1).reset_index(drop=True)"
   ]
  }
 ],
 "metadata": {
  "kernelspec": {
   "display_name": "Python 3",
   "language": "python",
   "name": "python3"
  },
  "language_info": {
   "codemirror_mode": {
    "name": "ipython",
    "version": 3
   },
   "file_extension": ".py",
   "mimetype": "text/x-python",
   "name": "python",
   "nbconvert_exporter": "python",
   "pygments_lexer": "ipython3",
   "version": "3.10.13"
  }
 },
 "nbformat": 4,
 "nbformat_minor": 2
}
