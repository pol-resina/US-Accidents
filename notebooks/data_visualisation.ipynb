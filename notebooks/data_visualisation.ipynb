{
 "cells": [
  {
   "cell_type": "code",
   "execution_count": 67,
   "metadata": {},
   "outputs": [],
   "source": [
    "# imports\n",
    "import pandas as pd\n",
    "import numpy as np\n",
    "import matplotlib.pyplot as plt\n",
    "import seaborn as sns\n",
    "from sklearn.neighbors import KNeighborsRegressor, KNeighborsClassifier\n",
    "from datetime import datetime"
   ]
  },
  {
   "cell_type": "code",
   "execution_count": 68,
   "metadata": {},
   "outputs": [
    {
     "data": {
      "text/plain": [
       "(500000, 46)"
      ]
     },
     "execution_count": 68,
     "metadata": {},
     "output_type": "execute_result"
    }
   ],
   "source": [
    "# read in the data\n",
    "data = pd.read_csv('../data/US_Accidents_March23_sampled_500k.csv')\n",
    "data.shape"
   ]
  },
  {
   "cell_type": "markdown",
   "metadata": {},
   "source": [
    "Let's see the variables in our data and decide which will we our target variable."
   ]
  },
  {
   "cell_type": "code",
   "execution_count": 69,
   "metadata": {},
   "outputs": [
    {
     "data": {
      "text/plain": [
       "Index(['ID', 'Source', 'Severity', 'Start_Time', 'End_Time', 'Start_Lat',\n",
       "       'Start_Lng', 'End_Lat', 'End_Lng', 'Distance(mi)', 'Description',\n",
       "       'Street', 'City', 'County', 'State', 'Zipcode', 'Country', 'Timezone',\n",
       "       'Airport_Code', 'Weather_Timestamp', 'Temperature(F)', 'Wind_Chill(F)',\n",
       "       'Humidity(%)', 'Pressure(in)', 'Visibility(mi)', 'Wind_Direction',\n",
       "       'Wind_Speed(mph)', 'Precipitation(in)', 'Weather_Condition', 'Amenity',\n",
       "       'Bump', 'Crossing', 'Give_Way', 'Junction', 'No_Exit', 'Railway',\n",
       "       'Roundabout', 'Station', 'Stop', 'Traffic_Calming', 'Traffic_Signal',\n",
       "       'Turning_Loop', 'Sunrise_Sunset', 'Civil_Twilight', 'Nautical_Twilight',\n",
       "       'Astronomical_Twilight'],\n",
       "      dtype='object')"
      ]
     },
     "execution_count": 69,
     "metadata": {},
     "output_type": "execute_result"
    }
   ],
   "source": [
    "data.columns"
   ]
  },
  {
   "cell_type": "markdown",
   "metadata": {},
   "source": [
    "The target variable will be 'Severity', this is how important, the gravity of the accident, in order to predict how does it affect the traffic."
   ]
  },
  {
   "cell_type": "markdown",
   "metadata": {},
   "source": [
    "First we take off some variables which we consider may not explain the target."
   ]
  },
  {
   "cell_type": "code",
   "execution_count": 70,
   "metadata": {},
   "outputs": [
    {
     "data": {
      "text/plain": [
       "(500000, 35)"
      ]
     },
     "execution_count": 70,
     "metadata": {},
     "output_type": "execute_result"
    }
   ],
   "source": [
    "data = data.drop(columns=['ID', 'Source', 'Description', 'Street', 'City', 'County', 'State', 'Zipcode', 'Country', 'Timezone', 'Weather_Timestamp'])\n",
    "data.shape"
   ]
  },
  {
   "cell_type": "markdown",
   "metadata": {},
   "source": [
    "The Start_Time and End_Time variables cause some problems since they are strings and are difficult to compute. In order to avoid further problems we will create a new variable called Elapsed_Time, which will be the difference between End_Time and Start_Time."
   ]
  },
  {
   "cell_type": "code",
   "execution_count": 71,
   "metadata": {},
   "outputs": [
    {
     "data": {
      "text/plain": [
       "0"
      ]
     },
     "execution_count": 71,
     "metadata": {},
     "output_type": "execute_result"
    }
   ],
   "source": [
    "data['Start_Time'].isna().sum()"
   ]
  },
  {
   "cell_type": "code",
   "execution_count": 72,
   "metadata": {},
   "outputs": [
    {
     "data": {
      "text/plain": [
       "0"
      ]
     },
     "execution_count": 72,
     "metadata": {},
     "output_type": "execute_result"
    }
   ],
   "source": [
    "data['End_Time'].isna().sum()"
   ]
  },
  {
   "cell_type": "markdown",
   "metadata": {},
   "source": [
    "These two variables do not present any Nan, so we can proceed creating this new variable."
   ]
  },
  {
   "cell_type": "code",
   "execution_count": 66,
   "metadata": {},
   "outputs": [
    {
     "ename": "AttributeError",
     "evalue": "'Timestamp' object has no attribute 'split'",
     "output_type": "error",
     "traceback": [
      "\u001b[1;31m---------------------------------------------------------------------------\u001b[0m",
      "\u001b[1;31mAttributeError\u001b[0m                            Traceback (most recent call last)",
      "Cell \u001b[1;32mIn[66], line 5\u001b[0m\n\u001b[0;32m      1\u001b[0m time_elapsed: \u001b[38;5;28mlist\u001b[39m[\u001b[38;5;28mint\u001b[39m] \u001b[38;5;241m=\u001b[39m \u001b[38;5;28mlist\u001b[39m()\n\u001b[0;32m      3\u001b[0m \u001b[38;5;28;01mfor\u001b[39;00m start_time, end_time \u001b[38;5;129;01min\u001b[39;00m \u001b[38;5;28mzip\u001b[39m(data[\u001b[38;5;124m'\u001b[39m\u001b[38;5;124mStart_Time\u001b[39m\u001b[38;5;124m'\u001b[39m], data[\u001b[38;5;124m'\u001b[39m\u001b[38;5;124mEnd_Time\u001b[39m\u001b[38;5;124m'\u001b[39m]):\n\u001b[1;32m----> 5\u001b[0m     start_time \u001b[38;5;241m=\u001b[39m \u001b[43mstart_time\u001b[49m\u001b[38;5;241;43m.\u001b[39;49m\u001b[43msplit\u001b[49m(\u001b[38;5;124m'\u001b[39m\u001b[38;5;124m.\u001b[39m\u001b[38;5;124m'\u001b[39m)[\u001b[38;5;241m0\u001b[39m]\n\u001b[0;32m      6\u001b[0m     end_time \u001b[38;5;241m=\u001b[39m end_time\u001b[38;5;241m.\u001b[39msplit(\u001b[38;5;124m'\u001b[39m\u001b[38;5;124m.\u001b[39m\u001b[38;5;124m'\u001b[39m)[\u001b[38;5;241m0\u001b[39m]\n\u001b[0;32m      8\u001b[0m     start \u001b[38;5;241m=\u001b[39m datetime\u001b[38;5;241m.\u001b[39mstrptime(start_time, \u001b[38;5;124m'\u001b[39m\u001b[38;5;124m%\u001b[39m\u001b[38;5;124mY-\u001b[39m\u001b[38;5;124m%\u001b[39m\u001b[38;5;124mm-\u001b[39m\u001b[38;5;132;01m%d\u001b[39;00m\u001b[38;5;124m \u001b[39m\u001b[38;5;124m%\u001b[39m\u001b[38;5;124mH:\u001b[39m\u001b[38;5;124m%\u001b[39m\u001b[38;5;124mM:\u001b[39m\u001b[38;5;124m%\u001b[39m\u001b[38;5;124mS\u001b[39m\u001b[38;5;124m'\u001b[39m)\n",
      "\u001b[1;31mAttributeError\u001b[0m: 'Timestamp' object has no attribute 'split'"
     ]
    }
   ],
   "source": [
    "time_elapsed: list[int] = list()\n",
    "\n",
    "for start_time, end_time in zip(data['Start_Time'], data['End_Time']):\n",
    "\n",
    "    start_time = start_time.split('.')[0]\n",
    "    end_time = end_time.split('.')[0]\n",
    "\n",
    "    start = datetime.strptime(start_time, '%Y-%m-%d %H:%M:%S')\n",
    "    end = datetime.strptime(end_time, '%Y-%m-%d %H:%M:%S')\n",
    "    time_elapsed.append((end-start).seconds)\n",
    "\n",
    "data['Time_Difference'] = pd.DataFrame(time_elapsed)\n",
    "\n",
    "data['Start_Time'] = pd.to_datetime(data['Start_Time'], errors = 'coerce')\n",
    "data['End_Time'] = pd.to_datetime(data['End_Time'], errors = 'coerce')\n",
    "\n",
    "data['Year'] = data['Start_Time'].dt.year\n",
    "data['Month'] = data['Start_Time'].dt.month\n",
    "data['Day'] = data['Start_Time'].dt.day\n",
    "data['Hour'] = data['Start_Time'].dt.hour\n",
    "data['Weekday'] = data['Start_Time'].dt.weekday\n",
    "\n",
    "print(data['Day'])\n",
    "\n",
    "data.shape"
   ]
  },
  {
   "cell_type": "markdown",
   "metadata": {},
   "source": [
    "Now that we have this information in this new variable, we can take off 'Start_Time' and 'End_Time'."
   ]
  },
  {
   "cell_type": "code",
   "execution_count": 63,
   "metadata": {},
   "outputs": [
    {
     "data": {
      "text/plain": [
       "(500000, 39)"
      ]
     },
     "execution_count": 63,
     "metadata": {},
     "output_type": "execute_result"
    }
   ],
   "source": [
    "data_w_c = data.drop(columns=['Start_Time', 'End_Time'])\n",
    "data_w_c.shape"
   ]
  },
  {
   "cell_type": "markdown",
   "metadata": {},
   "source": [
    "SEARCHING NAN'S"
   ]
  },
  {
   "cell_type": "markdown",
   "metadata": {},
   "source": [
    "Let's see the summary of our dataset now in order to Identify possibles Nan's."
   ]
  },
  {
   "cell_type": "code",
   "execution_count": 64,
   "metadata": {},
   "outputs": [
    {
     "name": "stdout",
     "output_type": "stream",
     "text": [
      "<class 'pandas.core.frame.DataFrame'>\n",
      "RangeIndex: 500000 entries, 0 to 499999\n",
      "Data columns (total 39 columns):\n",
      " #   Column                 Non-Null Count   Dtype  \n",
      "---  ------                 --------------   -----  \n",
      " 0   Severity               500000 non-null  int64  \n",
      " 1   Start_Lat              500000 non-null  float64\n",
      " 2   Start_Lng              500000 non-null  float64\n",
      " 3   End_Lat                279623 non-null  float64\n",
      " 4   End_Lng                279623 non-null  float64\n",
      " 5   Distance(mi)           500000 non-null  float64\n",
      " 6   Airport_Code           498554 non-null  object \n",
      " 7   Temperature(F)         489534 non-null  float64\n",
      " 8   Wind_Chill(F)          370983 non-null  float64\n",
      " 9   Humidity(%)            488870 non-null  float64\n",
      " 10  Pressure(in)           491072 non-null  float64\n",
      " 11  Visibility(mi)         488709 non-null  float64\n",
      " 12  Wind_Direction         488803 non-null  object \n",
      " 13  Wind_Speed(mph)        463013 non-null  float64\n",
      " 14  Precipitation(in)      357384 non-null  float64\n",
      " 15  Weather_Condition      488899 non-null  object \n",
      " 16  Amenity                500000 non-null  bool   \n",
      " 17  Bump                   500000 non-null  bool   \n",
      " 18  Crossing               500000 non-null  bool   \n",
      " 19  Give_Way               500000 non-null  bool   \n",
      " 20  Junction               500000 non-null  bool   \n",
      " 21  No_Exit                500000 non-null  bool   \n",
      " 22  Railway                500000 non-null  bool   \n",
      " 23  Roundabout             500000 non-null  bool   \n",
      " 24  Station                500000 non-null  bool   \n",
      " 25  Stop                   500000 non-null  bool   \n",
      " 26  Traffic_Calming        500000 non-null  bool   \n",
      " 27  Traffic_Signal         500000 non-null  bool   \n",
      " 28  Turning_Loop           500000 non-null  bool   \n",
      " 29  Sunrise_Sunset         498517 non-null  object \n",
      " 30  Civil_Twilight         498517 non-null  object \n",
      " 31  Nautical_Twilight      498517 non-null  object \n",
      " 32  Astronomical_Twilight  498517 non-null  object \n",
      " 33  Time_Difference        500000 non-null  int64  \n",
      " 34  Year                   451837 non-null  float64\n",
      " 35  Month                  451837 non-null  float64\n",
      " 36  Day                    451837 non-null  float64\n",
      " 37  Hour                   451837 non-null  float64\n",
      " 38  Weekday                451837 non-null  float64\n",
      "dtypes: bool(13), float64(17), int64(2), object(7)\n",
      "memory usage: 105.4+ MB\n"
     ]
    }
   ],
   "source": [
    "data_w_c.info()"
   ]
  },
  {
   "cell_type": "markdown",
   "metadata": {},
   "source": [
    "Before continuing, we will take off more variables from the dataset because we think they do not explain anything relevant. For example end_lat and end_lng are more or less the same as in the start. The rest of them are also no relevant in our point of view, in order to estimate the affected traffic."
   ]
  },
  {
   "cell_type": "code",
   "execution_count": 65,
   "metadata": {},
   "outputs": [
    {
     "data": {
      "text/plain": [
       "(500000, 26)"
      ]
     },
     "execution_count": 65,
     "metadata": {},
     "output_type": "execute_result"
    }
   ],
   "source": [
    "data_w_c = data_w_c.drop(columns=['End_Lat','End_Lng','Airport_Code','Wind_Chill(F)','Wind_Direction','Wind_Speed(mph)','Precipitation(in)','Weather_Condition','Bump','Sunrise_Sunset','Civil_Twilight','Nautical_Twilight','Astronomical_Twilight'])\n",
    "data_w_c.shape"
   ]
  },
  {
   "cell_type": "markdown",
   "metadata": {},
   "source": [
    "The target value severity is categorical and Python identifies it as an int, so lets correct this. Also for the bool variables, let's make them an object."
   ]
  },
  {
   "cell_type": "code",
   "execution_count": 12,
   "metadata": {},
   "outputs": [],
   "source": [
    "data_w_c.Severity = data_w_c.Severity.astype('object')\n",
    "for column in ['Amenity', 'Crossing', 'Give_Way', 'Junction', 'No_Exit', 'Railway', 'Roundabout', 'Station', 'Stop', 'Traffic_Calming', 'Traffic_Signal', 'Turning_Loop']:\n",
    "    data_w_c[column] = data_w_c[column].astype('object')"
   ]
  },
  {
   "cell_type": "code",
   "execution_count": 14,
   "metadata": {},
   "outputs": [
    {
     "name": "stdout",
     "output_type": "stream",
     "text": [
      "<class 'pandas.core.frame.DataFrame'>\n",
      "RangeIndex: 500000 entries, 0 to 499999\n",
      "Data columns (total 20 columns):\n",
      " #   Column           Non-Null Count   Dtype  \n",
      "---  ------           --------------   -----  \n",
      " 0   Severity         500000 non-null  object \n",
      " 1   Start_Lat        500000 non-null  float64\n",
      " 2   Start_Lng        500000 non-null  float64\n",
      " 3   Distance(mi)     500000 non-null  float64\n",
      " 4   Temperature(F)   489534 non-null  float64\n",
      " 5   Humidity(%)      488870 non-null  float64\n",
      " 6   Pressure(in)     491072 non-null  float64\n",
      " 7   Visibility(mi)   488709 non-null  float64\n",
      " 8   Amenity          500000 non-null  object \n",
      " 9   Crossing         500000 non-null  object \n",
      " 10  Give_Way         500000 non-null  object \n",
      " 11  Junction         500000 non-null  object \n",
      " 12  No_Exit          500000 non-null  object \n",
      " 13  Railway          500000 non-null  object \n",
      " 14  Roundabout       500000 non-null  object \n",
      " 15  Station          500000 non-null  object \n",
      " 16  Stop             500000 non-null  object \n",
      " 17  Traffic_Calming  500000 non-null  object \n",
      " 18  Traffic_Signal   500000 non-null  object \n",
      " 19  Turning_Loop     500000 non-null  object \n",
      "dtypes: float64(7), object(13)\n",
      "memory usage: 76.3+ MB\n"
     ]
    }
   ],
   "source": [
    "data_w_c.info()"
   ]
  },
  {
   "cell_type": "markdown",
   "metadata": {},
   "source": [
    "First we will compute the missing values for categorical variables and then for the continuous."
   ]
  },
  {
   "cell_type": "code",
   "execution_count": 15,
   "metadata": {},
   "outputs": [
    {
     "data": {
      "text/html": [
       "<div>\n",
       "<style scoped>\n",
       "    .dataframe tbody tr th:only-of-type {\n",
       "        vertical-align: middle;\n",
       "    }\n",
       "\n",
       "    .dataframe tbody tr th {\n",
       "        vertical-align: top;\n",
       "    }\n",
       "\n",
       "    .dataframe thead th {\n",
       "        text-align: right;\n",
       "    }\n",
       "</style>\n",
       "<table border=\"1\" class=\"dataframe\">\n",
       "  <thead>\n",
       "    <tr style=\"text-align: right;\">\n",
       "      <th></th>\n",
       "      <th>Severity</th>\n",
       "      <th>Amenity</th>\n",
       "      <th>Crossing</th>\n",
       "      <th>Give_Way</th>\n",
       "      <th>Junction</th>\n",
       "      <th>No_Exit</th>\n",
       "      <th>Railway</th>\n",
       "      <th>Roundabout</th>\n",
       "      <th>Station</th>\n",
       "      <th>Stop</th>\n",
       "      <th>Traffic_Calming</th>\n",
       "      <th>Traffic_Signal</th>\n",
       "      <th>Turning_Loop</th>\n",
       "    </tr>\n",
       "  </thead>\n",
       "  <tbody>\n",
       "    <tr>\n",
       "      <th>count</th>\n",
       "      <td>500000</td>\n",
       "      <td>500000</td>\n",
       "      <td>500000</td>\n",
       "      <td>500000</td>\n",
       "      <td>500000</td>\n",
       "      <td>500000</td>\n",
       "      <td>500000</td>\n",
       "      <td>500000</td>\n",
       "      <td>500000</td>\n",
       "      <td>500000</td>\n",
       "      <td>500000</td>\n",
       "      <td>500000</td>\n",
       "      <td>500000</td>\n",
       "    </tr>\n",
       "    <tr>\n",
       "      <th>unique</th>\n",
       "      <td>4</td>\n",
       "      <td>2</td>\n",
       "      <td>2</td>\n",
       "      <td>2</td>\n",
       "      <td>2</td>\n",
       "      <td>2</td>\n",
       "      <td>2</td>\n",
       "      <td>2</td>\n",
       "      <td>2</td>\n",
       "      <td>2</td>\n",
       "      <td>2</td>\n",
       "      <td>2</td>\n",
       "      <td>1</td>\n",
       "    </tr>\n",
       "    <tr>\n",
       "      <th>top</th>\n",
       "      <td>2</td>\n",
       "      <td>False</td>\n",
       "      <td>False</td>\n",
       "      <td>False</td>\n",
       "      <td>False</td>\n",
       "      <td>False</td>\n",
       "      <td>False</td>\n",
       "      <td>False</td>\n",
       "      <td>False</td>\n",
       "      <td>False</td>\n",
       "      <td>False</td>\n",
       "      <td>False</td>\n",
       "      <td>False</td>\n",
       "    </tr>\n",
       "    <tr>\n",
       "      <th>freq</th>\n",
       "      <td>398142</td>\n",
       "      <td>493809</td>\n",
       "      <td>443747</td>\n",
       "      <td>497638</td>\n",
       "      <td>462993</td>\n",
       "      <td>498755</td>\n",
       "      <td>495680</td>\n",
       "      <td>499987</td>\n",
       "      <td>487002</td>\n",
       "      <td>485937</td>\n",
       "      <td>499534</td>\n",
       "      <td>425965</td>\n",
       "      <td>500000</td>\n",
       "    </tr>\n",
       "  </tbody>\n",
       "</table>\n",
       "</div>"
      ],
      "text/plain": [
       "        Severity Amenity Crossing Give_Way Junction No_Exit Railway  \\\n",
       "count     500000  500000   500000   500000   500000  500000  500000   \n",
       "unique         4       2        2        2        2       2       2   \n",
       "top            2   False    False    False    False   False   False   \n",
       "freq      398142  493809   443747   497638   462993  498755  495680   \n",
       "\n",
       "       Roundabout Station    Stop Traffic_Calming Traffic_Signal Turning_Loop  \n",
       "count      500000  500000  500000          500000         500000       500000  \n",
       "unique          2       2       2               2              2            1  \n",
       "top         False   False   False           False          False        False  \n",
       "freq       499987  487002  485937          499534         425965       500000  "
      ]
     },
     "execution_count": 15,
     "metadata": {},
     "output_type": "execute_result"
    }
   ],
   "source": [
    "data_w_c.describe(include=['O'])"
   ]
  },
  {
   "cell_type": "markdown",
   "metadata": {},
   "source": [
    "It does not seem to be any missing value for the categorical values of the dataset, using the information available from the description. There are some Nan's, but these are detected by Python, so for the moment there is anything to worry about."
   ]
  },
  {
   "cell_type": "markdown",
   "metadata": {},
   "source": [
    "Now let's do the same for numerical variables."
   ]
  },
  {
   "cell_type": "code",
   "execution_count": 16,
   "metadata": {},
   "outputs": [
    {
     "data": {
      "text/html": [
       "<div>\n",
       "<style scoped>\n",
       "    .dataframe tbody tr th:only-of-type {\n",
       "        vertical-align: middle;\n",
       "    }\n",
       "\n",
       "    .dataframe tbody tr th {\n",
       "        vertical-align: top;\n",
       "    }\n",
       "\n",
       "    .dataframe thead th {\n",
       "        text-align: right;\n",
       "    }\n",
       "</style>\n",
       "<table border=\"1\" class=\"dataframe\">\n",
       "  <thead>\n",
       "    <tr style=\"text-align: right;\">\n",
       "      <th></th>\n",
       "      <th>Start_Lat</th>\n",
       "      <th>Start_Lng</th>\n",
       "      <th>Distance(mi)</th>\n",
       "      <th>Temperature(F)</th>\n",
       "      <th>Humidity(%)</th>\n",
       "      <th>Pressure(in)</th>\n",
       "      <th>Visibility(mi)</th>\n",
       "    </tr>\n",
       "  </thead>\n",
       "  <tbody>\n",
       "    <tr>\n",
       "      <th>count</th>\n",
       "      <td>500000.000000</td>\n",
       "      <td>500000.000000</td>\n",
       "      <td>500000.000000</td>\n",
       "      <td>489534.000000</td>\n",
       "      <td>488870.000000</td>\n",
       "      <td>491072.000000</td>\n",
       "      <td>488709.000000</td>\n",
       "    </tr>\n",
       "    <tr>\n",
       "      <th>mean</th>\n",
       "      <td>36.206421</td>\n",
       "      <td>-94.736583</td>\n",
       "      <td>0.564317</td>\n",
       "      <td>61.646254</td>\n",
       "      <td>64.834921</td>\n",
       "      <td>29.536621</td>\n",
       "      <td>9.091540</td>\n",
       "    </tr>\n",
       "    <tr>\n",
       "      <th>std</th>\n",
       "      <td>5.071411</td>\n",
       "      <td>17.405761</td>\n",
       "      <td>1.774872</td>\n",
       "      <td>19.000133</td>\n",
       "      <td>22.826158</td>\n",
       "      <td>1.008666</td>\n",
       "      <td>2.708083</td>\n",
       "    </tr>\n",
       "    <tr>\n",
       "      <th>min</th>\n",
       "      <td>24.562117</td>\n",
       "      <td>-124.497420</td>\n",
       "      <td>0.000000</td>\n",
       "      <td>-77.800000</td>\n",
       "      <td>1.000000</td>\n",
       "      <td>0.120000</td>\n",
       "      <td>0.000000</td>\n",
       "    </tr>\n",
       "    <tr>\n",
       "      <th>25%</th>\n",
       "      <td>33.416823</td>\n",
       "      <td>-117.233047</td>\n",
       "      <td>0.000000</td>\n",
       "      <td>49.000000</td>\n",
       "      <td>48.000000</td>\n",
       "      <td>29.370000</td>\n",
       "      <td>10.000000</td>\n",
       "    </tr>\n",
       "    <tr>\n",
       "      <th>50%</th>\n",
       "      <td>35.832147</td>\n",
       "      <td>-87.794365</td>\n",
       "      <td>0.029000</td>\n",
       "      <td>64.000000</td>\n",
       "      <td>67.000000</td>\n",
       "      <td>29.860000</td>\n",
       "      <td>10.000000</td>\n",
       "    </tr>\n",
       "    <tr>\n",
       "      <th>75%</th>\n",
       "      <td>40.082443</td>\n",
       "      <td>-80.359601</td>\n",
       "      <td>0.465000</td>\n",
       "      <td>76.000000</td>\n",
       "      <td>84.000000</td>\n",
       "      <td>30.030000</td>\n",
       "      <td>10.000000</td>\n",
       "    </tr>\n",
       "    <tr>\n",
       "      <th>max</th>\n",
       "      <td>48.999569</td>\n",
       "      <td>-67.484130</td>\n",
       "      <td>193.479996</td>\n",
       "      <td>207.000000</td>\n",
       "      <td>100.000000</td>\n",
       "      <td>38.440000</td>\n",
       "      <td>130.000000</td>\n",
       "    </tr>\n",
       "  </tbody>\n",
       "</table>\n",
       "</div>"
      ],
      "text/plain": [
       "           Start_Lat      Start_Lng   Distance(mi)  Temperature(F)  \\\n",
       "count  500000.000000  500000.000000  500000.000000   489534.000000   \n",
       "mean       36.206421     -94.736583       0.564317       61.646254   \n",
       "std         5.071411      17.405761       1.774872       19.000133   \n",
       "min        24.562117    -124.497420       0.000000      -77.800000   \n",
       "25%        33.416823    -117.233047       0.000000       49.000000   \n",
       "50%        35.832147     -87.794365       0.029000       64.000000   \n",
       "75%        40.082443     -80.359601       0.465000       76.000000   \n",
       "max        48.999569     -67.484130     193.479996      207.000000   \n",
       "\n",
       "         Humidity(%)   Pressure(in)  Visibility(mi)  \n",
       "count  488870.000000  491072.000000   488709.000000  \n",
       "mean       64.834921      29.536621        9.091540  \n",
       "std        22.826158       1.008666        2.708083  \n",
       "min         1.000000       0.120000        0.000000  \n",
       "25%        48.000000      29.370000       10.000000  \n",
       "50%        67.000000      29.860000       10.000000  \n",
       "75%        84.000000      30.030000       10.000000  \n",
       "max       100.000000      38.440000      130.000000  "
      ]
     },
     "execution_count": 16,
     "metadata": {},
     "output_type": "execute_result"
    }
   ],
   "source": [
    "data_w_c.describe(include=['int', 'float'])"
   ]
  },
  {
   "cell_type": "markdown",
   "metadata": {},
   "source": [
    "The Distance variable contains some 0's, it cannot be since if there has been an accident, the lenght of the road affected by it is greater than 0. The temperature of 200 F is not possible here, so it is also a Nan, the same with temperatures smaller then -40 F.The humidity percentage contains some 1, it is very low and cannot be real so we compute it as a missing value, the same for one of 100%. The minimum of the pressure (0.12 in) is very low for a place in the Earth, so there are also missing values there. A visibility of 0 miles is also a missing value, although it could be due to a climatological adversity, the same for 130 miles."
   ]
  },
  {
   "cell_type": "code",
   "execution_count": 29,
   "metadata": {},
   "outputs": [
    {
     "data": {
      "text/plain": [
       "<Axes: >"
      ]
     },
     "execution_count": 29,
     "metadata": {},
     "output_type": "execute_result"
    },
    {
     "data": {
      "image/png": "[encoded data removed]",
      "text/plain": [
       "<Figure size 640x480 with 1 Axes>"
      ]
     },
     "metadata": {},
     "output_type": "display_data"
    }
   ],
   "source": [
    "data_w_c['Distance(mi)'].hist()"
   ]
  },
  {
   "cell_type": "code",
   "execution_count": 30,
   "metadata": {},
   "outputs": [
    {
     "data": {
      "text/plain": [
       "<Axes: >"
      ]
     },
     "execution_count": 30,
     "metadata": {},
     "output_type": "execute_result"
    },
    {
     "data": {
      "image/png": "[encoded data removed]",
      "text/plain": [
       "<Figure size 640x480 with 1 Axes>"
      ]
     },
     "metadata": {},
     "output_type": "display_data"
    }
   ],
   "source": [
    "data_w_c['Distance(mi)'][(data_w_c['Distance(mi)'] != 0)].hist()"
   ]
  },
  {
   "cell_type": "code",
   "execution_count": 17,
   "metadata": {},
   "outputs": [
    {
     "data": {
      "text/plain": [
       "<Axes: >"
      ]
     },
     "execution_count": 17,
     "metadata": {},
     "output_type": "execute_result"
    },
    {
     "data": {
      "image/png": "[encoded data removed]",
      "text/plain": [
       "<Figure size 640x480 with 1 Axes>"
      ]
     },
     "metadata": {},
     "output_type": "display_data"
    }
   ],
   "source": [
    "data_w_c['Temperature(F)'].hist()"
   ]
  },
  {
   "cell_type": "code",
   "execution_count": 18,
   "metadata": {},
   "outputs": [
    {
     "data": {
      "text/plain": [
       "<Axes: >"
      ]
     },
     "execution_count": 18,
     "metadata": {},
     "output_type": "execute_result"
    },
    {
     "data": {
      "image/png": "[encoded data removed]",
      "text/plain": [
       "<Figure size 640x480 with 1 Axes>"
      ]
     },
     "metadata": {},
     "output_type": "display_data"
    }
   ],
   "source": [
    "data_w_c['Temperature(F)'][(data_w_c['Temperature(F)'] <= 200)&(data_w_c['Temperature(F)'] > -50)].hist()"
   ]
  },
  {
   "cell_type": "code",
   "execution_count": 19,
   "metadata": {},
   "outputs": [
    {
     "data": {
      "text/plain": [
       "<Axes: >"
      ]
     },
     "execution_count": 19,
     "metadata": {},
     "output_type": "execute_result"
    },
    {
     "data": {
      "image/png": "[encoded data removed]",
      "text/plain": [
       "<Figure size 640x480 with 1 Axes>"
      ]
     },
     "metadata": {},
     "output_type": "display_data"
    }
   ],
   "source": [
    "data_w_c['Humidity(%)'].hist()"
   ]
  },
  {
   "cell_type": "code",
   "execution_count": 20,
   "metadata": {},
   "outputs": [
    {
     "data": {
      "text/plain": [
       "<Axes: >"
      ]
     },
     "execution_count": 20,
     "metadata": {},
     "output_type": "execute_result"
    },
    {
     "data": {
      "image/png": "[encoded data removed]",
      "text/plain": [
       "<Figure size 640x480 with 1 Axes>"
      ]
     },
     "metadata": {},
     "output_type": "display_data"
    }
   ],
   "source": [
    "data_w_c['Humidity(%)'][(data_w_c['Humidity(%)'] !=1)&(data_w_c['Humidity(%)'] != 100)].hist()"
   ]
  },
  {
   "cell_type": "code",
   "execution_count": 21,
   "metadata": {},
   "outputs": [
    {
     "data": {
      "text/plain": [
       "<Axes: >"
      ]
     },
     "execution_count": 21,
     "metadata": {},
     "output_type": "execute_result"
    },
    {
     "data": {
      "image/png": "[encoded data removed]",
      "text/plain": [
       "<Figure size 640x480 with 1 Axes>"
      ]
     },
     "metadata": {},
     "output_type": "display_data"
    }
   ],
   "source": [
    "data_w_c['Pressure(in)'].hist()"
   ]
  },
  {
   "cell_type": "code",
   "execution_count": 22,
   "metadata": {},
   "outputs": [
    {
     "data": {
      "text/plain": [
       "<Axes: >"
      ]
     },
     "execution_count": 22,
     "metadata": {},
     "output_type": "execute_result"
    },
    {
     "data": {
      "image/png": "[encoded data removed]",
      "text/plain": [
       "<Figure size 640x480 with 1 Axes>"
      ]
     },
     "metadata": {},
     "output_type": "display_data"
    }
   ],
   "source": [
    "data_w_c['Pressure(in)'][(data_w_c['Pressure(in)'] > 3)].hist()"
   ]
  },
  {
   "cell_type": "code",
   "execution_count": 23,
   "metadata": {},
   "outputs": [
    {
     "data": {
      "text/plain": [
       "<Axes: >"
      ]
     },
     "execution_count": 23,
     "metadata": {},
     "output_type": "execute_result"
    },
    {
     "data": {
      "image/png": "[encoded data removed]",
      "text/plain": [
       "<Figure size 640x480 with 1 Axes>"
      ]
     },
     "metadata": {},
     "output_type": "display_data"
    }
   ],
   "source": [
    "data_w_c['Visibility(mi)'].hist()"
   ]
  },
  {
   "cell_type": "code",
   "execution_count": 24,
   "metadata": {},
   "outputs": [
    {
     "data": {
      "text/plain": [
       "<Axes: >"
      ]
     },
     "execution_count": 24,
     "metadata": {},
     "output_type": "execute_result"
    },
    {
     "data": {
      "image/png": "[encoded data removed]",
      "text/plain": [
       "<Figure size 640x480 with 1 Axes>"
      ]
     },
     "metadata": {},
     "output_type": "display_data"
    }
   ],
   "source": [
    "data_w_c['Visibility(mi)'][(data_w_c['Visibility(mi)'] != 0) & (data_w_c['Visibility(mi)'] != 130)].hist()"
   ]
  },
  {
   "cell_type": "code",
   "execution_count": 25,
   "metadata": {},
   "outputs": [
    {
     "data": {
      "text/plain": [
       "Visibility(mi)\n",
       "False    499481\n",
       "True        519\n",
       "Name: count, dtype: int64"
      ]
     },
     "execution_count": 25,
     "metadata": {},
     "output_type": "execute_result"
    }
   ],
   "source": [
    "((data_w_c['Visibility(mi)'] == 0) | (data_w_c['Visibility(mi)'] == 130)).value_counts()"
   ]
  },
  {
   "cell_type": "markdown",
   "metadata": {},
   "source": [
    "We set the 300 mph bound because it is the aproximately point of the wind's speed in a hurricane."
   ]
  },
  {
   "cell_type": "markdown",
   "metadata": {},
   "source": [
    "Now that we have seen some missing values in our data, we will set no NA the values seen here in order to impute a prediction using the KNN algorithm."
   ]
  },
  {
   "cell_type": "code",
   "execution_count": 31,
   "metadata": {},
   "outputs": [
    {
     "name": "stderr",
     "output_type": "stream",
     "text": [
      "C:\\Users\\mique\\AppData\\Local\\Temp\\ipykernel_2636\\3770805335.py:1: FutureWarning: ChainedAssignmentError: behaviour will change in pandas 3.0!\n",
      "You are setting values through chained assignment. Currently this works in certain cases, but when using Copy-on-Write (which will become the default behaviour in pandas 3.0) this will never work to update the original DataFrame or Series, because the intermediate object on which we are setting values will behave as a copy.\n",
      "A typical example is when you are setting values in a column of a DataFrame, like:\n",
      "\n",
      "df[\"col\"][row_indexer] = value\n",
      "\n",
      "Use `df.loc[row_indexer, \"col\"] = values` instead, to perform the assignment in a single step and ensure this keeps updating the original `df`.\n",
      "\n",
      "See the caveats in the documentation: https://pandas.pydata.org/pandas-docs/stable/user_guide/indexing.html#returning-a-view-versus-a-copy\n",
      "\n",
      "  data_w_c['Distance(mi)'][(data_w_c['Distance(mi)'] == 0)] = np.nan\n",
      "C:\\Users\\mique\\AppData\\Local\\Temp\\ipykernel_2636\\3770805335.py:1: SettingWithCopyWarning: \n",
      "A value is trying to be set on a copy of a slice from a DataFrame\n",
      "\n",
      "See the caveats in the documentation: https://pandas.pydata.org/pandas-docs/stable/user_guide/indexing.html#returning-a-view-versus-a-copy\n",
      "  data_w_c['Distance(mi)'][(data_w_c['Distance(mi)'] == 0)] = np.nan\n",
      "C:\\Users\\mique\\AppData\\Local\\Temp\\ipykernel_2636\\3770805335.py:2: FutureWarning: ChainedAssignmentError: behaviour will change in pandas 3.0!\n",
      "You are setting values through chained assignment. Currently this works in certain cases, but when using Copy-on-Write (which will become the default behaviour in pandas 3.0) this will never work to update the original DataFrame or Series, because the intermediate object on which we are setting values will behave as a copy.\n",
      "A typical example is when you are setting values in a column of a DataFrame, like:\n",
      "\n",
      "df[\"col\"][row_indexer] = value\n",
      "\n",
      "Use `df.loc[row_indexer, \"col\"] = values` instead, to perform the assignment in a single step and ensure this keeps updating the original `df`.\n",
      "\n",
      "See the caveats in the documentation: https://pandas.pydata.org/pandas-docs/stable/user_guide/indexing.html#returning-a-view-versus-a-copy\n",
      "\n",
      "  data_w_c['Temperature(F)'][(data_w_c['Temperature(F)'] >= 200)|(data_w_c['Temperature(F)'] <= -50)] = np.nan\n",
      "C:\\Users\\mique\\AppData\\Local\\Temp\\ipykernel_2636\\3770805335.py:2: SettingWithCopyWarning: \n",
      "A value is trying to be set on a copy of a slice from a DataFrame\n",
      "\n",
      "See the caveats in the documentation: https://pandas.pydata.org/pandas-docs/stable/user_guide/indexing.html#returning-a-view-versus-a-copy\n",
      "  data_w_c['Temperature(F)'][(data_w_c['Temperature(F)'] >= 200)|(data_w_c['Temperature(F)'] <= -50)] = np.nan\n",
      "C:\\Users\\mique\\AppData\\Local\\Temp\\ipykernel_2636\\3770805335.py:3: FutureWarning: ChainedAssignmentError: behaviour will change in pandas 3.0!\n",
      "You are setting values through chained assignment. Currently this works in certain cases, but when using Copy-on-Write (which will become the default behaviour in pandas 3.0) this will never work to update the original DataFrame or Series, because the intermediate object on which we are setting values will behave as a copy.\n",
      "A typical example is when you are setting values in a column of a DataFrame, like:\n",
      "\n",
      "df[\"col\"][row_indexer] = value\n",
      "\n",
      "Use `df.loc[row_indexer, \"col\"] = values` instead, to perform the assignment in a single step and ensure this keeps updating the original `df`.\n",
      "\n",
      "See the caveats in the documentation: https://pandas.pydata.org/pandas-docs/stable/user_guide/indexing.html#returning-a-view-versus-a-copy\n",
      "\n",
      "  data_w_c['Humidity(%)'][(data_w_c['Humidity(%)'] == 1)|(data_w_c['Humidity(%)'] == 100)] = np.nan\n",
      "C:\\Users\\mique\\AppData\\Local\\Temp\\ipykernel_2636\\3770805335.py:3: SettingWithCopyWarning: \n",
      "A value is trying to be set on a copy of a slice from a DataFrame\n",
      "\n",
      "See the caveats in the documentation: https://pandas.pydata.org/pandas-docs/stable/user_guide/indexing.html#returning-a-view-versus-a-copy\n",
      "  data_w_c['Humidity(%)'][(data_w_c['Humidity(%)'] == 1)|(data_w_c['Humidity(%)'] == 100)] = np.nan\n",
      "C:\\Users\\mique\\AppData\\Local\\Temp\\ipykernel_2636\\3770805335.py:4: FutureWarning: ChainedAssignmentError: behaviour will change in pandas 3.0!\n",
      "You are setting values through chained assignment. Currently this works in certain cases, but when using Copy-on-Write (which will become the default behaviour in pandas 3.0) this will never work to update the original DataFrame or Series, because the intermediate object on which we are setting values will behave as a copy.\n",
      "A typical example is when you are setting values in a column of a DataFrame, like:\n",
      "\n",
      "df[\"col\"][row_indexer] = value\n",
      "\n",
      "Use `df.loc[row_indexer, \"col\"] = values` instead, to perform the assignment in a single step and ensure this keeps updating the original `df`.\n",
      "\n",
      "See the caveats in the documentation: https://pandas.pydata.org/pandas-docs/stable/user_guide/indexing.html#returning-a-view-versus-a-copy\n",
      "\n",
      "  data_w_c['Pressure(in)'][(data_w_c['Pressure(in)'] < 3)] = np.nan\n",
      "C:\\Users\\mique\\AppData\\Local\\Temp\\ipykernel_2636\\3770805335.py:4: SettingWithCopyWarning: \n",
      "A value is trying to be set on a copy of a slice from a DataFrame\n",
      "\n",
      "See the caveats in the documentation: https://pandas.pydata.org/pandas-docs/stable/user_guide/indexing.html#returning-a-view-versus-a-copy\n",
      "  data_w_c['Pressure(in)'][(data_w_c['Pressure(in)'] < 3)] = np.nan\n",
      "C:\\Users\\mique\\AppData\\Local\\Temp\\ipykernel_2636\\3770805335.py:5: FutureWarning: ChainedAssignmentError: behaviour will change in pandas 3.0!\n",
      "You are setting values through chained assignment. Currently this works in certain cases, but when using Copy-on-Write (which will become the default behaviour in pandas 3.0) this will never work to update the original DataFrame or Series, because the intermediate object on which we are setting values will behave as a copy.\n",
      "A typical example is when you are setting values in a column of a DataFrame, like:\n",
      "\n",
      "df[\"col\"][row_indexer] = value\n",
      "\n",
      "Use `df.loc[row_indexer, \"col\"] = values` instead, to perform the assignment in a single step and ensure this keeps updating the original `df`.\n",
      "\n",
      "See the caveats in the documentation: https://pandas.pydata.org/pandas-docs/stable/user_guide/indexing.html#returning-a-view-versus-a-copy\n",
      "\n",
      "  data_w_c['Visibility(mi)'][(data_w_c['Visibility(mi)'] == 0)|(data_w_c['Visibility(mi)'] == 130)] = np.nan\n",
      "C:\\Users\\mique\\AppData\\Local\\Temp\\ipykernel_2636\\3770805335.py:5: SettingWithCopyWarning: \n",
      "A value is trying to be set on a copy of a slice from a DataFrame\n",
      "\n",
      "See the caveats in the documentation: https://pandas.pydata.org/pandas-docs/stable/user_guide/indexing.html#returning-a-view-versus-a-copy\n",
      "  data_w_c['Visibility(mi)'][(data_w_c['Visibility(mi)'] == 0)|(data_w_c['Visibility(mi)'] == 130)] = np.nan\n"
     ]
    }
   ],
   "source": [
    "data_w_c['Distance(mi)'][(data_w_c['Distance(mi)'] == 0)] = np.nan\n",
    "data_w_c['Temperature(F)'][(data_w_c['Temperature(F)'] >= 200)|(data_w_c['Temperature(F)'] <= -50)] = np.nan\n",
    "data_w_c['Humidity(%)'][(data_w_c['Humidity(%)'] == 1)|(data_w_c['Humidity(%)'] == 100)] = np.nan\n",
    "data_w_c['Pressure(in)'][(data_w_c['Pressure(in)'] < 3)] = np.nan\n",
    "data_w_c['Visibility(mi)'][(data_w_c['Visibility(mi)'] == 0)|(data_w_c['Visibility(mi)'] == 130)] = np.nan"
   ]
  },
  {
   "cell_type": "markdown",
   "metadata": {},
   "source": [
    "Let's see the difference in the description table of the numerical variables of the dataset."
   ]
  },
  {
   "cell_type": "code",
   "execution_count": 32,
   "metadata": {},
   "outputs": [
    {
     "data": {
      "text/html": [
       "<div>\n",
       "<style scoped>\n",
       "    .dataframe tbody tr th:only-of-type {\n",
       "        vertical-align: middle;\n",
       "    }\n",
       "\n",
       "    .dataframe tbody tr th {\n",
       "        vertical-align: top;\n",
       "    }\n",
       "\n",
       "    .dataframe thead th {\n",
       "        text-align: right;\n",
       "    }\n",
       "</style>\n",
       "<table border=\"1\" class=\"dataframe\">\n",
       "  <thead>\n",
       "    <tr style=\"text-align: right;\">\n",
       "      <th></th>\n",
       "      <th>Start_Lat</th>\n",
       "      <th>Start_Lng</th>\n",
       "      <th>Distance(mi)</th>\n",
       "      <th>Temperature(F)</th>\n",
       "      <th>Humidity(%)</th>\n",
       "      <th>Pressure(in)</th>\n",
       "      <th>Visibility(mi)</th>\n",
       "    </tr>\n",
       "  </thead>\n",
       "  <tbody>\n",
       "    <tr>\n",
       "      <th>count</th>\n",
       "      <td>500000.000000</td>\n",
       "      <td>500000.000000</td>\n",
       "      <td>286413.000000</td>\n",
       "      <td>489532.000000</td>\n",
       "      <td>470461.000000</td>\n",
       "      <td>491070.000000</td>\n",
       "      <td>488190.000000</td>\n",
       "    </tr>\n",
       "    <tr>\n",
       "      <th>mean</th>\n",
       "      <td>36.206421</td>\n",
       "      <td>-94.736583</td>\n",
       "      <td>0.985146</td>\n",
       "      <td>61.646242</td>\n",
       "      <td>63.459133</td>\n",
       "      <td>29.536735</td>\n",
       "      <td>9.100939</td>\n",
       "    </tr>\n",
       "    <tr>\n",
       "      <th>std</th>\n",
       "      <td>5.071411</td>\n",
       "      <td>17.405761</td>\n",
       "      <td>2.254945</td>\n",
       "      <td>18.997991</td>\n",
       "      <td>22.161575</td>\n",
       "      <td>1.007082</td>\n",
       "      <td>2.687707</td>\n",
       "    </tr>\n",
       "    <tr>\n",
       "      <th>min</th>\n",
       "      <td>24.562117</td>\n",
       "      <td>-124.497420</td>\n",
       "      <td>0.001000</td>\n",
       "      <td>-35.000000</td>\n",
       "      <td>2.000000</td>\n",
       "      <td>19.360000</td>\n",
       "      <td>0.060000</td>\n",
       "    </tr>\n",
       "    <tr>\n",
       "      <th>25%</th>\n",
       "      <td>33.416823</td>\n",
       "      <td>-117.233047</td>\n",
       "      <td>0.089000</td>\n",
       "      <td>49.000000</td>\n",
       "      <td>47.000000</td>\n",
       "      <td>29.370000</td>\n",
       "      <td>10.000000</td>\n",
       "    </tr>\n",
       "    <tr>\n",
       "      <th>50%</th>\n",
       "      <td>35.832147</td>\n",
       "      <td>-87.794365</td>\n",
       "      <td>0.344000</td>\n",
       "      <td>64.000000</td>\n",
       "      <td>66.000000</td>\n",
       "      <td>29.860000</td>\n",
       "      <td>10.000000</td>\n",
       "    </tr>\n",
       "    <tr>\n",
       "      <th>75%</th>\n",
       "      <td>40.082443</td>\n",
       "      <td>-80.359601</td>\n",
       "      <td>1.005000</td>\n",
       "      <td>76.000000</td>\n",
       "      <td>82.000000</td>\n",
       "      <td>30.030000</td>\n",
       "      <td>10.000000</td>\n",
       "    </tr>\n",
       "    <tr>\n",
       "      <th>max</th>\n",
       "      <td>48.999569</td>\n",
       "      <td>-67.484130</td>\n",
       "      <td>193.479996</td>\n",
       "      <td>196.000000</td>\n",
       "      <td>99.000000</td>\n",
       "      <td>38.440000</td>\n",
       "      <td>120.000000</td>\n",
       "    </tr>\n",
       "  </tbody>\n",
       "</table>\n",
       "</div>"
      ],
      "text/plain": [
       "           Start_Lat      Start_Lng   Distance(mi)  Temperature(F)  \\\n",
       "count  500000.000000  500000.000000  286413.000000   489532.000000   \n",
       "mean       36.206421     -94.736583       0.985146       61.646242   \n",
       "std         5.071411      17.405761       2.254945       18.997991   \n",
       "min        24.562117    -124.497420       0.001000      -35.000000   \n",
       "25%        33.416823    -117.233047       0.089000       49.000000   \n",
       "50%        35.832147     -87.794365       0.344000       64.000000   \n",
       "75%        40.082443     -80.359601       1.005000       76.000000   \n",
       "max        48.999569     -67.484130     193.479996      196.000000   \n",
       "\n",
       "         Humidity(%)   Pressure(in)  Visibility(mi)  \n",
       "count  470461.000000  491070.000000   488190.000000  \n",
       "mean       63.459133      29.536735        9.100939  \n",
       "std        22.161575       1.007082        2.687707  \n",
       "min         2.000000      19.360000        0.060000  \n",
       "25%        47.000000      29.370000       10.000000  \n",
       "50%        66.000000      29.860000       10.000000  \n",
       "75%        82.000000      30.030000       10.000000  \n",
       "max        99.000000      38.440000      120.000000  "
      ]
     },
     "execution_count": 32,
     "metadata": {},
     "output_type": "execute_result"
    }
   ],
   "source": [
    "data_w_c.describe(include=['int', 'float'])"
   ]
  },
  {
   "cell_type": "markdown",
   "metadata": {},
   "source": [
    "Now we have set no NAN all those values that we have considered to be something strange, we will impute these values using the KNN algorithm."
   ]
  },
  {
   "cell_type": "code",
   "execution_count": 33,
   "metadata": {},
   "outputs": [
    {
     "data": {
      "image/png": "[encoded data removed]",
      "text/plain": [
       "<Figure size 1000x600 with 1 Axes>"
      ]
     },
     "metadata": {},
     "output_type": "display_data"
    }
   ],
   "source": [
    "# nan histogram\n",
    "nan_counts = data_w_c.isna().sum()\n",
    "nan_counts.plot(kind='bar', figsize=(10, 6))\n",
    "plt.xlabel('Columns')\n",
    "plt.ylabel('NaN Counts')\n",
    "plt.title('NaN Values in Dataset')\n",
    "plt.show()"
   ]
  },
  {
   "cell_type": "code",
   "execution_count": 34,
   "metadata": {},
   "outputs": [],
   "source": [
    "columns_with_nan = ['Distance(mi)', 'Temperature(F)', 'Humidity(%)', 'Pressure(in)', 'Visibility(mi)']\n",
    "subset_data_w_c = data_w_c.drop(columns=columns_with_nan)"
   ]
  },
  {
   "cell_type": "code",
   "execution_count": 35,
   "metadata": {},
   "outputs": [
    {
     "data": {
      "text/plain": [
       "(500000, 15)"
      ]
     },
     "execution_count": 35,
     "metadata": {},
     "output_type": "execute_result"
    }
   ],
   "source": [
    "subset_data_w_c.shape"
   ]
  },
  {
   "cell_type": "code",
   "execution_count": 36,
   "metadata": {},
   "outputs": [
    {
     "data": {
      "text/plain": [
       "(500000, 20)"
      ]
     },
     "execution_count": 36,
     "metadata": {},
     "output_type": "execute_result"
    }
   ],
   "source": [
    "data_w_c.shape"
   ]
  },
  {
   "cell_type": "code",
   "execution_count": 38,
   "metadata": {},
   "outputs": [
    {
     "data": {
      "text/plain": [
       "(267513, 15)"
      ]
     },
     "execution_count": 38,
     "metadata": {},
     "output_type": "execute_result"
    }
   ],
   "source": [
    "rows_not_missing = data_w_c['Distance(mi)'].notna() & data_w_c['Temperature(F)'].notna() &  data_w_c['Humidity(%)'].notna() & data_w_c['Pressure(in)'].notna() & data_w_c['Visibility(mi)'].notna()\n",
    "data_w_c_without_missing = subset_data_w_c[rows_not_missing]\n",
    "data_w_c_without_missing.shape"
   ]
  },
  {
   "cell_type": "code",
   "execution_count": 39,
   "metadata": {},
   "outputs": [
    {
     "name": "stderr",
     "output_type": "stream",
     "text": [
      "C:\\Users\\mique\\AppData\\Local\\Temp\\ipykernel_2636\\1192817537.py:17: FutureWarning: ChainedAssignmentError: behaviour will change in pandas 3.0!\n",
      "You are setting values through chained assignment. Currently this works in certain cases, but when using Copy-on-Write (which will become the default behaviour in pandas 3.0) this will never work to update the original DataFrame or Series, because the intermediate object on which we are setting values will behave as a copy.\n",
      "A typical example is when you are setting values in a column of a DataFrame, like:\n",
      "\n",
      "df[\"col\"][row_indexer] = value\n",
      "\n",
      "Use `df.loc[row_indexer, \"col\"] = values` instead, to perform the assignment in a single step and ensure this keeps updating the original `df`.\n",
      "\n",
      "See the caveats in the documentation: https://pandas.pydata.org/pandas-docs/stable/user_guide/indexing.html#returning-a-view-versus-a-copy\n",
      "\n",
      "  data_w_c[column][data_w_c[column].isna()] = imputed_values\n",
      "C:\\Users\\mique\\AppData\\Local\\Temp\\ipykernel_2636\\1192817537.py:17: SettingWithCopyWarning: \n",
      "A value is trying to be set on a copy of a slice from a DataFrame\n",
      "\n",
      "See the caveats in the documentation: https://pandas.pydata.org/pandas-docs/stable/user_guide/indexing.html#returning-a-view-versus-a-copy\n",
      "  data_w_c[column][data_w_c[column].isna()] = imputed_values\n",
      "C:\\Users\\mique\\AppData\\Local\\Temp\\ipykernel_2636\\1192817537.py:17: FutureWarning: ChainedAssignmentError: behaviour will change in pandas 3.0!\n",
      "You are setting values through chained assignment. Currently this works in certain cases, but when using Copy-on-Write (which will become the default behaviour in pandas 3.0) this will never work to update the original DataFrame or Series, because the intermediate object on which we are setting values will behave as a copy.\n",
      "A typical example is when you are setting values in a column of a DataFrame, like:\n",
      "\n",
      "df[\"col\"][row_indexer] = value\n",
      "\n",
      "Use `df.loc[row_indexer, \"col\"] = values` instead, to perform the assignment in a single step and ensure this keeps updating the original `df`.\n",
      "\n",
      "See the caveats in the documentation: https://pandas.pydata.org/pandas-docs/stable/user_guide/indexing.html#returning-a-view-versus-a-copy\n",
      "\n",
      "  data_w_c[column][data_w_c[column].isna()] = imputed_values\n",
      "C:\\Users\\mique\\AppData\\Local\\Temp\\ipykernel_2636\\1192817537.py:17: SettingWithCopyWarning: \n",
      "A value is trying to be set on a copy of a slice from a DataFrame\n",
      "\n",
      "See the caveats in the documentation: https://pandas.pydata.org/pandas-docs/stable/user_guide/indexing.html#returning-a-view-versus-a-copy\n",
      "  data_w_c[column][data_w_c[column].isna()] = imputed_values\n",
      "C:\\Users\\mique\\AppData\\Local\\Temp\\ipykernel_2636\\1192817537.py:17: FutureWarning: ChainedAssignmentError: behaviour will change in pandas 3.0!\n",
      "You are setting values through chained assignment. Currently this works in certain cases, but when using Copy-on-Write (which will become the default behaviour in pandas 3.0) this will never work to update the original DataFrame or Series, because the intermediate object on which we are setting values will behave as a copy.\n",
      "A typical example is when you are setting values in a column of a DataFrame, like:\n",
      "\n",
      "df[\"col\"][row_indexer] = value\n",
      "\n",
      "Use `df.loc[row_indexer, \"col\"] = values` instead, to perform the assignment in a single step and ensure this keeps updating the original `df`.\n",
      "\n",
      "See the caveats in the documentation: https://pandas.pydata.org/pandas-docs/stable/user_guide/indexing.html#returning-a-view-versus-a-copy\n",
      "\n",
      "  data_w_c[column][data_w_c[column].isna()] = imputed_values\n",
      "C:\\Users\\mique\\AppData\\Local\\Temp\\ipykernel_2636\\1192817537.py:17: SettingWithCopyWarning: \n",
      "A value is trying to be set on a copy of a slice from a DataFrame\n",
      "\n",
      "See the caveats in the documentation: https://pandas.pydata.org/pandas-docs/stable/user_guide/indexing.html#returning-a-view-versus-a-copy\n",
      "  data_w_c[column][data_w_c[column].isna()] = imputed_values\n",
      "C:\\Users\\mique\\AppData\\Local\\Temp\\ipykernel_2636\\1192817537.py:17: FutureWarning: ChainedAssignmentError: behaviour will change in pandas 3.0!\n",
      "You are setting values through chained assignment. Currently this works in certain cases, but when using Copy-on-Write (which will become the default behaviour in pandas 3.0) this will never work to update the original DataFrame or Series, because the intermediate object on which we are setting values will behave as a copy.\n",
      "A typical example is when you are setting values in a column of a DataFrame, like:\n",
      "\n",
      "df[\"col\"][row_indexer] = value\n",
      "\n",
      "Use `df.loc[row_indexer, \"col\"] = values` instead, to perform the assignment in a single step and ensure this keeps updating the original `df`.\n",
      "\n",
      "See the caveats in the documentation: https://pandas.pydata.org/pandas-docs/stable/user_guide/indexing.html#returning-a-view-versus-a-copy\n",
      "\n",
      "  data_w_c[column][data_w_c[column].isna()] = imputed_values\n",
      "C:\\Users\\mique\\AppData\\Local\\Temp\\ipykernel_2636\\1192817537.py:17: SettingWithCopyWarning: \n",
      "A value is trying to be set on a copy of a slice from a DataFrame\n",
      "\n",
      "See the caveats in the documentation: https://pandas.pydata.org/pandas-docs/stable/user_guide/indexing.html#returning-a-view-versus-a-copy\n",
      "  data_w_c[column][data_w_c[column].isna()] = imputed_values\n",
      "C:\\Users\\mique\\AppData\\Local\\Temp\\ipykernel_2636\\1192817537.py:17: FutureWarning: ChainedAssignmentError: behaviour will change in pandas 3.0!\n",
      "You are setting values through chained assignment. Currently this works in certain cases, but when using Copy-on-Write (which will become the default behaviour in pandas 3.0) this will never work to update the original DataFrame or Series, because the intermediate object on which we are setting values will behave as a copy.\n",
      "A typical example is when you are setting values in a column of a DataFrame, like:\n",
      "\n",
      "df[\"col\"][row_indexer] = value\n",
      "\n",
      "Use `df.loc[row_indexer, \"col\"] = values` instead, to perform the assignment in a single step and ensure this keeps updating the original `df`.\n",
      "\n",
      "See the caveats in the documentation: https://pandas.pydata.org/pandas-docs/stable/user_guide/indexing.html#returning-a-view-versus-a-copy\n",
      "\n",
      "  data_w_c[column][data_w_c[column].isna()] = imputed_values\n",
      "C:\\Users\\mique\\AppData\\Local\\Temp\\ipykernel_2636\\1192817537.py:17: SettingWithCopyWarning: \n",
      "A value is trying to be set on a copy of a slice from a DataFrame\n",
      "\n",
      "See the caveats in the documentation: https://pandas.pydata.org/pandas-docs/stable/user_guide/indexing.html#returning-a-view-versus-a-copy\n",
      "  data_w_c[column][data_w_c[column].isna()] = imputed_values\n"
     ]
    },
    {
     "data": {
      "text/plain": [
       "Severity           0\n",
       "Start_Lat          0\n",
       "Start_Lng          0\n",
       "Distance(mi)       0\n",
       "Temperature(F)     0\n",
       "Humidity(%)        0\n",
       "Pressure(in)       0\n",
       "Visibility(mi)     0\n",
       "Amenity            0\n",
       "Crossing           0\n",
       "Give_Way           0\n",
       "Junction           0\n",
       "No_Exit            0\n",
       "Railway            0\n",
       "Roundabout         0\n",
       "Station            0\n",
       "Stop               0\n",
       "Traffic_Calming    0\n",
       "Traffic_Signal     0\n",
       "Turning_Loop       0\n",
       "dtype: int64"
      ]
     },
     "execution_count": 39,
     "metadata": {},
     "output_type": "execute_result"
    }
   ],
   "source": [
    "#Seguir lo que se dice en el notebook 1 pre-processing\n",
    "knn1 = KNeighborsRegressor(n_neighbors=1)\n",
    "knn2 = KNeighborsClassifier(n_neighbors=1)\n",
    "\n",
    "for column in columns_with_nan:\n",
    "    \n",
    "    rows_column_missing = subset_data_w_c[data_w_c[column].isna()]\n",
    "\n",
    "    if data_w_c[column].dtype == 'float' or data_w_c[column].dtype == 'int':\n",
    "        knn = knn1\n",
    "    elif data_w_c[column].dtype == 'object':\n",
    "        knn = knn2\n",
    "\n",
    "    knn.fit(data_w_c_without_missing, data_w_c[column][rows_not_missing])\n",
    "    imputed_values = knn.predict(rows_column_missing)\n",
    "\n",
    "    data_w_c[column][data_w_c[column].isna()] = imputed_values\n",
    "\n",
    "data_w_c.isna().sum()  "
   ]
  },
  {
   "cell_type": "code",
   "execution_count": 40,
   "metadata": {},
   "outputs": [
    {
     "data": {
      "text/html": [
       "<div>\n",
       "<style scoped>\n",
       "    .dataframe tbody tr th:only-of-type {\n",
       "        vertical-align: middle;\n",
       "    }\n",
       "\n",
       "    .dataframe tbody tr th {\n",
       "        vertical-align: top;\n",
       "    }\n",
       "\n",
       "    .dataframe thead th {\n",
       "        text-align: right;\n",
       "    }\n",
       "</style>\n",
       "<table border=\"1\" class=\"dataframe\">\n",
       "  <thead>\n",
       "    <tr style=\"text-align: right;\">\n",
       "      <th></th>\n",
       "      <th>Severity</th>\n",
       "      <th>Start_Lat</th>\n",
       "      <th>Start_Lng</th>\n",
       "      <th>Distance(mi)</th>\n",
       "      <th>Temperature(F)</th>\n",
       "      <th>Humidity(%)</th>\n",
       "      <th>Pressure(in)</th>\n",
       "      <th>Visibility(mi)</th>\n",
       "      <th>Amenity</th>\n",
       "      <th>Crossing</th>\n",
       "      <th>Give_Way</th>\n",
       "      <th>Junction</th>\n",
       "      <th>No_Exit</th>\n",
       "      <th>Railway</th>\n",
       "      <th>Roundabout</th>\n",
       "      <th>Station</th>\n",
       "      <th>Stop</th>\n",
       "      <th>Traffic_Calming</th>\n",
       "      <th>Traffic_Signal</th>\n",
       "      <th>Turning_Loop</th>\n",
       "    </tr>\n",
       "  </thead>\n",
       "  <tbody>\n",
       "    <tr>\n",
       "      <th>count</th>\n",
       "      <td>500000.0</td>\n",
       "      <td>500000.000000</td>\n",
       "      <td>500000.000000</td>\n",
       "      <td>500000.000000</td>\n",
       "      <td>500000.000000</td>\n",
       "      <td>500000.000000</td>\n",
       "      <td>500000.000000</td>\n",
       "      <td>500000.000000</td>\n",
       "      <td>500000</td>\n",
       "      <td>500000</td>\n",
       "      <td>500000</td>\n",
       "      <td>500000</td>\n",
       "      <td>500000</td>\n",
       "      <td>500000</td>\n",
       "      <td>500000</td>\n",
       "      <td>500000</td>\n",
       "      <td>500000</td>\n",
       "      <td>500000</td>\n",
       "      <td>500000</td>\n",
       "      <td>500000</td>\n",
       "    </tr>\n",
       "    <tr>\n",
       "      <th>unique</th>\n",
       "      <td>4.0</td>\n",
       "      <td>NaN</td>\n",
       "      <td>NaN</td>\n",
       "      <td>NaN</td>\n",
       "      <td>NaN</td>\n",
       "      <td>NaN</td>\n",
       "      <td>NaN</td>\n",
       "      <td>NaN</td>\n",
       "      <td>2</td>\n",
       "      <td>2</td>\n",
       "      <td>2</td>\n",
       "      <td>2</td>\n",
       "      <td>2</td>\n",
       "      <td>2</td>\n",
       "      <td>2</td>\n",
       "      <td>2</td>\n",
       "      <td>2</td>\n",
       "      <td>2</td>\n",
       "      <td>2</td>\n",
       "      <td>1</td>\n",
       "    </tr>\n",
       "    <tr>\n",
       "      <th>top</th>\n",
       "      <td>2.0</td>\n",
       "      <td>NaN</td>\n",
       "      <td>NaN</td>\n",
       "      <td>NaN</td>\n",
       "      <td>NaN</td>\n",
       "      <td>NaN</td>\n",
       "      <td>NaN</td>\n",
       "      <td>NaN</td>\n",
       "      <td>False</td>\n",
       "      <td>False</td>\n",
       "      <td>False</td>\n",
       "      <td>False</td>\n",
       "      <td>False</td>\n",
       "      <td>False</td>\n",
       "      <td>False</td>\n",
       "      <td>False</td>\n",
       "      <td>False</td>\n",
       "      <td>False</td>\n",
       "      <td>False</td>\n",
       "      <td>False</td>\n",
       "    </tr>\n",
       "    <tr>\n",
       "      <th>freq</th>\n",
       "      <td>398142.0</td>\n",
       "      <td>NaN</td>\n",
       "      <td>NaN</td>\n",
       "      <td>NaN</td>\n",
       "      <td>NaN</td>\n",
       "      <td>NaN</td>\n",
       "      <td>NaN</td>\n",
       "      <td>NaN</td>\n",
       "      <td>493809</td>\n",
       "      <td>443747</td>\n",
       "      <td>497638</td>\n",
       "      <td>462993</td>\n",
       "      <td>498755</td>\n",
       "      <td>495680</td>\n",
       "      <td>499987</td>\n",
       "      <td>487002</td>\n",
       "      <td>485937</td>\n",
       "      <td>499534</td>\n",
       "      <td>425965</td>\n",
       "      <td>500000</td>\n",
       "    </tr>\n",
       "    <tr>\n",
       "      <th>mean</th>\n",
       "      <td>NaN</td>\n",
       "      <td>36.206421</td>\n",
       "      <td>-94.736583</td>\n",
       "      <td>0.940594</td>\n",
       "      <td>61.624324</td>\n",
       "      <td>63.544054</td>\n",
       "      <td>29.530992</td>\n",
       "      <td>9.102766</td>\n",
       "      <td>NaN</td>\n",
       "      <td>NaN</td>\n",
       "      <td>NaN</td>\n",
       "      <td>NaN</td>\n",
       "      <td>NaN</td>\n",
       "      <td>NaN</td>\n",
       "      <td>NaN</td>\n",
       "      <td>NaN</td>\n",
       "      <td>NaN</td>\n",
       "      <td>NaN</td>\n",
       "      <td>NaN</td>\n",
       "      <td>NaN</td>\n",
       "    </tr>\n",
       "    <tr>\n",
       "      <th>std</th>\n",
       "      <td>NaN</td>\n",
       "      <td>5.071411</td>\n",
       "      <td>17.405761</td>\n",
       "      <td>2.395466</td>\n",
       "      <td>18.996199</td>\n",
       "      <td>22.199646</td>\n",
       "      <td>1.018157</td>\n",
       "      <td>2.680057</td>\n",
       "      <td>NaN</td>\n",
       "      <td>NaN</td>\n",
       "      <td>NaN</td>\n",
       "      <td>NaN</td>\n",
       "      <td>NaN</td>\n",
       "      <td>NaN</td>\n",
       "      <td>NaN</td>\n",
       "      <td>NaN</td>\n",
       "      <td>NaN</td>\n",
       "      <td>NaN</td>\n",
       "      <td>NaN</td>\n",
       "      <td>NaN</td>\n",
       "    </tr>\n",
       "    <tr>\n",
       "      <th>min</th>\n",
       "      <td>NaN</td>\n",
       "      <td>24.562117</td>\n",
       "      <td>-124.497420</td>\n",
       "      <td>0.001000</td>\n",
       "      <td>-35.000000</td>\n",
       "      <td>2.000000</td>\n",
       "      <td>19.360000</td>\n",
       "      <td>0.060000</td>\n",
       "      <td>NaN</td>\n",
       "      <td>NaN</td>\n",
       "      <td>NaN</td>\n",
       "      <td>NaN</td>\n",
       "      <td>NaN</td>\n",
       "      <td>NaN</td>\n",
       "      <td>NaN</td>\n",
       "      <td>NaN</td>\n",
       "      <td>NaN</td>\n",
       "      <td>NaN</td>\n",
       "      <td>NaN</td>\n",
       "      <td>NaN</td>\n",
       "    </tr>\n",
       "    <tr>\n",
       "      <th>25%</th>\n",
       "      <td>NaN</td>\n",
       "      <td>33.416823</td>\n",
       "      <td>-117.233047</td>\n",
       "      <td>0.049000</td>\n",
       "      <td>49.000000</td>\n",
       "      <td>47.000000</td>\n",
       "      <td>29.360000</td>\n",
       "      <td>10.000000</td>\n",
       "      <td>NaN</td>\n",
       "      <td>NaN</td>\n",
       "      <td>NaN</td>\n",
       "      <td>NaN</td>\n",
       "      <td>NaN</td>\n",
       "      <td>NaN</td>\n",
       "      <td>NaN</td>\n",
       "      <td>NaN</td>\n",
       "      <td>NaN</td>\n",
       "      <td>NaN</td>\n",
       "      <td>NaN</td>\n",
       "      <td>NaN</td>\n",
       "    </tr>\n",
       "    <tr>\n",
       "      <th>50%</th>\n",
       "      <td>NaN</td>\n",
       "      <td>35.832147</td>\n",
       "      <td>-87.794365</td>\n",
       "      <td>0.260000</td>\n",
       "      <td>64.000000</td>\n",
       "      <td>66.000000</td>\n",
       "      <td>29.850000</td>\n",
       "      <td>10.000000</td>\n",
       "      <td>NaN</td>\n",
       "      <td>NaN</td>\n",
       "      <td>NaN</td>\n",
       "      <td>NaN</td>\n",
       "      <td>NaN</td>\n",
       "      <td>NaN</td>\n",
       "      <td>NaN</td>\n",
       "      <td>NaN</td>\n",
       "      <td>NaN</td>\n",
       "      <td>NaN</td>\n",
       "      <td>NaN</td>\n",
       "      <td>NaN</td>\n",
       "    </tr>\n",
       "    <tr>\n",
       "      <th>75%</th>\n",
       "      <td>NaN</td>\n",
       "      <td>40.082443</td>\n",
       "      <td>-80.359601</td>\n",
       "      <td>0.915000</td>\n",
       "      <td>76.000000</td>\n",
       "      <td>82.000000</td>\n",
       "      <td>30.030000</td>\n",
       "      <td>10.000000</td>\n",
       "      <td>NaN</td>\n",
       "      <td>NaN</td>\n",
       "      <td>NaN</td>\n",
       "      <td>NaN</td>\n",
       "      <td>NaN</td>\n",
       "      <td>NaN</td>\n",
       "      <td>NaN</td>\n",
       "      <td>NaN</td>\n",
       "      <td>NaN</td>\n",
       "      <td>NaN</td>\n",
       "      <td>NaN</td>\n",
       "      <td>NaN</td>\n",
       "    </tr>\n",
       "    <tr>\n",
       "      <th>max</th>\n",
       "      <td>NaN</td>\n",
       "      <td>48.999569</td>\n",
       "      <td>-67.484130</td>\n",
       "      <td>193.479996</td>\n",
       "      <td>196.000000</td>\n",
       "      <td>99.000000</td>\n",
       "      <td>38.440000</td>\n",
       "      <td>120.000000</td>\n",
       "      <td>NaN</td>\n",
       "      <td>NaN</td>\n",
       "      <td>NaN</td>\n",
       "      <td>NaN</td>\n",
       "      <td>NaN</td>\n",
       "      <td>NaN</td>\n",
       "      <td>NaN</td>\n",
       "      <td>NaN</td>\n",
       "      <td>NaN</td>\n",
       "      <td>NaN</td>\n",
       "      <td>NaN</td>\n",
       "      <td>NaN</td>\n",
       "    </tr>\n",
       "  </tbody>\n",
       "</table>\n",
       "</div>"
      ],
      "text/plain": [
       "        Severity      Start_Lat      Start_Lng   Distance(mi)  Temperature(F)  \\\n",
       "count   500000.0  500000.000000  500000.000000  500000.000000   500000.000000   \n",
       "unique       4.0            NaN            NaN            NaN             NaN   \n",
       "top          2.0            NaN            NaN            NaN             NaN   \n",
       "freq    398142.0            NaN            NaN            NaN             NaN   \n",
       "mean         NaN      36.206421     -94.736583       0.940594       61.624324   \n",
       "std          NaN       5.071411      17.405761       2.395466       18.996199   \n",
       "min          NaN      24.562117    -124.497420       0.001000      -35.000000   \n",
       "25%          NaN      33.416823    -117.233047       0.049000       49.000000   \n",
       "50%          NaN      35.832147     -87.794365       0.260000       64.000000   \n",
       "75%          NaN      40.082443     -80.359601       0.915000       76.000000   \n",
       "max          NaN      48.999569     -67.484130     193.479996      196.000000   \n",
       "\n",
       "          Humidity(%)   Pressure(in)  Visibility(mi) Amenity Crossing  \\\n",
       "count   500000.000000  500000.000000   500000.000000  500000   500000   \n",
       "unique            NaN            NaN             NaN       2        2   \n",
       "top               NaN            NaN             NaN   False    False   \n",
       "freq              NaN            NaN             NaN  493809   443747   \n",
       "mean        63.544054      29.530992        9.102766     NaN      NaN   \n",
       "std         22.199646       1.018157        2.680057     NaN      NaN   \n",
       "min          2.000000      19.360000        0.060000     NaN      NaN   \n",
       "25%         47.000000      29.360000       10.000000     NaN      NaN   \n",
       "50%         66.000000      29.850000       10.000000     NaN      NaN   \n",
       "75%         82.000000      30.030000       10.000000     NaN      NaN   \n",
       "max         99.000000      38.440000      120.000000     NaN      NaN   \n",
       "\n",
       "       Give_Way Junction No_Exit Railway Roundabout Station    Stop  \\\n",
       "count    500000   500000  500000  500000     500000  500000  500000   \n",
       "unique        2        2       2       2          2       2       2   \n",
       "top       False    False   False   False      False   False   False   \n",
       "freq     497638   462993  498755  495680     499987  487002  485937   \n",
       "mean        NaN      NaN     NaN     NaN        NaN     NaN     NaN   \n",
       "std         NaN      NaN     NaN     NaN        NaN     NaN     NaN   \n",
       "min         NaN      NaN     NaN     NaN        NaN     NaN     NaN   \n",
       "25%         NaN      NaN     NaN     NaN        NaN     NaN     NaN   \n",
       "50%         NaN      NaN     NaN     NaN        NaN     NaN     NaN   \n",
       "75%         NaN      NaN     NaN     NaN        NaN     NaN     NaN   \n",
       "max         NaN      NaN     NaN     NaN        NaN     NaN     NaN   \n",
       "\n",
       "       Traffic_Calming Traffic_Signal Turning_Loop  \n",
       "count           500000         500000       500000  \n",
       "unique               2              2            1  \n",
       "top              False          False        False  \n",
       "freq            499534         425965       500000  \n",
       "mean               NaN            NaN          NaN  \n",
       "std                NaN            NaN          NaN  \n",
       "min                NaN            NaN          NaN  \n",
       "25%                NaN            NaN          NaN  \n",
       "50%                NaN            NaN          NaN  \n",
       "75%                NaN            NaN          NaN  \n",
       "max                NaN            NaN          NaN  "
      ]
     },
     "execution_count": 40,
     "metadata": {},
     "output_type": "execute_result"
    }
   ],
   "source": [
    "data_without_nan = data_w_c\n",
    "data_without_nan.describe(include='all')"
   ]
  },
  {
   "cell_type": "markdown",
   "metadata": {},
   "source": [
    "Our data has no Nan's, those who where have been imputated, now let's focus on the outliers."
   ]
  },
  {
   "cell_type": "markdown",
   "metadata": {},
   "source": [
    "FINDING OUTLIERS"
   ]
  },
  {
   "cell_type": "markdown",
   "metadata": {},
   "source": [
    "It is important to identify these values, in order to take them into account when fitting models. Some of these models are sensitive to outliers. "
   ]
  },
  {
   "cell_type": "markdown",
   "metadata": {},
   "source": [
    "First let's see the variable Distance(mi), this has a clear outlier, it's max."
   ]
  },
  {
   "cell_type": "code",
   "execution_count": 41,
   "metadata": {},
   "outputs": [
    {
     "data": {
      "text/plain": [
       "array([<Axes: title={'center': 'Distance(mi)'}>], dtype=object)"
      ]
     },
     "execution_count": 41,
     "metadata": {},
     "output_type": "execute_result"
    },
    {
     "data": {
      "image/png": "[encoded data removed]",
      "text/plain": [
       "<Figure size 900x500 with 2 Axes>"
      ]
     },
     "metadata": {},
     "output_type": "display_data"
    }
   ],
   "source": [
    "fig, axes = plt.subplots(1,2,gridspec_kw={'width_ratios': [1, 4]}, figsize=(9, 5))\n",
    "data_without_nan.boxplot(column='Distance(mi)',ax=axes[0])\n",
    "data_without_nan.hist(column='Distance(mi)',ax=axes[1])"
   ]
  },
  {
   "cell_type": "markdown",
   "metadata": {},
   "source": [
    "There are obviously a lot of values that do not represent the correct distribution of our variable."
   ]
  },
  {
   "cell_type": "markdown",
   "metadata": {},
   "source": [
    "Let's use the IQR to improve this. Using LocalOutlierFactor, we have seen that it requires a lot of computational time and does not improve the results given by the IQR, so we will use this strategy."
   ]
  },
  {
   "cell_type": "code",
   "execution_count": 43,
   "metadata": {},
   "outputs": [
    {
     "data": {
      "text/plain": [
       "array([<Axes: title={'center': 'Distance(mi)'}>], dtype=object)"
      ]
     },
     "execution_count": 43,
     "metadata": {},
     "output_type": "execute_result"
    },
    {
     "data": {
      "image/png": "[encoded data removed]",
      "text/plain": [
       "<Figure size 900x500 with 2 Axes>"
      ]
     },
     "metadata": {},
     "output_type": "display_data"
    }
   ],
   "source": [
    "Q1 = data_without_nan['Distance(mi)'].quantile(0.25)\n",
    "Q3 = data_without_nan['Distance(mi)'].quantile(0.75)\n",
    "IQR = Q3 - Q1\n",
    "\n",
    "small_out = data_without_nan['Distance(mi)'] < (Q1 - 1.5 * IQR)\n",
    "big_out = data_without_nan['Distance(mi)'] > (Q3 + 1.5 * IQR)\n",
    "\n",
    "fig, axes = plt.subplots(1,2,gridspec_kw={'width_ratios': [1, 4]}, figsize=(9, 5))\n",
    "data_without_nan[~(small_out | big_out)].boxplot(column='Distance(mi)',ax=axes[0])\n",
    "data_without_nan[~(small_out | big_out)].hist(column='Distance(mi)',ax=axes[1])"
   ]
  },
  {
   "cell_type": "code",
   "execution_count": 44,
   "metadata": {},
   "outputs": [
    {
     "data": {
      "text/html": [
       "<div>\n",
       "<style scoped>\n",
       "    .dataframe tbody tr th:only-of-type {\n",
       "        vertical-align: middle;\n",
       "    }\n",
       "\n",
       "    .dataframe tbody tr th {\n",
       "        vertical-align: top;\n",
       "    }\n",
       "\n",
       "    .dataframe thead th {\n",
       "        text-align: right;\n",
       "    }\n",
       "</style>\n",
       "<table border=\"1\" class=\"dataframe\">\n",
       "  <thead>\n",
       "    <tr style=\"text-align: right;\">\n",
       "      <th></th>\n",
       "      <th>Start_Lat</th>\n",
       "      <th>Start_Lng</th>\n",
       "      <th>Distance(mi)</th>\n",
       "      <th>Temperature(F)</th>\n",
       "      <th>Humidity(%)</th>\n",
       "      <th>Pressure(in)</th>\n",
       "      <th>Visibility(mi)</th>\n",
       "    </tr>\n",
       "  </thead>\n",
       "  <tbody>\n",
       "    <tr>\n",
       "      <th>count</th>\n",
       "      <td>447585.000000</td>\n",
       "      <td>447585.000000</td>\n",
       "      <td>447585.000000</td>\n",
       "      <td>447585.000000</td>\n",
       "      <td>447585.000000</td>\n",
       "      <td>447585.000000</td>\n",
       "      <td>447585.000000</td>\n",
       "    </tr>\n",
       "    <tr>\n",
       "      <th>mean</th>\n",
       "      <td>36.082821</td>\n",
       "      <td>-94.988922</td>\n",
       "      <td>0.420975</td>\n",
       "      <td>61.909199</td>\n",
       "      <td>63.433234</td>\n",
       "      <td>29.556184</td>\n",
       "      <td>9.130325</td>\n",
       "    </tr>\n",
       "    <tr>\n",
       "      <th>std</th>\n",
       "      <td>5.073589</td>\n",
       "      <td>17.458738</td>\n",
       "      <td>0.513800</td>\n",
       "      <td>18.793326</td>\n",
       "      <td>22.172501</td>\n",
       "      <td>0.972116</td>\n",
       "      <td>2.656168</td>\n",
       "    </tr>\n",
       "    <tr>\n",
       "      <th>min</th>\n",
       "      <td>24.562117</td>\n",
       "      <td>-124.497420</td>\n",
       "      <td>0.001000</td>\n",
       "      <td>-35.000000</td>\n",
       "      <td>2.000000</td>\n",
       "      <td>19.520000</td>\n",
       "      <td>0.060000</td>\n",
       "    </tr>\n",
       "    <tr>\n",
       "      <th>25%</th>\n",
       "      <td>33.258566</td>\n",
       "      <td>-117.310844</td>\n",
       "      <td>0.038000</td>\n",
       "      <td>50.000000</td>\n",
       "      <td>47.000000</td>\n",
       "      <td>29.390000</td>\n",
       "      <td>10.000000</td>\n",
       "    </tr>\n",
       "    <tr>\n",
       "      <th>50%</th>\n",
       "      <td>35.694256</td>\n",
       "      <td>-87.956100</td>\n",
       "      <td>0.193000</td>\n",
       "      <td>64.000000</td>\n",
       "      <td>66.000000</td>\n",
       "      <td>29.860000</td>\n",
       "      <td>10.000000</td>\n",
       "    </tr>\n",
       "    <tr>\n",
       "      <th>75%</th>\n",
       "      <td>39.981843</td>\n",
       "      <td>-80.385375</td>\n",
       "      <td>0.640000</td>\n",
       "      <td>76.000000</td>\n",
       "      <td>82.000000</td>\n",
       "      <td>30.030000</td>\n",
       "      <td>10.000000</td>\n",
       "    </tr>\n",
       "    <tr>\n",
       "      <th>max</th>\n",
       "      <td>48.999569</td>\n",
       "      <td>-67.484130</td>\n",
       "      <td>2.214000</td>\n",
       "      <td>196.000000</td>\n",
       "      <td>99.000000</td>\n",
       "      <td>38.440000</td>\n",
       "      <td>120.000000</td>\n",
       "    </tr>\n",
       "  </tbody>\n",
       "</table>\n",
       "</div>"
      ],
      "text/plain": [
       "           Start_Lat      Start_Lng   Distance(mi)  Temperature(F)  \\\n",
       "count  447585.000000  447585.000000  447585.000000   447585.000000   \n",
       "mean       36.082821     -94.988922       0.420975       61.909199   \n",
       "std         5.073589      17.458738       0.513800       18.793326   \n",
       "min        24.562117    -124.497420       0.001000      -35.000000   \n",
       "25%        33.258566    -117.310844       0.038000       50.000000   \n",
       "50%        35.694256     -87.956100       0.193000       64.000000   \n",
       "75%        39.981843     -80.385375       0.640000       76.000000   \n",
       "max        48.999569     -67.484130       2.214000      196.000000   \n",
       "\n",
       "         Humidity(%)   Pressure(in)  Visibility(mi)  \n",
       "count  447585.000000  447585.000000   447585.000000  \n",
       "mean       63.433234      29.556184        9.130325  \n",
       "std        22.172501       0.972116        2.656168  \n",
       "min         2.000000      19.520000        0.060000  \n",
       "25%        47.000000      29.390000       10.000000  \n",
       "50%        66.000000      29.860000       10.000000  \n",
       "75%        82.000000      30.030000       10.000000  \n",
       "max        99.000000      38.440000      120.000000  "
      ]
     },
     "execution_count": 44,
     "metadata": {},
     "output_type": "execute_result"
    }
   ],
   "source": [
    "data_without_nan[~(small_out | big_out)].describe(include=['int', 'float']) "
   ]
  },
  {
   "cell_type": "code",
   "execution_count": 45,
   "metadata": {},
   "outputs": [],
   "source": [
    "data_without_nan_out1 = data_without_nan[~(small_out | big_out)]"
   ]
  },
  {
   "cell_type": "markdown",
   "metadata": {},
   "source": [
    "Visibility:"
   ]
  },
  {
   "cell_type": "code",
   "execution_count": 46,
   "metadata": {},
   "outputs": [
    {
     "data": {
      "text/plain": [
       "array([<Axes: title={'center': 'Visibility(mi)'}>], dtype=object)"
      ]
     },
     "execution_count": 46,
     "metadata": {},
     "output_type": "execute_result"
    },
    {
     "data": {
      "image/png": "[encoded data removed]",
      "text/plain": [
       "<Figure size 900x500 with 2 Axes>"
      ]
     },
     "metadata": {},
     "output_type": "display_data"
    }
   ],
   "source": [
    "fig, axes = plt.subplots(1,2,gridspec_kw={'width_ratios': [1, 4]}, figsize=(9, 5))\n",
    "data_without_nan_out1.boxplot(column='Visibility(mi)',ax=axes[0])\n",
    "data_without_nan_out1.hist(column='Visibility(mi)',ax=axes[1])"
   ]
  },
  {
   "cell_type": "code",
   "execution_count": 47,
   "metadata": {},
   "outputs": [
    {
     "data": {
      "text/plain": [
       "array([<Axes: title={'center': 'Visibility(mi)'}>], dtype=object)"
      ]
     },
     "execution_count": 47,
     "metadata": {},
     "output_type": "execute_result"
    },
    {
     "data": {
      "image/png": "[encoded data removed]",
      "text/plain": [
       "<Figure size 900x500 with 2 Axes>"
      ]
     },
     "metadata": {},
     "output_type": "display_data"
    }
   ],
   "source": [
    "Q1 = data_without_nan_out1['Visibility(mi)'].quantile(0.25)\n",
    "Q3 = data_without_nan_out1['Visibility(mi)'].quantile(0.75)\n",
    "IQR = Q3 - Q1\n",
    "\n",
    "small_out = data_without_nan_out1['Visibility(mi)'] < (Q1 - 1.5 * IQR)\n",
    "big_out = data_without_nan_out1['Visibility(mi)'] > (Q3 + 1.5 * IQR)\n",
    "\n",
    "fig, axes = plt.subplots(1,2,gridspec_kw={'width_ratios': [1, 4]}, figsize=(9, 5))\n",
    "data_without_nan_out1[~(small_out | big_out)].boxplot(column='Visibility(mi)',ax=axes[0])\n",
    "data_without_nan_out1[~(small_out | big_out)].hist(column='Visibility(mi)',ax=axes[1])"
   ]
  },
  {
   "cell_type": "markdown",
   "metadata": {},
   "source": [
    "All data from Visibility is concentrated around 10 mi."
   ]
  },
  {
   "cell_type": "code",
   "execution_count": 49,
   "metadata": {},
   "outputs": [
    {
     "data": {
      "text/html": [
       "<div>\n",
       "<style scoped>\n",
       "    .dataframe tbody tr th:only-of-type {\n",
       "        vertical-align: middle;\n",
       "    }\n",
       "\n",
       "    .dataframe tbody tr th {\n",
       "        vertical-align: top;\n",
       "    }\n",
       "\n",
       "    .dataframe thead th {\n",
       "        text-align: right;\n",
       "    }\n",
       "</style>\n",
       "<table border=\"1\" class=\"dataframe\">\n",
       "  <thead>\n",
       "    <tr style=\"text-align: right;\">\n",
       "      <th></th>\n",
       "      <th>Start_Lat</th>\n",
       "      <th>Start_Lng</th>\n",
       "      <th>Distance(mi)</th>\n",
       "      <th>Temperature(F)</th>\n",
       "      <th>Humidity(%)</th>\n",
       "      <th>Pressure(in)</th>\n",
       "      <th>Visibility(mi)</th>\n",
       "    </tr>\n",
       "  </thead>\n",
       "  <tbody>\n",
       "    <tr>\n",
       "      <th>count</th>\n",
       "      <td>361564.000000</td>\n",
       "      <td>361564.000000</td>\n",
       "      <td>361564.000000</td>\n",
       "      <td>361564.000000</td>\n",
       "      <td>361564.000000</td>\n",
       "      <td>361564.000000</td>\n",
       "      <td>361564.0</td>\n",
       "    </tr>\n",
       "    <tr>\n",
       "      <th>mean</th>\n",
       "      <td>35.869479</td>\n",
       "      <td>-94.730225</td>\n",
       "      <td>0.414399</td>\n",
       "      <td>63.732838</td>\n",
       "      <td>59.741282</td>\n",
       "      <td>29.565434</td>\n",
       "      <td>10.0</td>\n",
       "    </tr>\n",
       "    <tr>\n",
       "      <th>std</th>\n",
       "      <td>5.116691</td>\n",
       "      <td>17.395602</td>\n",
       "      <td>0.509635</td>\n",
       "      <td>18.392206</td>\n",
       "      <td>21.237662</td>\n",
       "      <td>0.973713</td>\n",
       "      <td>0.0</td>\n",
       "    </tr>\n",
       "    <tr>\n",
       "      <th>min</th>\n",
       "      <td>24.562117</td>\n",
       "      <td>-124.497420</td>\n",
       "      <td>0.001000</td>\n",
       "      <td>-35.000000</td>\n",
       "      <td>2.000000</td>\n",
       "      <td>19.520000</td>\n",
       "      <td>10.0</td>\n",
       "    </tr>\n",
       "    <tr>\n",
       "      <th>25%</th>\n",
       "      <td>32.912550</td>\n",
       "      <td>-117.202711</td>\n",
       "      <td>0.038000</td>\n",
       "      <td>52.000000</td>\n",
       "      <td>45.000000</td>\n",
       "      <td>29.400000</td>\n",
       "      <td>10.0</td>\n",
       "    </tr>\n",
       "    <tr>\n",
       "      <th>50%</th>\n",
       "      <td>35.411430</td>\n",
       "      <td>-87.648190</td>\n",
       "      <td>0.188000</td>\n",
       "      <td>66.000000</td>\n",
       "      <td>61.000000</td>\n",
       "      <td>29.870000</td>\n",
       "      <td>10.0</td>\n",
       "    </tr>\n",
       "    <tr>\n",
       "      <th>75%</th>\n",
       "      <td>39.825433</td>\n",
       "      <td>-80.362602</td>\n",
       "      <td>0.625000</td>\n",
       "      <td>78.000000</td>\n",
       "      <td>77.000000</td>\n",
       "      <td>30.040000</td>\n",
       "      <td>10.0</td>\n",
       "    </tr>\n",
       "    <tr>\n",
       "      <th>max</th>\n",
       "      <td>48.991585</td>\n",
       "      <td>-67.484130</td>\n",
       "      <td>2.214000</td>\n",
       "      <td>196.000000</td>\n",
       "      <td>99.000000</td>\n",
       "      <td>38.440000</td>\n",
       "      <td>10.0</td>\n",
       "    </tr>\n",
       "  </tbody>\n",
       "</table>\n",
       "</div>"
      ],
      "text/plain": [
       "           Start_Lat      Start_Lng   Distance(mi)  Temperature(F)  \\\n",
       "count  361564.000000  361564.000000  361564.000000   361564.000000   \n",
       "mean       35.869479     -94.730225       0.414399       63.732838   \n",
       "std         5.116691      17.395602       0.509635       18.392206   \n",
       "min        24.562117    -124.497420       0.001000      -35.000000   \n",
       "25%        32.912550    -117.202711       0.038000       52.000000   \n",
       "50%        35.411430     -87.648190       0.188000       66.000000   \n",
       "75%        39.825433     -80.362602       0.625000       78.000000   \n",
       "max        48.991585     -67.484130       2.214000      196.000000   \n",
       "\n",
       "         Humidity(%)   Pressure(in)  Visibility(mi)  \n",
       "count  361564.000000  361564.000000        361564.0  \n",
       "mean       59.741282      29.565434            10.0  \n",
       "std        21.237662       0.973713             0.0  \n",
       "min         2.000000      19.520000            10.0  \n",
       "25%        45.000000      29.400000            10.0  \n",
       "50%        61.000000      29.870000            10.0  \n",
       "75%        77.000000      30.040000            10.0  \n",
       "max        99.000000      38.440000            10.0  "
      ]
     },
     "execution_count": 49,
     "metadata": {},
     "output_type": "execute_result"
    }
   ],
   "source": [
    "data_without_nan_out1[~(small_out | big_out)].describe(include=['int', 'float']) "
   ]
  },
  {
   "cell_type": "code",
   "execution_count": 50,
   "metadata": {},
   "outputs": [],
   "source": [
    "data_without_nan_out2 = data_without_nan_out1[~(small_out | big_out)]"
   ]
  },
  {
   "cell_type": "markdown",
   "metadata": {},
   "source": [
    "Temperature:"
   ]
  },
  {
   "cell_type": "code",
   "execution_count": 51,
   "metadata": {},
   "outputs": [
    {
     "data": {
      "text/plain": [
       "array([<Axes: title={'center': 'Temperature(F)'}>], dtype=object)"
      ]
     },
     "execution_count": 51,
     "metadata": {},
     "output_type": "execute_result"
    },
    {
     "data": {
      "image/png": "[encoded data removed]",
      "text/plain": [
       "<Figure size 900x500 with 2 Axes>"
      ]
     },
     "metadata": {},
     "output_type": "display_data"
    }
   ],
   "source": [
    "fig, axes = plt.subplots(1,2,gridspec_kw={'width_ratios': [1, 4]}, figsize=(9, 5))\n",
    "data_without_nan_out2.boxplot(column='Temperature(F)',ax=axes[0])\n",
    "data_without_nan_out2.hist(column='Temperature(F)',ax=axes[1])"
   ]
  },
  {
   "cell_type": "markdown",
   "metadata": {},
   "source": [
    "It seems well distributed. However, it seems there are some outliers. We will do the same for Wind_Chill since from the describe of the dataset, it is almost equally distributed as temperature."
   ]
  },
  {
   "cell_type": "code",
   "execution_count": 52,
   "metadata": {},
   "outputs": [
    {
     "data": {
      "text/plain": [
       "array([<Axes: title={'center': 'Temperature(F)'}>], dtype=object)"
      ]
     },
     "execution_count": 52,
     "metadata": {},
     "output_type": "execute_result"
    },
    {
     "data": {
      "image/png": "[encoded data removed]",
      "text/plain": [
       "<Figure size 900x500 with 2 Axes>"
      ]
     },
     "metadata": {},
     "output_type": "display_data"
    }
   ],
   "source": [
    "Q1 = data_without_nan_out2['Temperature(F)'].quantile(0.25)\n",
    "Q3 = data_without_nan_out2['Temperature(F)'].quantile(0.75)\n",
    "IQR = Q3 - Q1\n",
    "\n",
    "small_out = data_without_nan_out2['Temperature(F)'] < (Q1 - 1.5 * IQR)\n",
    "big_out = data_without_nan_out2['Temperature(F)'] > (Q3 + 1.5 * IQR)\n",
    "\n",
    "fig, axes = plt.subplots(1,2,gridspec_kw={'width_ratios': [1, 4]}, figsize=(9, 5))\n",
    "data_without_nan_out2[~(small_out | big_out)].boxplot(column='Temperature(F)',ax=axes[0])\n",
    "data_without_nan_out2[~(small_out | big_out)].hist(column='Temperature(F)',ax=axes[1])"
   ]
  },
  {
   "cell_type": "markdown",
   "metadata": {},
   "source": [
    "It is better now."
   ]
  },
  {
   "cell_type": "code",
   "execution_count": 53,
   "metadata": {},
   "outputs": [
    {
     "data": {
      "text/html": [
       "<div>\n",
       "<style scoped>\n",
       "    .dataframe tbody tr th:only-of-type {\n",
       "        vertical-align: middle;\n",
       "    }\n",
       "\n",
       "    .dataframe tbody tr th {\n",
       "        vertical-align: top;\n",
       "    }\n",
       "\n",
       "    .dataframe thead th {\n",
       "        text-align: right;\n",
       "    }\n",
       "</style>\n",
       "<table border=\"1\" class=\"dataframe\">\n",
       "  <thead>\n",
       "    <tr style=\"text-align: right;\">\n",
       "      <th></th>\n",
       "      <th>Start_Lat</th>\n",
       "      <th>Start_Lng</th>\n",
       "      <th>Distance(mi)</th>\n",
       "      <th>Temperature(F)</th>\n",
       "      <th>Humidity(%)</th>\n",
       "      <th>Pressure(in)</th>\n",
       "      <th>Visibility(mi)</th>\n",
       "    </tr>\n",
       "  </thead>\n",
       "  <tbody>\n",
       "    <tr>\n",
       "      <th>count</th>\n",
       "      <td>358770.000000</td>\n",
       "      <td>358770.000000</td>\n",
       "      <td>358770.000000</td>\n",
       "      <td>358770.000000</td>\n",
       "      <td>358770.000000</td>\n",
       "      <td>358770.000000</td>\n",
       "      <td>358770.0</td>\n",
       "    </tr>\n",
       "    <tr>\n",
       "      <th>mean</th>\n",
       "      <td>35.813474</td>\n",
       "      <td>-94.758924</td>\n",
       "      <td>0.413134</td>\n",
       "      <td>64.200778</td>\n",
       "      <td>59.667241</td>\n",
       "      <td>29.567477</td>\n",
       "      <td>10.0</td>\n",
       "    </tr>\n",
       "    <tr>\n",
       "      <th>std</th>\n",
       "      <td>5.091771</td>\n",
       "      <td>17.440851</td>\n",
       "      <td>0.508950</td>\n",
       "      <td>17.662913</td>\n",
       "      <td>21.276479</td>\n",
       "      <td>0.966129</td>\n",
       "      <td>0.0</td>\n",
       "    </tr>\n",
       "    <tr>\n",
       "      <th>min</th>\n",
       "      <td>24.562117</td>\n",
       "      <td>-124.497420</td>\n",
       "      <td>0.001000</td>\n",
       "      <td>13.000000</td>\n",
       "      <td>2.000000</td>\n",
       "      <td>19.520000</td>\n",
       "      <td>10.0</td>\n",
       "    </tr>\n",
       "    <tr>\n",
       "      <th>25%</th>\n",
       "      <td>32.893762</td>\n",
       "      <td>-117.234685</td>\n",
       "      <td>0.038000</td>\n",
       "      <td>52.000000</td>\n",
       "      <td>44.000000</td>\n",
       "      <td>29.410000</td>\n",
       "      <td>10.0</td>\n",
       "    </tr>\n",
       "    <tr>\n",
       "      <th>50%</th>\n",
       "      <td>35.337339</td>\n",
       "      <td>-87.601720</td>\n",
       "      <td>0.187000</td>\n",
       "      <td>66.000000</td>\n",
       "      <td>61.000000</td>\n",
       "      <td>29.870000</td>\n",
       "      <td>10.0</td>\n",
       "    </tr>\n",
       "    <tr>\n",
       "      <th>75%</th>\n",
       "      <td>39.773277</td>\n",
       "      <td>-80.354233</td>\n",
       "      <td>0.622000</td>\n",
       "      <td>78.000000</td>\n",
       "      <td>77.000000</td>\n",
       "      <td>30.040000</td>\n",
       "      <td>10.0</td>\n",
       "    </tr>\n",
       "    <tr>\n",
       "      <th>max</th>\n",
       "      <td>48.991585</td>\n",
       "      <td>-67.484130</td>\n",
       "      <td>2.214000</td>\n",
       "      <td>117.000000</td>\n",
       "      <td>99.000000</td>\n",
       "      <td>38.440000</td>\n",
       "      <td>10.0</td>\n",
       "    </tr>\n",
       "  </tbody>\n",
       "</table>\n",
       "</div>"
      ],
      "text/plain": [
       "           Start_Lat      Start_Lng   Distance(mi)  Temperature(F)  \\\n",
       "count  358770.000000  358770.000000  358770.000000   358770.000000   \n",
       "mean       35.813474     -94.758924       0.413134       64.200778   \n",
       "std         5.091771      17.440851       0.508950       17.662913   \n",
       "min        24.562117    -124.497420       0.001000       13.000000   \n",
       "25%        32.893762    -117.234685       0.038000       52.000000   \n",
       "50%        35.337339     -87.601720       0.187000       66.000000   \n",
       "75%        39.773277     -80.354233       0.622000       78.000000   \n",
       "max        48.991585     -67.484130       2.214000      117.000000   \n",
       "\n",
       "         Humidity(%)   Pressure(in)  Visibility(mi)  \n",
       "count  358770.000000  358770.000000        358770.0  \n",
       "mean       59.667241      29.567477            10.0  \n",
       "std        21.276479       0.966129             0.0  \n",
       "min         2.000000      19.520000            10.0  \n",
       "25%        44.000000      29.410000            10.0  \n",
       "50%        61.000000      29.870000            10.0  \n",
       "75%        77.000000      30.040000            10.0  \n",
       "max        99.000000      38.440000            10.0  "
      ]
     },
     "execution_count": 53,
     "metadata": {},
     "output_type": "execute_result"
    }
   ],
   "source": [
    "data_without_nan_out2[~(small_out | big_out)].describe(include=['int', 'float']) "
   ]
  },
  {
   "cell_type": "code",
   "execution_count": 54,
   "metadata": {},
   "outputs": [],
   "source": [
    "data_without_nan_out3 = data_without_nan_out2[~(small_out | big_out)]"
   ]
  },
  {
   "cell_type": "markdown",
   "metadata": {},
   "source": [
    "Humidity:"
   ]
  },
  {
   "cell_type": "code",
   "execution_count": 55,
   "metadata": {},
   "outputs": [
    {
     "data": {
      "text/plain": [
       "array([<Axes: title={'center': 'Humidity(%)'}>], dtype=object)"
      ]
     },
     "execution_count": 55,
     "metadata": {},
     "output_type": "execute_result"
    },
    {
     "data": {
      "image/png": "[encoded data removed]",
      "text/plain": [
       "<Figure size 900x500 with 2 Axes>"
      ]
     },
     "metadata": {},
     "output_type": "display_data"
    }
   ],
   "source": [
    "fig, axes = plt.subplots(1,2,gridspec_kw={'width_ratios': [1, 4]}, figsize=(9, 5))\n",
    "data_without_nan_out3.boxplot(column='Humidity(%)',ax=axes[0])\n",
    "data_without_nan_out3.hist(column='Humidity(%)',ax=axes[1])"
   ]
  },
  {
   "cell_type": "markdown",
   "metadata": {},
   "source": [
    "Humidity is well distributed."
   ]
  },
  {
   "cell_type": "markdown",
   "metadata": {},
   "source": [
    "Time_Difference:"
   ]
  },
  {
   "cell_type": "code",
   "execution_count": null,
   "metadata": {},
   "outputs": [
    {
     "data": {
      "text/plain": [
       "array([<Axes: title={'center': 'Time_Difference'}>], dtype=object)"
      ]
     },
     "execution_count": 122,
     "metadata": {},
     "output_type": "execute_result"
    },
    {
     "data": {
      "image/png": "[encoded data removed]",
      "text/plain": [
       "<Figure size 900x500 with 2 Axes>"
      ]
     },
     "metadata": {},
     "output_type": "display_data"
    }
   ],
   "source": [
    "fig, axes = plt.subplots(1,2,gridspec_kw={'width_ratios': [1, 4]}, figsize=(9, 5))\n",
    "data_without_nan_out6.boxplot(column='Time_Difference',ax=axes[0])\n",
    "data_without_nan_out6.hist(column='Time_Difference',ax=axes[1])"
   ]
  },
  {
   "cell_type": "code",
   "execution_count": null,
   "metadata": {},
   "outputs": [
    {
     "data": {
      "text/plain": [
       "array([<Axes: title={'center': 'Time_Difference'}>], dtype=object)"
      ]
     },
     "execution_count": 123,
     "metadata": {},
     "output_type": "execute_result"
    },
    {
     "data": {
      "image/png": "[encoded data removed]",
      "text/plain": [
       "<Figure size 900x500 with 2 Axes>"
      ]
     },
     "metadata": {},
     "output_type": "display_data"
    }
   ],
   "source": [
    "Q1 = data_without_nan_out6['Time_Difference'].quantile(0.25)\n",
    "Q3 = data_without_nan_out6['Time_Difference'].quantile(0.75)\n",
    "IQR = Q3 - Q1\n",
    "\n",
    "small_out = data_without_nan_out6['Time_Difference'] < (Q1 - 1.5 * IQR)\n",
    "big_out = data_without_nan_out6['Time_Difference'] > (Q3 + 1.5 * IQR)\n",
    "\n",
    "fig, axes = plt.subplots(1,2,gridspec_kw={'width_ratios': [1, 4]}, figsize=(9, 5))\n",
    "data_without_nan_out6[~(small_out | big_out)].boxplot(column='Time_Difference',ax=axes[0])\n",
    "data_without_nan_out6[~(small_out | big_out)].hist(column='Time_Difference',ax=axes[1])"
   ]
  },
  {
   "cell_type": "code",
   "execution_count": null,
   "metadata": {},
   "outputs": [
    {
     "data": {
      "text/html": [
       "<div>\n",
       "<style scoped>\n",
       "    .dataframe tbody tr th:only-of-type {\n",
       "        vertical-align: middle;\n",
       "    }\n",
       "\n",
       "    .dataframe tbody tr th {\n",
       "        vertical-align: top;\n",
       "    }\n",
       "\n",
       "    .dataframe thead th {\n",
       "        text-align: right;\n",
       "    }\n",
       "</style>\n",
       "<table border=\"1\" class=\"dataframe\">\n",
       "  <thead>\n",
       "    <tr style=\"text-align: right;\">\n",
       "      <th></th>\n",
       "      <th>Start_Lat</th>\n",
       "      <th>Start_Lng</th>\n",
       "      <th>End_Lat</th>\n",
       "      <th>End_Lng</th>\n",
       "      <th>Distance(mi)</th>\n",
       "      <th>Temperature(F)</th>\n",
       "      <th>Wind_Chill(F)</th>\n",
       "      <th>Humidity(%)</th>\n",
       "      <th>Pressure(in)</th>\n",
       "      <th>Visibility(mi)</th>\n",
       "      <th>Wind_Speed(mph)</th>\n",
       "      <th>Precipitation(in)</th>\n",
       "      <th>Time_Difference</th>\n",
       "    </tr>\n",
       "  </thead>\n",
       "  <tbody>\n",
       "    <tr>\n",
       "      <th>count</th>\n",
       "      <td>299327.000000</td>\n",
       "      <td>299327.000000</td>\n",
       "      <td>299327.000000</td>\n",
       "      <td>299327.000000</td>\n",
       "      <td>299327.000000</td>\n",
       "      <td>299327.000000</td>\n",
       "      <td>299327.000000</td>\n",
       "      <td>299327.000000</td>\n",
       "      <td>299327.000000</td>\n",
       "      <td>299327.0</td>\n",
       "      <td>299327.000000</td>\n",
       "      <td>299327.0</td>\n",
       "      <td>299327.000000</td>\n",
       "    </tr>\n",
       "    <tr>\n",
       "      <th>mean</th>\n",
       "      <td>35.724773</td>\n",
       "      <td>-94.781265</td>\n",
       "      <td>35.674699</td>\n",
       "      <td>-94.749543</td>\n",
       "      <td>0.146347</td>\n",
       "      <td>64.716406</td>\n",
       "      <td>63.889803</td>\n",
       "      <td>59.126464</td>\n",
       "      <td>29.559269</td>\n",
       "      <td>10.0</td>\n",
       "      <td>8.445881</td>\n",
       "      <td>0.0</td>\n",
       "      <td>4418.941616</td>\n",
       "    </tr>\n",
       "    <tr>\n",
       "      <th>std</th>\n",
       "      <td>4.979161</td>\n",
       "      <td>17.396519</td>\n",
       "      <td>4.943341</td>\n",
       "      <td>17.440721</td>\n",
       "      <td>0.265089</td>\n",
       "      <td>17.430938</td>\n",
       "      <td>19.393081</td>\n",
       "      <td>21.063318</td>\n",
       "      <td>0.956906</td>\n",
       "      <td>0.0</td>\n",
       "      <td>3.931528</td>\n",
       "      <td>0.0</td>\n",
       "      <td>2860.134741</td>\n",
       "    </tr>\n",
       "    <tr>\n",
       "      <th>min</th>\n",
       "      <td>24.562117</td>\n",
       "      <td>-124.494330</td>\n",
       "      <td>24.570110</td>\n",
       "      <td>-124.495392</td>\n",
       "      <td>0.000000</td>\n",
       "      <td>13.000000</td>\n",
       "      <td>8.000000</td>\n",
       "      <td>2.000000</td>\n",
       "      <td>19.520000</td>\n",
       "      <td>10.0</td>\n",
       "      <td>1.000000</td>\n",
       "      <td>0.0</td>\n",
       "      <td>210.000000</td>\n",
       "    </tr>\n",
       "    <tr>\n",
       "      <th>25%</th>\n",
       "      <td>32.900779</td>\n",
       "      <td>-117.229658</td>\n",
       "      <td>32.893150</td>\n",
       "      <td>-117.305577</td>\n",
       "      <td>0.000000</td>\n",
       "      <td>53.000000</td>\n",
       "      <td>52.000000</td>\n",
       "      <td>44.000000</td>\n",
       "      <td>29.380000</td>\n",
       "      <td>10.0</td>\n",
       "      <td>5.800000</td>\n",
       "      <td>0.0</td>\n",
       "      <td>1826.000000</td>\n",
       "    </tr>\n",
       "    <tr>\n",
       "      <th>50%</th>\n",
       "      <td>35.220367</td>\n",
       "      <td>-87.336800</td>\n",
       "      <td>35.188631</td>\n",
       "      <td>-87.295737</td>\n",
       "      <td>0.000000</td>\n",
       "      <td>66.900000</td>\n",
       "      <td>67.000000</td>\n",
       "      <td>60.000000</td>\n",
       "      <td>29.860000</td>\n",
       "      <td>10.0</td>\n",
       "      <td>8.000000</td>\n",
       "      <td>0.0</td>\n",
       "      <td>3617.000000</td>\n",
       "    </tr>\n",
       "    <tr>\n",
       "      <th>75%</th>\n",
       "      <td>39.546116</td>\n",
       "      <td>-80.385739</td>\n",
       "      <td>39.341020</td>\n",
       "      <td>-80.392713</td>\n",
       "      <td>0.160000</td>\n",
       "      <td>78.100000</td>\n",
       "      <td>79.000000</td>\n",
       "      <td>76.000000</td>\n",
       "      <td>30.040000</td>\n",
       "      <td>10.0</td>\n",
       "      <td>10.400000</td>\n",
       "      <td>0.0</td>\n",
       "      <td>5891.000000</td>\n",
       "    </tr>\n",
       "    <tr>\n",
       "      <th>max</th>\n",
       "      <td>48.991585</td>\n",
       "      <td>-67.484130</td>\n",
       "      <td>48.998901</td>\n",
       "      <td>-67.484130</td>\n",
       "      <td>1.162000</td>\n",
       "      <td>117.000000</td>\n",
       "      <td>115.000000</td>\n",
       "      <td>99.000000</td>\n",
       "      <td>38.440000</td>\n",
       "      <td>10.0</td>\n",
       "      <td>20.000000</td>\n",
       "      <td>0.0</td>\n",
       "      <td>15270.000000</td>\n",
       "    </tr>\n",
       "  </tbody>\n",
       "</table>\n",
       "</div>"
      ],
      "text/plain": [
       "           Start_Lat      Start_Lng        End_Lat        End_Lng  \\\n",
       "count  299327.000000  299327.000000  299327.000000  299327.000000   \n",
       "mean       35.724773     -94.781265      35.674699     -94.749543   \n",
       "std         4.979161      17.396519       4.943341      17.440721   \n",
       "min        24.562117    -124.494330      24.570110    -124.495392   \n",
       "25%        32.900779    -117.229658      32.893150    -117.305577   \n",
       "50%        35.220367     -87.336800      35.188631     -87.295737   \n",
       "75%        39.546116     -80.385739      39.341020     -80.392713   \n",
       "max        48.991585     -67.484130      48.998901     -67.484130   \n",
       "\n",
       "        Distance(mi)  Temperature(F)  Wind_Chill(F)    Humidity(%)  \\\n",
       "count  299327.000000   299327.000000  299327.000000  299327.000000   \n",
       "mean        0.146347       64.716406      63.889803      59.126464   \n",
       "std         0.265089       17.430938      19.393081      21.063318   \n",
       "min         0.000000       13.000000       8.000000       2.000000   \n",
       "25%         0.000000       53.000000      52.000000      44.000000   \n",
       "50%         0.000000       66.900000      67.000000      60.000000   \n",
       "75%         0.160000       78.100000      79.000000      76.000000   \n",
       "max         1.162000      117.000000     115.000000      99.000000   \n",
       "\n",
       "        Pressure(in)  Visibility(mi)  Wind_Speed(mph)  Precipitation(in)  \\\n",
       "count  299327.000000        299327.0    299327.000000           299327.0   \n",
       "mean       29.559269            10.0         8.445881                0.0   \n",
       "std         0.956906             0.0         3.931528                0.0   \n",
       "min        19.520000            10.0         1.000000                0.0   \n",
       "25%        29.380000            10.0         5.800000                0.0   \n",
       "50%        29.860000            10.0         8.000000                0.0   \n",
       "75%        30.040000            10.0        10.400000                0.0   \n",
       "max        38.440000            10.0        20.000000                0.0   \n",
       "\n",
       "       Time_Difference  \n",
       "count    299327.000000  \n",
       "mean       4418.941616  \n",
       "std        2860.134741  \n",
       "min         210.000000  \n",
       "25%        1826.000000  \n",
       "50%        3617.000000  \n",
       "75%        5891.000000  \n",
       "max       15270.000000  "
      ]
     },
     "execution_count": 124,
     "metadata": {},
     "output_type": "execute_result"
    }
   ],
   "source": [
    "data_without_nan_out6[~(small_out | big_out)].describe(include=['int', 'float'])"
   ]
  },
  {
   "cell_type": "code",
   "execution_count": null,
   "metadata": {},
   "outputs": [],
   "source": [
    "data_without_nan_out = data_without_nan_out6[~(small_out | big_out)]"
   ]
  },
  {
   "cell_type": "markdown",
   "metadata": {},
   "source": [
    "Every numerical variable has been treated from outliers."
   ]
  },
  {
   "cell_type": "markdown",
   "metadata": {},
   "source": [
    "GAUSSIANITY AND TRANSFORMATIONS"
   ]
  },
  {
   "cell_type": "markdown",
   "metadata": {},
   "source": [
    "Let's see if every numerical variable is distributed with a gaussian."
   ]
  }
 ],
 "metadata": {
  "kernelspec": {
   "display_name": "Python 3",
   "language": "python",
   "name": "python3"
  },
  "language_info": {
   "codemirror_mode": {
    "name": "ipython",
    "version": 3
   },
   "file_extension": ".py",
   "mimetype": "text/x-python",
   "name": "python",
   "nbconvert_exporter": "python",
   "pygments_lexer": "ipython3",
   "version": "3.11.2"
  }
 },
 "nbformat": 4,
 "nbformat_minor": 2
}
