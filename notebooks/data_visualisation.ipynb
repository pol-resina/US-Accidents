{
 "cells": [
  {
   "cell_type": "code",
   "execution_count": 1,
   "metadata": {},
   "outputs": [],
   "source": [
    "# imports\n",
    "import pandas as pd\n",
    "import numpy as np\n",
    "import matplotlib.pyplot as plt\n",
    "import seaborn as sns\n",
    "from sklearn.neighbors import KNeighborsRegressor, KNeighborsClassifier\n",
    "from sklearn.preprocessing import LabelEncoder\n",
    "from datetime import datetime"
   ]
  },
  {
   "cell_type": "code",
   "execution_count": 2,
   "metadata": {},
   "outputs": [
    {
     "data": {
      "text/plain": [
       "(500000, 46)"
      ]
     },
     "execution_count": 2,
     "metadata": {},
     "output_type": "execute_result"
    }
   ],
   "source": [
    "# read data\n",
    "data = pd.read_csv('../data/US_Accidents_March23_sampled_500k.csv')\n",
    "data.shape"
   ]
  },
  {
   "cell_type": "markdown",
   "metadata": {},
   "source": [
    "# Section 1: General inspection of dataset"
   ]
  },
  {
   "cell_type": "markdown",
   "metadata": {},
   "source": [
    "Let's see the variables in our data and decide which will we our target variable."
   ]
  },
  {
   "cell_type": "code",
   "execution_count": 3,
   "metadata": {},
   "outputs": [
    {
     "data": {
      "text/plain": [
       "Index(['ID', 'Source', 'Severity', 'Start_Time', 'End_Time', 'Start_Lat',\n",
       "       'Start_Lng', 'End_Lat', 'End_Lng', 'Distance(mi)', 'Description',\n",
       "       'Street', 'City', 'County', 'State', 'Zipcode', 'Country', 'Timezone',\n",
       "       'Airport_Code', 'Weather_Timestamp', 'Temperature(F)', 'Wind_Chill(F)',\n",
       "       'Humidity(%)', 'Pressure(in)', 'Visibility(mi)', 'Wind_Direction',\n",
       "       'Wind_Speed(mph)', 'Precipitation(in)', 'Weather_Condition', 'Amenity',\n",
       "       'Bump', 'Crossing', 'Give_Way', 'Junction', 'No_Exit', 'Railway',\n",
       "       'Roundabout', 'Station', 'Stop', 'Traffic_Calming', 'Traffic_Signal',\n",
       "       'Turning_Loop', 'Sunrise_Sunset', 'Civil_Twilight', 'Nautical_Twilight',\n",
       "       'Astronomical_Twilight'],\n",
       "      dtype='object')"
      ]
     },
     "execution_count": 3,
     "metadata": {},
     "output_type": "execute_result"
    }
   ],
   "source": [
    "data.columns"
   ]
  },
  {
   "cell_type": "markdown",
   "metadata": {},
   "source": [
    "As explained, the target variable is 'Severity', this is how important, the gravity of the accident, in order to predict how does it affect the traffic."
   ]
  },
  {
   "cell_type": "markdown",
   "metadata": {},
   "source": [
    "First we take off some variables which we consider may not explain the target. Notice some of these variables are additional information if we alredy have the End_Lat and End_Lng, so we can take them off."
   ]
  },
  {
   "cell_type": "code",
   "execution_count": 4,
   "metadata": {},
   "outputs": [
    {
     "data": {
      "text/plain": [
       "(500000, 23)"
      ]
     },
     "execution_count": 4,
     "metadata": {},
     "output_type": "execute_result"
    }
   ],
   "source": [
    "data = data.drop(columns=['ID', 'Source', 'Description', 'Street', 'City', 'County', 'State', 'Zipcode', 'Country', 'Timezone', \n",
    "                          'Weather_Timestamp', 'End_Lat','End_Lng','Airport_Code','Wind_Chill(F)', 'Wind_Direction', 'Wind_Speed(mph)',\n",
    "                          'Precipitation(in)', 'Weather_Condition', 'Bump', 'Sunrise_Sunset', 'Civil_Twilight', 'Nautical_Twilight',])\n",
    "data.shape"
   ]
  },
  {
   "cell_type": "markdown",
   "metadata": {},
   "source": [
    "We have reduced the number of variables from 46 to 23."
   ]
  },
  {
   "cell_type": "code",
   "execution_count": 5,
   "metadata": {},
   "outputs": [
    {
     "data": {
      "text/plain": [
       "Index(['Severity', 'Start_Time', 'End_Time', 'Start_Lat', 'Start_Lng',\n",
       "       'Distance(mi)', 'Temperature(F)', 'Humidity(%)', 'Pressure(in)',\n",
       "       'Visibility(mi)', 'Amenity', 'Crossing', 'Give_Way', 'Junction',\n",
       "       'No_Exit', 'Railway', 'Roundabout', 'Station', 'Stop',\n",
       "       'Traffic_Calming', 'Traffic_Signal', 'Turning_Loop',\n",
       "       'Astronomical_Twilight'],\n",
       "      dtype='object')"
      ]
     },
     "execution_count": 5,
     "metadata": {},
     "output_type": "execute_result"
    }
   ],
   "source": [
    "data.columns"
   ]
  },
  {
   "cell_type": "markdown",
   "metadata": {},
   "source": [
    "The Start_Time and End_Time variables cause some problems since they are strings and are difficult to compute. In order to avoid further problems we will create a new variable called Elapsed_Time, which will be the difference between End_Time and Start_Time."
   ]
  },
  {
   "cell_type": "code",
   "execution_count": 6,
   "metadata": {},
   "outputs": [
    {
     "data": {
      "text/plain": [
       "0"
      ]
     },
     "execution_count": 6,
     "metadata": {},
     "output_type": "execute_result"
    }
   ],
   "source": [
    "data['Start_Time'].isna().sum()"
   ]
  },
  {
   "cell_type": "code",
   "execution_count": 7,
   "metadata": {},
   "outputs": [
    {
     "data": {
      "text/plain": [
       "0"
      ]
     },
     "execution_count": 7,
     "metadata": {},
     "output_type": "execute_result"
    }
   ],
   "source": [
    "data['End_Time'].isna().sum()"
   ]
  },
  {
   "cell_type": "markdown",
   "metadata": {},
   "source": [
    "These two variables do not present any Nan, so we can proceed creating this new variable."
   ]
  },
  {
   "cell_type": "code",
   "execution_count": 8,
   "metadata": {},
   "outputs": [
    {
     "name": "stdout",
     "output_type": "stream",
     "text": [
      "0         12\n",
      "1          3\n",
      "2         20\n",
      "3         21\n",
      "4          4\n",
      "          ..\n",
      "499995    15\n",
      "499996    19\n",
      "499997    13\n",
      "499998    15\n",
      "499999     2\n",
      "Name: Day, Length: 500000, dtype: int64\n"
     ]
    },
    {
     "data": {
      "text/plain": [
       "(500000, 29)"
      ]
     },
     "execution_count": 8,
     "metadata": {},
     "output_type": "execute_result"
    }
   ],
   "source": [
    "time_elapsed: list[int] = list()\n",
    "\n",
    "for start_time, end_time in zip(data['Start_Time'], data['End_Time']):\n",
    "\n",
    "    start_time = start_time.split('.')[0]\n",
    "    end_time = end_time.split('.')[0]\n",
    "\n",
    "    start = datetime.strptime(start_time, '%Y-%m-%d %H:%M:%S')\n",
    "    end = datetime.strptime(end_time, '%Y-%m-%d %H:%M:%S')\n",
    "    time_elapsed.append((end-start).seconds)\n",
    "\n",
    "data['Time_Difference'] = pd.DataFrame(time_elapsed)\n",
    "\n",
    "data['Start_Time'] = pd.to_datetime(data['Start_Time'], errors = 'coerce')\n",
    "data['End_Time'] = pd.to_datetime(data['End_Time'], errors = 'coerce')\n",
    "\n",
    "data['Year'] = data['Start_Time'].dt.year\n",
    "data['Month'] = data['Start_Time'].dt.month\n",
    "data['Day'] = data['Start_Time'].dt.day\n",
    "data['Hour'] = data['Start_Time'].dt.hour\n",
    "data['Weekday'] = data['Start_Time'].dt.weekday\n",
    "\n",
    "print(data['Day'])\n",
    "\n",
    "data.shape"
   ]
  },
  {
   "cell_type": "markdown",
   "metadata": {},
   "source": [
    "Now that we have this information in this new variable, we can take off 'Start_Time' and 'End_Time'."
   ]
  },
  {
   "cell_type": "code",
   "execution_count": 9,
   "metadata": {},
   "outputs": [
    {
     "data": {
      "text/plain": [
       "(500000, 27)"
      ]
     },
     "execution_count": 9,
     "metadata": {},
     "output_type": "execute_result"
    }
   ],
   "source": [
    "data_w_c = data.drop(columns=['Start_Time', 'End_Time'])\n",
    "data_w_c.shape"
   ]
  },
  {
   "cell_type": "markdown",
   "metadata": {},
   "source": [
    "# Section 2: Dealing with missing values"
   ]
  },
  {
   "cell_type": "markdown",
   "metadata": {},
   "source": [
    "Let's see the summary of our dataset now in order to Identify possibles Nan's."
   ]
  },
  {
   "cell_type": "code",
   "execution_count": 10,
   "metadata": {},
   "outputs": [
    {
     "name": "stdout",
     "output_type": "stream",
     "text": [
      "<class 'pandas.core.frame.DataFrame'>\n",
      "RangeIndex: 500000 entries, 0 to 499999\n",
      "Data columns (total 27 columns):\n",
      " #   Column                 Non-Null Count   Dtype  \n",
      "---  ------                 --------------   -----  \n",
      " 0   Severity               500000 non-null  int64  \n",
      " 1   Start_Lat              500000 non-null  float64\n",
      " 2   Start_Lng              500000 non-null  float64\n",
      " 3   Distance(mi)           500000 non-null  float64\n",
      " 4   Temperature(F)         489534 non-null  float64\n",
      " 5   Humidity(%)            488870 non-null  float64\n",
      " 6   Pressure(in)           491072 non-null  float64\n",
      " 7   Visibility(mi)         488709 non-null  float64\n",
      " 8   Amenity                500000 non-null  bool   \n",
      " 9   Crossing               500000 non-null  bool   \n",
      " 10  Give_Way               500000 non-null  bool   \n",
      " 11  Junction               500000 non-null  bool   \n",
      " 12  No_Exit                500000 non-null  bool   \n",
      " 13  Railway                500000 non-null  bool   \n",
      " 14  Roundabout             500000 non-null  bool   \n",
      " 15  Station                500000 non-null  bool   \n",
      " 16  Stop                   500000 non-null  bool   \n",
      " 17  Traffic_Calming        500000 non-null  bool   \n",
      " 18  Traffic_Signal         500000 non-null  bool   \n",
      " 19  Turning_Loop           500000 non-null  bool   \n",
      " 20  Astronomical_Twilight  498517 non-null  object \n",
      " 21  Time_Difference        500000 non-null  int64  \n",
      " 22  Year                   500000 non-null  int64  \n",
      " 23  Month                  500000 non-null  int64  \n",
      " 24  Day                    500000 non-null  int64  \n",
      " 25  Hour                   500000 non-null  int64  \n",
      " 26  Weekday                500000 non-null  int64  \n",
      "dtypes: bool(12), float64(7), int64(7), object(1)\n",
      "memory usage: 62.9+ MB\n"
     ]
    }
   ],
   "source": [
    "data_w_c.info()"
   ]
  },
  {
   "cell_type": "markdown",
   "metadata": {},
   "source": [
    "The target value severity is categorical and Python identifies it as an int, so lets correct this. Also for the bool variables, let's make them an object. For a better visualization of the data, it follows the graphic"
   ]
  },
  {
   "cell_type": "code",
   "execution_count": 11,
   "metadata": {},
   "outputs": [],
   "source": [
    "data_w_c.Severity = data_w_c.Severity.astype('object')\n",
    "for column in ['Amenity', 'Crossing', 'Give_Way', 'Junction', 'No_Exit', 'Railway', 'Roundabout', 'Station', 'Stop', 'Traffic_Calming', 'Traffic_Signal', 'Turning_Loop','Month','Weekday','Day']:\n",
    "    data_w_c[column] = data_w_c[column].astype('object')"
   ]
  },
  {
   "cell_type": "code",
   "execution_count": 12,
   "metadata": {},
   "outputs": [
    {
     "name": "stdout",
     "output_type": "stream",
     "text": [
      "<class 'pandas.core.frame.DataFrame'>\n",
      "RangeIndex: 500000 entries, 0 to 499999\n",
      "Data columns (total 27 columns):\n",
      " #   Column                 Non-Null Count   Dtype  \n",
      "---  ------                 --------------   -----  \n",
      " 0   Severity               500000 non-null  object \n",
      " 1   Start_Lat              500000 non-null  float64\n",
      " 2   Start_Lng              500000 non-null  float64\n",
      " 3   Distance(mi)           500000 non-null  float64\n",
      " 4   Temperature(F)         489534 non-null  float64\n",
      " 5   Humidity(%)            488870 non-null  float64\n",
      " 6   Pressure(in)           491072 non-null  float64\n",
      " 7   Visibility(mi)         488709 non-null  float64\n",
      " 8   Amenity                500000 non-null  object \n",
      " 9   Crossing               500000 non-null  object \n",
      " 10  Give_Way               500000 non-null  object \n",
      " 11  Junction               500000 non-null  object \n",
      " 12  No_Exit                500000 non-null  object \n",
      " 13  Railway                500000 non-null  object \n",
      " 14  Roundabout             500000 non-null  object \n",
      " 15  Station                500000 non-null  object \n",
      " 16  Stop                   500000 non-null  object \n",
      " 17  Traffic_Calming        500000 non-null  object \n",
      " 18  Traffic_Signal         500000 non-null  object \n",
      " 19  Turning_Loop           500000 non-null  object \n",
      " 20  Astronomical_Twilight  498517 non-null  object \n",
      " 21  Time_Difference        500000 non-null  int64  \n",
      " 22  Year                   500000 non-null  int64  \n",
      " 23  Month                  500000 non-null  object \n",
      " 24  Day                    500000 non-null  object \n",
      " 25  Hour                   500000 non-null  int64  \n",
      " 26  Weekday                500000 non-null  object \n",
      "dtypes: float64(7), int64(3), object(17)\n",
      "memory usage: 103.0+ MB\n"
     ]
    }
   ],
   "source": [
    "data_w_c.info()"
   ]
  },
  {
   "cell_type": "markdown",
   "metadata": {},
   "source": [
    "First we will compute the missing values for categorical variables and then for the continuous."
   ]
  },
  {
   "cell_type": "code",
   "execution_count": 13,
   "metadata": {},
   "outputs": [
    {
     "data": {
      "text/html": [
       "<div>\n",
       "<style scoped>\n",
       "    .dataframe tbody tr th:only-of-type {\n",
       "        vertical-align: middle;\n",
       "    }\n",
       "\n",
       "    .dataframe tbody tr th {\n",
       "        vertical-align: top;\n",
       "    }\n",
       "\n",
       "    .dataframe thead th {\n",
       "        text-align: right;\n",
       "    }\n",
       "</style>\n",
       "<table border=\"1\" class=\"dataframe\">\n",
       "  <thead>\n",
       "    <tr style=\"text-align: right;\">\n",
       "      <th></th>\n",
       "      <th>Severity</th>\n",
       "      <th>Amenity</th>\n",
       "      <th>Crossing</th>\n",
       "      <th>Give_Way</th>\n",
       "      <th>Junction</th>\n",
       "      <th>No_Exit</th>\n",
       "      <th>Railway</th>\n",
       "      <th>Roundabout</th>\n",
       "      <th>Station</th>\n",
       "      <th>Stop</th>\n",
       "      <th>Traffic_Calming</th>\n",
       "      <th>Traffic_Signal</th>\n",
       "      <th>Turning_Loop</th>\n",
       "      <th>Astronomical_Twilight</th>\n",
       "      <th>Month</th>\n",
       "      <th>Day</th>\n",
       "      <th>Weekday</th>\n",
       "    </tr>\n",
       "  </thead>\n",
       "  <tbody>\n",
       "    <tr>\n",
       "      <th>count</th>\n",
       "      <td>500000</td>\n",
       "      <td>500000</td>\n",
       "      <td>500000</td>\n",
       "      <td>500000</td>\n",
       "      <td>500000</td>\n",
       "      <td>500000</td>\n",
       "      <td>500000</td>\n",
       "      <td>500000</td>\n",
       "      <td>500000</td>\n",
       "      <td>500000</td>\n",
       "      <td>500000</td>\n",
       "      <td>500000</td>\n",
       "      <td>500000</td>\n",
       "      <td>498517</td>\n",
       "      <td>500000</td>\n",
       "      <td>500000</td>\n",
       "      <td>500000</td>\n",
       "    </tr>\n",
       "    <tr>\n",
       "      <th>unique</th>\n",
       "      <td>4</td>\n",
       "      <td>2</td>\n",
       "      <td>2</td>\n",
       "      <td>2</td>\n",
       "      <td>2</td>\n",
       "      <td>2</td>\n",
       "      <td>2</td>\n",
       "      <td>2</td>\n",
       "      <td>2</td>\n",
       "      <td>2</td>\n",
       "      <td>2</td>\n",
       "      <td>2</td>\n",
       "      <td>1</td>\n",
       "      <td>2</td>\n",
       "      <td>12</td>\n",
       "      <td>31</td>\n",
       "      <td>7</td>\n",
       "    </tr>\n",
       "    <tr>\n",
       "      <th>top</th>\n",
       "      <td>2</td>\n",
       "      <td>False</td>\n",
       "      <td>False</td>\n",
       "      <td>False</td>\n",
       "      <td>False</td>\n",
       "      <td>False</td>\n",
       "      <td>False</td>\n",
       "      <td>False</td>\n",
       "      <td>False</td>\n",
       "      <td>False</td>\n",
       "      <td>False</td>\n",
       "      <td>False</td>\n",
       "      <td>False</td>\n",
       "      <td>Day</td>\n",
       "      <td>12</td>\n",
       "      <td>23</td>\n",
       "      <td>4</td>\n",
       "    </tr>\n",
       "    <tr>\n",
       "      <th>freq</th>\n",
       "      <td>398142</td>\n",
       "      <td>493809</td>\n",
       "      <td>443747</td>\n",
       "      <td>497638</td>\n",
       "      <td>462993</td>\n",
       "      <td>498755</td>\n",
       "      <td>495680</td>\n",
       "      <td>499987</td>\n",
       "      <td>487002</td>\n",
       "      <td>485937</td>\n",
       "      <td>499534</td>\n",
       "      <td>425965</td>\n",
       "      <td>500000</td>\n",
       "      <td>412242</td>\n",
       "      <td>54589</td>\n",
       "      <td>18159</td>\n",
       "      <td>88766</td>\n",
       "    </tr>\n",
       "  </tbody>\n",
       "</table>\n",
       "</div>"
      ],
      "text/plain": [
       "        Severity Amenity Crossing Give_Way Junction No_Exit Railway  \\\n",
       "count     500000  500000   500000   500000   500000  500000  500000   \n",
       "unique         4       2        2        2        2       2       2   \n",
       "top            2   False    False    False    False   False   False   \n",
       "freq      398142  493809   443747   497638   462993  498755  495680   \n",
       "\n",
       "       Roundabout Station    Stop Traffic_Calming Traffic_Signal Turning_Loop  \\\n",
       "count      500000  500000  500000          500000         500000       500000   \n",
       "unique          2       2       2               2              2            1   \n",
       "top         False   False   False           False          False        False   \n",
       "freq       499987  487002  485937          499534         425965       500000   \n",
       "\n",
       "       Astronomical_Twilight   Month     Day  Weekday  \n",
       "count                 498517  500000  500000   500000  \n",
       "unique                     2      12      31        7  \n",
       "top                      Day      12      23        4  \n",
       "freq                  412242   54589   18159    88766  "
      ]
     },
     "execution_count": 13,
     "metadata": {},
     "output_type": "execute_result"
    }
   ],
   "source": [
    "data_w_c.describe(include=['O'])"
   ]
  },
  {
   "cell_type": "markdown",
   "metadata": {},
   "source": [
    "It does not seem to be any missing value for the categorical values of the dataset, using the information available from the description. There are some Nan's, but these are detected by Python, so for the moment there is anything to worry about."
   ]
  },
  {
   "cell_type": "markdown",
   "metadata": {},
   "source": [
    "Now let's do the same for numerical variables."
   ]
  },
  {
   "cell_type": "code",
   "execution_count": 14,
   "metadata": {},
   "outputs": [
    {
     "data": {
      "text/html": [
       "<div>\n",
       "<style scoped>\n",
       "    .dataframe tbody tr th:only-of-type {\n",
       "        vertical-align: middle;\n",
       "    }\n",
       "\n",
       "    .dataframe tbody tr th {\n",
       "        vertical-align: top;\n",
       "    }\n",
       "\n",
       "    .dataframe thead th {\n",
       "        text-align: right;\n",
       "    }\n",
       "</style>\n",
       "<table border=\"1\" class=\"dataframe\">\n",
       "  <thead>\n",
       "    <tr style=\"text-align: right;\">\n",
       "      <th></th>\n",
       "      <th>Start_Lat</th>\n",
       "      <th>Start_Lng</th>\n",
       "      <th>Distance(mi)</th>\n",
       "      <th>Temperature(F)</th>\n",
       "      <th>Humidity(%)</th>\n",
       "      <th>Pressure(in)</th>\n",
       "      <th>Visibility(mi)</th>\n",
       "      <th>Time_Difference</th>\n",
       "      <th>Year</th>\n",
       "      <th>Hour</th>\n",
       "    </tr>\n",
       "  </thead>\n",
       "  <tbody>\n",
       "    <tr>\n",
       "      <th>count</th>\n",
       "      <td>500000.000000</td>\n",
       "      <td>500000.000000</td>\n",
       "      <td>500000.000000</td>\n",
       "      <td>489534.000000</td>\n",
       "      <td>488870.000000</td>\n",
       "      <td>491072.000000</td>\n",
       "      <td>488709.000000</td>\n",
       "      <td>500000.000000</td>\n",
       "      <td>500000.000000</td>\n",
       "      <td>500000.000000</td>\n",
       "    </tr>\n",
       "    <tr>\n",
       "      <th>mean</th>\n",
       "      <td>36.206421</td>\n",
       "      <td>-94.736583</td>\n",
       "      <td>0.564317</td>\n",
       "      <td>61.646254</td>\n",
       "      <td>64.834921</td>\n",
       "      <td>29.536621</td>\n",
       "      <td>9.091540</td>\n",
       "      <td>6532.913214</td>\n",
       "      <td>2019.906596</td>\n",
       "      <td>12.321320</td>\n",
       "    </tr>\n",
       "    <tr>\n",
       "      <th>std</th>\n",
       "      <td>5.071411</td>\n",
       "      <td>17.405761</td>\n",
       "      <td>1.774872</td>\n",
       "      <td>19.000133</td>\n",
       "      <td>22.826158</td>\n",
       "      <td>1.008666</td>\n",
       "      <td>2.708083</td>\n",
       "      <td>7566.691113</td>\n",
       "      <td>1.913944</td>\n",
       "      <td>5.471098</td>\n",
       "    </tr>\n",
       "    <tr>\n",
       "      <th>min</th>\n",
       "      <td>24.562117</td>\n",
       "      <td>-124.497420</td>\n",
       "      <td>0.000000</td>\n",
       "      <td>-77.800000</td>\n",
       "      <td>1.000000</td>\n",
       "      <td>0.120000</td>\n",
       "      <td>0.000000</td>\n",
       "      <td>0.000000</td>\n",
       "      <td>2016.000000</td>\n",
       "      <td>0.000000</td>\n",
       "    </tr>\n",
       "    <tr>\n",
       "      <th>25%</th>\n",
       "      <td>33.416823</td>\n",
       "      <td>-117.233047</td>\n",
       "      <td>0.000000</td>\n",
       "      <td>49.000000</td>\n",
       "      <td>48.000000</td>\n",
       "      <td>29.370000</td>\n",
       "      <td>10.000000</td>\n",
       "      <td>1890.000000</td>\n",
       "      <td>2018.000000</td>\n",
       "      <td>8.000000</td>\n",
       "    </tr>\n",
       "    <tr>\n",
       "      <th>50%</th>\n",
       "      <td>35.832147</td>\n",
       "      <td>-87.794365</td>\n",
       "      <td>0.029000</td>\n",
       "      <td>64.000000</td>\n",
       "      <td>67.000000</td>\n",
       "      <td>29.860000</td>\n",
       "      <td>10.000000</td>\n",
       "      <td>4488.000000</td>\n",
       "      <td>2020.000000</td>\n",
       "      <td>13.000000</td>\n",
       "    </tr>\n",
       "    <tr>\n",
       "      <th>75%</th>\n",
       "      <td>40.082443</td>\n",
       "      <td>-80.359601</td>\n",
       "      <td>0.465000</td>\n",
       "      <td>76.000000</td>\n",
       "      <td>84.000000</td>\n",
       "      <td>30.030000</td>\n",
       "      <td>10.000000</td>\n",
       "      <td>7485.000000</td>\n",
       "      <td>2022.000000</td>\n",
       "      <td>17.000000</td>\n",
       "    </tr>\n",
       "    <tr>\n",
       "      <th>max</th>\n",
       "      <td>48.999569</td>\n",
       "      <td>-67.484130</td>\n",
       "      <td>193.479996</td>\n",
       "      <td>207.000000</td>\n",
       "      <td>100.000000</td>\n",
       "      <td>38.440000</td>\n",
       "      <td>130.000000</td>\n",
       "      <td>86399.000000</td>\n",
       "      <td>2023.000000</td>\n",
       "      <td>23.000000</td>\n",
       "    </tr>\n",
       "  </tbody>\n",
       "</table>\n",
       "</div>"
      ],
      "text/plain": [
       "           Start_Lat      Start_Lng   Distance(mi)  Temperature(F)  \\\n",
       "count  500000.000000  500000.000000  500000.000000   489534.000000   \n",
       "mean       36.206421     -94.736583       0.564317       61.646254   \n",
       "std         5.071411      17.405761       1.774872       19.000133   \n",
       "min        24.562117    -124.497420       0.000000      -77.800000   \n",
       "25%        33.416823    -117.233047       0.000000       49.000000   \n",
       "50%        35.832147     -87.794365       0.029000       64.000000   \n",
       "75%        40.082443     -80.359601       0.465000       76.000000   \n",
       "max        48.999569     -67.484130     193.479996      207.000000   \n",
       "\n",
       "         Humidity(%)   Pressure(in)  Visibility(mi)  Time_Difference  \\\n",
       "count  488870.000000  491072.000000   488709.000000    500000.000000   \n",
       "mean       64.834921      29.536621        9.091540      6532.913214   \n",
       "std        22.826158       1.008666        2.708083      7566.691113   \n",
       "min         1.000000       0.120000        0.000000         0.000000   \n",
       "25%        48.000000      29.370000       10.000000      1890.000000   \n",
       "50%        67.000000      29.860000       10.000000      4488.000000   \n",
       "75%        84.000000      30.030000       10.000000      7485.000000   \n",
       "max       100.000000      38.440000      130.000000     86399.000000   \n",
       "\n",
       "                Year           Hour  \n",
       "count  500000.000000  500000.000000  \n",
       "mean     2019.906596      12.321320  \n",
       "std         1.913944       5.471098  \n",
       "min      2016.000000       0.000000  \n",
       "25%      2018.000000       8.000000  \n",
       "50%      2020.000000      13.000000  \n",
       "75%      2022.000000      17.000000  \n",
       "max      2023.000000      23.000000  "
      ]
     },
     "execution_count": 14,
     "metadata": {},
     "output_type": "execute_result"
    }
   ],
   "source": [
    "data_w_c.describe(include=['int', 'float'])"
   ]
  },
  {
   "cell_type": "markdown",
   "metadata": {},
   "source": [
    "The Distance variable contains some 0's, it cannot be since if there has been an accident, the lenght of the road affected by it is greater than 0. The temperature of 200 F is not possible here, so it is also a Nan, the same with temperatures smaller then -40 F.The humidity percentage contains some 1, it is very low and cannot be real so we compute it as a missing value, the same for one of 100%. The minimum of the pressure (0.12 in) is very low for a place in the Earth, so there are also missing values there. A visibility of 0 miles is also a missing value, although it could be due to a climatological adversity, the same for 130 miles."
   ]
  },
  {
   "cell_type": "code",
   "execution_count": 15,
   "metadata": {},
   "outputs": [
    {
     "data": {
      "text/plain": [
       "<AxesSubplot: >"
      ]
     },
     "execution_count": 15,
     "metadata": {},
     "output_type": "execute_result"
    },
    {
     "data": {
      "image/png": "[encoded data removed]",
      "text/plain": [
       "<Figure size 640x480 with 1 Axes>"
      ]
     },
     "metadata": {},
     "output_type": "display_data"
    }
   ],
   "source": [
    "data_w_c['Distance(mi)'].hist()"
   ]
  },
  {
   "cell_type": "code",
   "execution_count": 16,
   "metadata": {},
   "outputs": [
    {
     "data": {
      "text/plain": [
       "<AxesSubplot: >"
      ]
     },
     "execution_count": 16,
     "metadata": {},
     "output_type": "execute_result"
    },
    {
     "data": {
      "image/png": "[encoded data removed]",
      "text/plain": [
       "<Figure size 640x480 with 1 Axes>"
      ]
     },
     "metadata": {},
     "output_type": "display_data"
    }
   ],
   "source": [
    "data_w_c['Distance(mi)'][(data_w_c['Distance(mi)'] != 0)].hist()"
   ]
  },
  {
   "cell_type": "code",
   "execution_count": 17,
   "metadata": {},
   "outputs": [
    {
     "data": {
      "text/plain": [
       "<AxesSubplot: >"
      ]
     },
     "execution_count": 17,
     "metadata": {},
     "output_type": "execute_result"
    },
    {
     "data": {
      "image/png": "[encoded data removed]",
      "text/plain": [
       "<Figure size 640x480 with 1 Axes>"
      ]
     },
     "metadata": {},
     "output_type": "display_data"
    }
   ],
   "source": [
    "data_w_c['Temperature(F)'].hist()"
   ]
  },
  {
   "cell_type": "code",
   "execution_count": 18,
   "metadata": {},
   "outputs": [
    {
     "data": {
      "text/plain": [
       "<AxesSubplot: >"
      ]
     },
     "execution_count": 18,
     "metadata": {},
     "output_type": "execute_result"
    },
    {
     "data": {
      "image/png": "[encoded data removed]",
      "text/plain": [
       "<Figure size 640x480 with 1 Axes>"
      ]
     },
     "metadata": {},
     "output_type": "display_data"
    }
   ],
   "source": [
    "data_w_c['Temperature(F)'][(data_w_c['Temperature(F)'] <= 200)&(data_w_c['Temperature(F)'] > -50)].hist()"
   ]
  },
  {
   "cell_type": "code",
   "execution_count": 19,
   "metadata": {},
   "outputs": [
    {
     "data": {
      "text/plain": [
       "<AxesSubplot: >"
      ]
     },
     "execution_count": 19,
     "metadata": {},
     "output_type": "execute_result"
    },
    {
     "data": {
      "image/png": "[encoded data removed]",
      "text/plain": [
       "<Figure size 640x480 with 1 Axes>"
      ]
     },
     "metadata": {},
     "output_type": "display_data"
    }
   ],
   "source": [
    "data_w_c['Humidity(%)'].hist()"
   ]
  },
  {
   "cell_type": "code",
   "execution_count": 20,
   "metadata": {},
   "outputs": [
    {
     "data": {
      "text/plain": [
       "<AxesSubplot: >"
      ]
     },
     "execution_count": 20,
     "metadata": {},
     "output_type": "execute_result"
    },
    {
     "data": {
      "image/png": "[encoded data removed]",
      "text/plain": [
       "<Figure size 640x480 with 1 Axes>"
      ]
     },
     "metadata": {},
     "output_type": "display_data"
    }
   ],
   "source": [
    "data_w_c['Humidity(%)'][(data_w_c['Humidity(%)'] !=1)&(data_w_c['Humidity(%)'] != 100)].hist()"
   ]
  },
  {
   "cell_type": "code",
   "execution_count": 21,
   "metadata": {},
   "outputs": [
    {
     "data": {
      "text/plain": [
       "<AxesSubplot: >"
      ]
     },
     "execution_count": 21,
     "metadata": {},
     "output_type": "execute_result"
    },
    {
     "data": {
      "image/png": "[encoded data removed]",
      "text/plain": [
       "<Figure size 640x480 with 1 Axes>"
      ]
     },
     "metadata": {},
     "output_type": "display_data"
    }
   ],
   "source": [
    "data_w_c['Pressure(in)'].hist()"
   ]
  },
  {
   "cell_type": "code",
   "execution_count": 22,
   "metadata": {},
   "outputs": [
    {
     "data": {
      "text/plain": [
       "<AxesSubplot: >"
      ]
     },
     "execution_count": 22,
     "metadata": {},
     "output_type": "execute_result"
    },
    {
     "data": {
      "image/png": "[encoded data removed]",
      "text/plain": [
       "<Figure size 640x480 with 1 Axes>"
      ]
     },
     "metadata": {},
     "output_type": "display_data"
    }
   ],
   "source": [
    "data_w_c['Pressure(in)'][(data_w_c['Pressure(in)'] > 3)].hist()"
   ]
  },
  {
   "cell_type": "code",
   "execution_count": 23,
   "metadata": {},
   "outputs": [
    {
     "data": {
      "text/plain": [
       "<AxesSubplot: >"
      ]
     },
     "execution_count": 23,
     "metadata": {},
     "output_type": "execute_result"
    },
    {
     "data": {
      "image/png": "[encoded data removed]",
      "text/plain": [
       "<Figure size 640x480 with 1 Axes>"
      ]
     },
     "metadata": {},
     "output_type": "display_data"
    }
   ],
   "source": [
    "data_w_c['Visibility(mi)'].hist()"
   ]
  },
  {
   "cell_type": "code",
   "execution_count": 24,
   "metadata": {},
   "outputs": [
    {
     "data": {
      "text/plain": [
       "<AxesSubplot: >"
      ]
     },
     "execution_count": 24,
     "metadata": {},
     "output_type": "execute_result"
    },
    {
     "data": {
      "image/png": "[encoded data removed]",
      "text/plain": [
       "<Figure size 640x480 with 1 Axes>"
      ]
     },
     "metadata": {},
     "output_type": "display_data"
    }
   ],
   "source": [
    "data_w_c['Visibility(mi)'][(data_w_c['Visibility(mi)'] != 0) & (data_w_c['Visibility(mi)'] != 130)].hist()"
   ]
  },
  {
   "cell_type": "code",
   "execution_count": 25,
   "metadata": {},
   "outputs": [
    {
     "data": {
      "text/plain": [
       "False    499481\n",
       "True        519\n",
       "Name: Visibility(mi), dtype: int64"
      ]
     },
     "execution_count": 25,
     "metadata": {},
     "output_type": "execute_result"
    }
   ],
   "source": [
    "((data_w_c['Visibility(mi)'] == 0) | (data_w_c['Visibility(mi)'] == 130)).value_counts()"
   ]
  },
  {
   "cell_type": "markdown",
   "metadata": {},
   "source": [
    "We set the 300 mph bound because it is the aproximately point of the wind's speed in a hurricane."
   ]
  },
  {
   "cell_type": "markdown",
   "metadata": {},
   "source": [
    "Now that we have seen some missing values in our data, we will set no NA the values seen here in order to impute a prediction using the KNN algorithm."
   ]
  },
  {
   "cell_type": "code",
   "execution_count": 26,
   "metadata": {},
   "outputs": [
    {
     "name": "stderr",
     "output_type": "stream",
     "text": [
      "/tmp/ipykernel_28975/3770805335.py:1: SettingWithCopyWarning: \n",
      "A value is trying to be set on a copy of a slice from a DataFrame\n",
      "\n",
      "See the caveats in the documentation: https://pandas.pydata.org/pandas-docs/stable/user_guide/indexing.html#returning-a-view-versus-a-copy\n",
      "  data_w_c['Distance(mi)'][(data_w_c['Distance(mi)'] == 0)] = np.nan\n",
      "/tmp/ipykernel_28975/3770805335.py:2: SettingWithCopyWarning: \n",
      "A value is trying to be set on a copy of a slice from a DataFrame\n",
      "\n",
      "See the caveats in the documentation: https://pandas.pydata.org/pandas-docs/stable/user_guide/indexing.html#returning-a-view-versus-a-copy\n",
      "  data_w_c['Temperature(F)'][(data_w_c['Temperature(F)'] >= 200)|(data_w_c['Temperature(F)'] <= -50)] = np.nan\n",
      "/tmp/ipykernel_28975/3770805335.py:3: SettingWithCopyWarning: \n",
      "A value is trying to be set on a copy of a slice from a DataFrame\n",
      "\n",
      "See the caveats in the documentation: https://pandas.pydata.org/pandas-docs/stable/user_guide/indexing.html#returning-a-view-versus-a-copy\n",
      "  data_w_c['Humidity(%)'][(data_w_c['Humidity(%)'] == 1)|(data_w_c['Humidity(%)'] == 100)] = np.nan\n",
      "/tmp/ipykernel_28975/3770805335.py:4: SettingWithCopyWarning: \n",
      "A value is trying to be set on a copy of a slice from a DataFrame\n",
      "\n",
      "See the caveats in the documentation: https://pandas.pydata.org/pandas-docs/stable/user_guide/indexing.html#returning-a-view-versus-a-copy\n",
      "  data_w_c['Pressure(in)'][(data_w_c['Pressure(in)'] < 3)] = np.nan\n",
      "/tmp/ipykernel_28975/3770805335.py:5: SettingWithCopyWarning: \n",
      "A value is trying to be set on a copy of a slice from a DataFrame\n",
      "\n",
      "See the caveats in the documentation: https://pandas.pydata.org/pandas-docs/stable/user_guide/indexing.html#returning-a-view-versus-a-copy\n",
      "  data_w_c['Visibility(mi)'][(data_w_c['Visibility(mi)'] == 0)|(data_w_c['Visibility(mi)'] == 130)] = np.nan\n"
     ]
    }
   ],
   "source": [
    "data_w_c['Distance(mi)'][(data_w_c['Distance(mi)'] == 0)] = np.nan\n",
    "data_w_c['Temperature(F)'][(data_w_c['Temperature(F)'] >= 200)|(data_w_c['Temperature(F)'] <= -50)] = np.nan\n",
    "data_w_c['Humidity(%)'][(data_w_c['Humidity(%)'] == 1)|(data_w_c['Humidity(%)'] == 100)] = np.nan\n",
    "data_w_c['Pressure(in)'][(data_w_c['Pressure(in)'] < 3)] = np.nan\n",
    "data_w_c['Visibility(mi)'][(data_w_c['Visibility(mi)'] == 0)|(data_w_c['Visibility(mi)'] == 130)] = np.nan"
   ]
  },
  {
   "cell_type": "markdown",
   "metadata": {},
   "source": [
    "Let's see the difference in the description table of the numerical variables of the dataset."
   ]
  },
  {
   "cell_type": "code",
   "execution_count": 27,
   "metadata": {},
   "outputs": [
    {
     "data": {
      "text/html": [
       "<div>\n",
       "<style scoped>\n",
       "    .dataframe tbody tr th:only-of-type {\n",
       "        vertical-align: middle;\n",
       "    }\n",
       "\n",
       "    .dataframe tbody tr th {\n",
       "        vertical-align: top;\n",
       "    }\n",
       "\n",
       "    .dataframe thead th {\n",
       "        text-align: right;\n",
       "    }\n",
       "</style>\n",
       "<table border=\"1\" class=\"dataframe\">\n",
       "  <thead>\n",
       "    <tr style=\"text-align: right;\">\n",
       "      <th></th>\n",
       "      <th>Start_Lat</th>\n",
       "      <th>Start_Lng</th>\n",
       "      <th>Distance(mi)</th>\n",
       "      <th>Temperature(F)</th>\n",
       "      <th>Humidity(%)</th>\n",
       "      <th>Pressure(in)</th>\n",
       "      <th>Visibility(mi)</th>\n",
       "      <th>Time_Difference</th>\n",
       "      <th>Year</th>\n",
       "      <th>Hour</th>\n",
       "    </tr>\n",
       "  </thead>\n",
       "  <tbody>\n",
       "    <tr>\n",
       "      <th>count</th>\n",
       "      <td>500000.000000</td>\n",
       "      <td>500000.000000</td>\n",
       "      <td>286413.000000</td>\n",
       "      <td>489532.000000</td>\n",
       "      <td>470461.000000</td>\n",
       "      <td>491070.000000</td>\n",
       "      <td>488190.000000</td>\n",
       "      <td>500000.000000</td>\n",
       "      <td>500000.000000</td>\n",
       "      <td>500000.000000</td>\n",
       "    </tr>\n",
       "    <tr>\n",
       "      <th>mean</th>\n",
       "      <td>36.206421</td>\n",
       "      <td>-94.736583</td>\n",
       "      <td>0.985146</td>\n",
       "      <td>61.646242</td>\n",
       "      <td>63.459133</td>\n",
       "      <td>29.536735</td>\n",
       "      <td>9.100939</td>\n",
       "      <td>6532.913214</td>\n",
       "      <td>2019.906596</td>\n",
       "      <td>12.321320</td>\n",
       "    </tr>\n",
       "    <tr>\n",
       "      <th>std</th>\n",
       "      <td>5.071411</td>\n",
       "      <td>17.405761</td>\n",
       "      <td>2.254945</td>\n",
       "      <td>18.997991</td>\n",
       "      <td>22.161575</td>\n",
       "      <td>1.007082</td>\n",
       "      <td>2.687707</td>\n",
       "      <td>7566.691113</td>\n",
       "      <td>1.913944</td>\n",
       "      <td>5.471098</td>\n",
       "    </tr>\n",
       "    <tr>\n",
       "      <th>min</th>\n",
       "      <td>24.562117</td>\n",
       "      <td>-124.497420</td>\n",
       "      <td>0.001000</td>\n",
       "      <td>-35.000000</td>\n",
       "      <td>2.000000</td>\n",
       "      <td>19.360000</td>\n",
       "      <td>0.060000</td>\n",
       "      <td>0.000000</td>\n",
       "      <td>2016.000000</td>\n",
       "      <td>0.000000</td>\n",
       "    </tr>\n",
       "    <tr>\n",
       "      <th>25%</th>\n",
       "      <td>33.416823</td>\n",
       "      <td>-117.233047</td>\n",
       "      <td>0.089000</td>\n",
       "      <td>49.000000</td>\n",
       "      <td>47.000000</td>\n",
       "      <td>29.370000</td>\n",
       "      <td>10.000000</td>\n",
       "      <td>1890.000000</td>\n",
       "      <td>2018.000000</td>\n",
       "      <td>8.000000</td>\n",
       "    </tr>\n",
       "    <tr>\n",
       "      <th>50%</th>\n",
       "      <td>35.832147</td>\n",
       "      <td>-87.794365</td>\n",
       "      <td>0.344000</td>\n",
       "      <td>64.000000</td>\n",
       "      <td>66.000000</td>\n",
       "      <td>29.860000</td>\n",
       "      <td>10.000000</td>\n",
       "      <td>4488.000000</td>\n",
       "      <td>2020.000000</td>\n",
       "      <td>13.000000</td>\n",
       "    </tr>\n",
       "    <tr>\n",
       "      <th>75%</th>\n",
       "      <td>40.082443</td>\n",
       "      <td>-80.359601</td>\n",
       "      <td>1.005000</td>\n",
       "      <td>76.000000</td>\n",
       "      <td>82.000000</td>\n",
       "      <td>30.030000</td>\n",
       "      <td>10.000000</td>\n",
       "      <td>7485.000000</td>\n",
       "      <td>2022.000000</td>\n",
       "      <td>17.000000</td>\n",
       "    </tr>\n",
       "    <tr>\n",
       "      <th>max</th>\n",
       "      <td>48.999569</td>\n",
       "      <td>-67.484130</td>\n",
       "      <td>193.479996</td>\n",
       "      <td>196.000000</td>\n",
       "      <td>99.000000</td>\n",
       "      <td>38.440000</td>\n",
       "      <td>120.000000</td>\n",
       "      <td>86399.000000</td>\n",
       "      <td>2023.000000</td>\n",
       "      <td>23.000000</td>\n",
       "    </tr>\n",
       "  </tbody>\n",
       "</table>\n",
       "</div>"
      ],
      "text/plain": [
       "           Start_Lat      Start_Lng   Distance(mi)  Temperature(F)  \\\n",
       "count  500000.000000  500000.000000  286413.000000   489532.000000   \n",
       "mean       36.206421     -94.736583       0.985146       61.646242   \n",
       "std         5.071411      17.405761       2.254945       18.997991   \n",
       "min        24.562117    -124.497420       0.001000      -35.000000   \n",
       "25%        33.416823    -117.233047       0.089000       49.000000   \n",
       "50%        35.832147     -87.794365       0.344000       64.000000   \n",
       "75%        40.082443     -80.359601       1.005000       76.000000   \n",
       "max        48.999569     -67.484130     193.479996      196.000000   \n",
       "\n",
       "         Humidity(%)   Pressure(in)  Visibility(mi)  Time_Difference  \\\n",
       "count  470461.000000  491070.000000   488190.000000    500000.000000   \n",
       "mean       63.459133      29.536735        9.100939      6532.913214   \n",
       "std        22.161575       1.007082        2.687707      7566.691113   \n",
       "min         2.000000      19.360000        0.060000         0.000000   \n",
       "25%        47.000000      29.370000       10.000000      1890.000000   \n",
       "50%        66.000000      29.860000       10.000000      4488.000000   \n",
       "75%        82.000000      30.030000       10.000000      7485.000000   \n",
       "max        99.000000      38.440000      120.000000     86399.000000   \n",
       "\n",
       "                Year           Hour  \n",
       "count  500000.000000  500000.000000  \n",
       "mean     2019.906596      12.321320  \n",
       "std         1.913944       5.471098  \n",
       "min      2016.000000       0.000000  \n",
       "25%      2018.000000       8.000000  \n",
       "50%      2020.000000      13.000000  \n",
       "75%      2022.000000      17.000000  \n",
       "max      2023.000000      23.000000  "
      ]
     },
     "execution_count": 27,
     "metadata": {},
     "output_type": "execute_result"
    }
   ],
   "source": [
    "data_w_c.describe(include=['int', 'float'])"
   ]
  },
  {
   "cell_type": "markdown",
   "metadata": {},
   "source": [
    "Now we have set no NAN all those values that we have considered to be something strange, we will impute these values using the KNN algorithm."
   ]
  },
  {
   "cell_type": "code",
   "execution_count": 28,
   "metadata": {},
   "outputs": [
    {
     "data": {
      "image/png": "[encoded data removed]",
      "text/plain": [
       "<Figure size 1000x600 with 1 Axes>"
      ]
     },
     "metadata": {},
     "output_type": "display_data"
    }
   ],
   "source": [
    "# nan histogram\n",
    "nan_counts = data_w_c.isna().sum()\n",
    "nan_counts.plot(kind='bar', figsize=(10, 6))\n",
    "plt.xlabel('Columns')\n",
    "plt.ylabel('NaN Counts')\n",
    "plt.title('NaN Values in Dataset')\n",
    "plt.show()"
   ]
  },
  {
   "cell_type": "code",
   "execution_count": 29,
   "metadata": {},
   "outputs": [],
   "source": [
    "columns_with_nan = ['Distance(mi)', 'Temperature(F)', 'Humidity(%)', 'Pressure(in)', 'Visibility(mi)','Year','Month','Day','Hour','Weekday']\n",
    "subset_data_w_c = data_w_c.drop(columns=columns_with_nan)"
   ]
  },
  {
   "cell_type": "code",
   "execution_count": 30,
   "metadata": {},
   "outputs": [
    {
     "data": {
      "text/plain": [
       "(500000, 17)"
      ]
     },
     "execution_count": 30,
     "metadata": {},
     "output_type": "execute_result"
    }
   ],
   "source": [
    "subset_data_w_c.shape"
   ]
  },
  {
   "cell_type": "code",
   "execution_count": 31,
   "metadata": {},
   "outputs": [
    {
     "data": {
      "text/plain": [
       "(500000, 27)"
      ]
     },
     "execution_count": 31,
     "metadata": {},
     "output_type": "execute_result"
    }
   ],
   "source": [
    "data_w_c.shape"
   ]
  },
  {
   "cell_type": "code",
   "execution_count": 32,
   "metadata": {},
   "outputs": [
    {
     "data": {
      "text/plain": [
       "(267513, 17)"
      ]
     },
     "execution_count": 32,
     "metadata": {},
     "output_type": "execute_result"
    }
   ],
   "source": [
    "rows_not_missing = data_w_c['Distance(mi)'].notna() & data_w_c['Temperature(F)'].notna() &  data_w_c['Humidity(%)'].notna() & data_w_c['Pressure(in)'].notna() & data_w_c['Visibility(mi)'].notna() & data_w_c['Year'].notna() & data_w_c['Month'].notna() & data_w_c['Day'].notna() & data_w_c['Hour'].notna() & data_w_c['Weekday'].notna()\n",
    "data_w_c_without_missing = subset_data_w_c[rows_not_missing]\n",
    "data_w_c_without_missing.shape"
   ]
  },
  {
   "cell_type": "code",
   "execution_count": 33,
   "metadata": {},
   "outputs": [
    {
     "name": "stdout",
     "output_type": "stream",
     "text": [
      "int64\n"
     ]
    }
   ],
   "source": [
    "print(data_w_c['Hour'].dtype)"
   ]
  },
  {
   "cell_type": "code",
   "execution_count": 34,
   "metadata": {},
   "outputs": [],
   "source": [
    "# #Seguir lo que se dice en el notebook 1 pre-processing\n",
    "# knn1 = KNeighborsRegressor(n_neighbors=1)\n",
    "# knn2 = KNeighborsClassifier(n_neighbors=1)\n",
    "\n",
    "# for column in columns_with_nan:\n",
    "    \n",
    "#     rows_column_missing = subset_data_w_c[data_w_c[column].isna()]\n",
    "\n",
    "#     if data_w_c[column].dtype == 'float' or data_w_c[column].dtype == 'int':\n",
    "#         knn = knn1\n",
    "#     elif data_w_c[column].dtype == 'object':\n",
    "#         knn = knn2\n",
    "\n",
    "#     knn.fit(data_w_c_without_missing, data_w_c[column][rows_not_missing])\n",
    "#     imputed_values = knn.predict(rows_column_missing)\n",
    "\n",
    "#     data_w_c[column][data_w_c[column].isna()] = imputed_values\n",
    "\n",
    "# data_w_c.isna().sum()  "
   ]
  },
  {
   "cell_type": "code",
   "execution_count": 35,
   "metadata": {},
   "outputs": [
    {
     "data": {
      "text/html": [
       "<div>\n",
       "<style scoped>\n",
       "    .dataframe tbody tr th:only-of-type {\n",
       "        vertical-align: middle;\n",
       "    }\n",
       "\n",
       "    .dataframe tbody tr th {\n",
       "        vertical-align: top;\n",
       "    }\n",
       "\n",
       "    .dataframe thead th {\n",
       "        text-align: right;\n",
       "    }\n",
       "</style>\n",
       "<table border=\"1\" class=\"dataframe\">\n",
       "  <thead>\n",
       "    <tr style=\"text-align: right;\">\n",
       "      <th></th>\n",
       "      <th>Severity</th>\n",
       "      <th>Start_Lat</th>\n",
       "      <th>Start_Lng</th>\n",
       "      <th>Distance(mi)</th>\n",
       "      <th>Temperature(F)</th>\n",
       "      <th>Humidity(%)</th>\n",
       "      <th>Pressure(in)</th>\n",
       "      <th>Visibility(mi)</th>\n",
       "      <th>Amenity</th>\n",
       "      <th>Crossing</th>\n",
       "      <th>...</th>\n",
       "      <th>Traffic_Calming</th>\n",
       "      <th>Traffic_Signal</th>\n",
       "      <th>Turning_Loop</th>\n",
       "      <th>Astronomical_Twilight</th>\n",
       "      <th>Time_Difference</th>\n",
       "      <th>Year</th>\n",
       "      <th>Month</th>\n",
       "      <th>Day</th>\n",
       "      <th>Hour</th>\n",
       "      <th>Weekday</th>\n",
       "    </tr>\n",
       "  </thead>\n",
       "  <tbody>\n",
       "    <tr>\n",
       "      <th>count</th>\n",
       "      <td>500000.0</td>\n",
       "      <td>500000.000000</td>\n",
       "      <td>500000.000000</td>\n",
       "      <td>286413.000000</td>\n",
       "      <td>489532.000000</td>\n",
       "      <td>470461.000000</td>\n",
       "      <td>491070.000000</td>\n",
       "      <td>488190.000000</td>\n",
       "      <td>500000</td>\n",
       "      <td>500000</td>\n",
       "      <td>...</td>\n",
       "      <td>500000</td>\n",
       "      <td>500000</td>\n",
       "      <td>500000</td>\n",
       "      <td>498517</td>\n",
       "      <td>500000.000000</td>\n",
       "      <td>500000.000000</td>\n",
       "      <td>500000.0</td>\n",
       "      <td>500000.0</td>\n",
       "      <td>500000.000000</td>\n",
       "      <td>500000.0</td>\n",
       "    </tr>\n",
       "    <tr>\n",
       "      <th>unique</th>\n",
       "      <td>4.0</td>\n",
       "      <td>NaN</td>\n",
       "      <td>NaN</td>\n",
       "      <td>NaN</td>\n",
       "      <td>NaN</td>\n",
       "      <td>NaN</td>\n",
       "      <td>NaN</td>\n",
       "      <td>NaN</td>\n",
       "      <td>2</td>\n",
       "      <td>2</td>\n",
       "      <td>...</td>\n",
       "      <td>2</td>\n",
       "      <td>2</td>\n",
       "      <td>1</td>\n",
       "      <td>2</td>\n",
       "      <td>NaN</td>\n",
       "      <td>NaN</td>\n",
       "      <td>12.0</td>\n",
       "      <td>31.0</td>\n",
       "      <td>NaN</td>\n",
       "      <td>7.0</td>\n",
       "    </tr>\n",
       "    <tr>\n",
       "      <th>top</th>\n",
       "      <td>2.0</td>\n",
       "      <td>NaN</td>\n",
       "      <td>NaN</td>\n",
       "      <td>NaN</td>\n",
       "      <td>NaN</td>\n",
       "      <td>NaN</td>\n",
       "      <td>NaN</td>\n",
       "      <td>NaN</td>\n",
       "      <td>False</td>\n",
       "      <td>False</td>\n",
       "      <td>...</td>\n",
       "      <td>False</td>\n",
       "      <td>False</td>\n",
       "      <td>False</td>\n",
       "      <td>Day</td>\n",
       "      <td>NaN</td>\n",
       "      <td>NaN</td>\n",
       "      <td>12.0</td>\n",
       "      <td>23.0</td>\n",
       "      <td>NaN</td>\n",
       "      <td>4.0</td>\n",
       "    </tr>\n",
       "    <tr>\n",
       "      <th>freq</th>\n",
       "      <td>398142.0</td>\n",
       "      <td>NaN</td>\n",
       "      <td>NaN</td>\n",
       "      <td>NaN</td>\n",
       "      <td>NaN</td>\n",
       "      <td>NaN</td>\n",
       "      <td>NaN</td>\n",
       "      <td>NaN</td>\n",
       "      <td>493809</td>\n",
       "      <td>443747</td>\n",
       "      <td>...</td>\n",
       "      <td>499534</td>\n",
       "      <td>425965</td>\n",
       "      <td>500000</td>\n",
       "      <td>412242</td>\n",
       "      <td>NaN</td>\n",
       "      <td>NaN</td>\n",
       "      <td>54589.0</td>\n",
       "      <td>18159.0</td>\n",
       "      <td>NaN</td>\n",
       "      <td>88766.0</td>\n",
       "    </tr>\n",
       "    <tr>\n",
       "      <th>mean</th>\n",
       "      <td>NaN</td>\n",
       "      <td>36.206421</td>\n",
       "      <td>-94.736583</td>\n",
       "      <td>0.985146</td>\n",
       "      <td>61.646242</td>\n",
       "      <td>63.459133</td>\n",
       "      <td>29.536735</td>\n",
       "      <td>9.100939</td>\n",
       "      <td>NaN</td>\n",
       "      <td>NaN</td>\n",
       "      <td>...</td>\n",
       "      <td>NaN</td>\n",
       "      <td>NaN</td>\n",
       "      <td>NaN</td>\n",
       "      <td>NaN</td>\n",
       "      <td>6532.913214</td>\n",
       "      <td>2019.906596</td>\n",
       "      <td>NaN</td>\n",
       "      <td>NaN</td>\n",
       "      <td>12.321320</td>\n",
       "      <td>NaN</td>\n",
       "    </tr>\n",
       "    <tr>\n",
       "      <th>std</th>\n",
       "      <td>NaN</td>\n",
       "      <td>5.071411</td>\n",
       "      <td>17.405761</td>\n",
       "      <td>2.254945</td>\n",
       "      <td>18.997991</td>\n",
       "      <td>22.161575</td>\n",
       "      <td>1.007082</td>\n",
       "      <td>2.687707</td>\n",
       "      <td>NaN</td>\n",
       "      <td>NaN</td>\n",
       "      <td>...</td>\n",
       "      <td>NaN</td>\n",
       "      <td>NaN</td>\n",
       "      <td>NaN</td>\n",
       "      <td>NaN</td>\n",
       "      <td>7566.691113</td>\n",
       "      <td>1.913944</td>\n",
       "      <td>NaN</td>\n",
       "      <td>NaN</td>\n",
       "      <td>5.471098</td>\n",
       "      <td>NaN</td>\n",
       "    </tr>\n",
       "    <tr>\n",
       "      <th>min</th>\n",
       "      <td>NaN</td>\n",
       "      <td>24.562117</td>\n",
       "      <td>-124.497420</td>\n",
       "      <td>0.001000</td>\n",
       "      <td>-35.000000</td>\n",
       "      <td>2.000000</td>\n",
       "      <td>19.360000</td>\n",
       "      <td>0.060000</td>\n",
       "      <td>NaN</td>\n",
       "      <td>NaN</td>\n",
       "      <td>...</td>\n",
       "      <td>NaN</td>\n",
       "      <td>NaN</td>\n",
       "      <td>NaN</td>\n",
       "      <td>NaN</td>\n",
       "      <td>0.000000</td>\n",
       "      <td>2016.000000</td>\n",
       "      <td>NaN</td>\n",
       "      <td>NaN</td>\n",
       "      <td>0.000000</td>\n",
       "      <td>NaN</td>\n",
       "    </tr>\n",
       "    <tr>\n",
       "      <th>25%</th>\n",
       "      <td>NaN</td>\n",
       "      <td>33.416823</td>\n",
       "      <td>-117.233047</td>\n",
       "      <td>0.089000</td>\n",
       "      <td>49.000000</td>\n",
       "      <td>47.000000</td>\n",
       "      <td>29.370000</td>\n",
       "      <td>10.000000</td>\n",
       "      <td>NaN</td>\n",
       "      <td>NaN</td>\n",
       "      <td>...</td>\n",
       "      <td>NaN</td>\n",
       "      <td>NaN</td>\n",
       "      <td>NaN</td>\n",
       "      <td>NaN</td>\n",
       "      <td>1890.000000</td>\n",
       "      <td>2018.000000</td>\n",
       "      <td>NaN</td>\n",
       "      <td>NaN</td>\n",
       "      <td>8.000000</td>\n",
       "      <td>NaN</td>\n",
       "    </tr>\n",
       "    <tr>\n",
       "      <th>50%</th>\n",
       "      <td>NaN</td>\n",
       "      <td>35.832147</td>\n",
       "      <td>-87.794365</td>\n",
       "      <td>0.344000</td>\n",
       "      <td>64.000000</td>\n",
       "      <td>66.000000</td>\n",
       "      <td>29.860000</td>\n",
       "      <td>10.000000</td>\n",
       "      <td>NaN</td>\n",
       "      <td>NaN</td>\n",
       "      <td>...</td>\n",
       "      <td>NaN</td>\n",
       "      <td>NaN</td>\n",
       "      <td>NaN</td>\n",
       "      <td>NaN</td>\n",
       "      <td>4488.000000</td>\n",
       "      <td>2020.000000</td>\n",
       "      <td>NaN</td>\n",
       "      <td>NaN</td>\n",
       "      <td>13.000000</td>\n",
       "      <td>NaN</td>\n",
       "    </tr>\n",
       "    <tr>\n",
       "      <th>75%</th>\n",
       "      <td>NaN</td>\n",
       "      <td>40.082443</td>\n",
       "      <td>-80.359601</td>\n",
       "      <td>1.005000</td>\n",
       "      <td>76.000000</td>\n",
       "      <td>82.000000</td>\n",
       "      <td>30.030000</td>\n",
       "      <td>10.000000</td>\n",
       "      <td>NaN</td>\n",
       "      <td>NaN</td>\n",
       "      <td>...</td>\n",
       "      <td>NaN</td>\n",
       "      <td>NaN</td>\n",
       "      <td>NaN</td>\n",
       "      <td>NaN</td>\n",
       "      <td>7485.000000</td>\n",
       "      <td>2022.000000</td>\n",
       "      <td>NaN</td>\n",
       "      <td>NaN</td>\n",
       "      <td>17.000000</td>\n",
       "      <td>NaN</td>\n",
       "    </tr>\n",
       "    <tr>\n",
       "      <th>max</th>\n",
       "      <td>NaN</td>\n",
       "      <td>48.999569</td>\n",
       "      <td>-67.484130</td>\n",
       "      <td>193.479996</td>\n",
       "      <td>196.000000</td>\n",
       "      <td>99.000000</td>\n",
       "      <td>38.440000</td>\n",
       "      <td>120.000000</td>\n",
       "      <td>NaN</td>\n",
       "      <td>NaN</td>\n",
       "      <td>...</td>\n",
       "      <td>NaN</td>\n",
       "      <td>NaN</td>\n",
       "      <td>NaN</td>\n",
       "      <td>NaN</td>\n",
       "      <td>86399.000000</td>\n",
       "      <td>2023.000000</td>\n",
       "      <td>NaN</td>\n",
       "      <td>NaN</td>\n",
       "      <td>23.000000</td>\n",
       "      <td>NaN</td>\n",
       "    </tr>\n",
       "  </tbody>\n",
       "</table>\n",
       "<p>11 rows × 27 columns</p>\n",
       "</div>"
      ],
      "text/plain": [
       "        Severity      Start_Lat      Start_Lng   Distance(mi)  Temperature(F)  \\\n",
       "count   500000.0  500000.000000  500000.000000  286413.000000   489532.000000   \n",
       "unique       4.0            NaN            NaN            NaN             NaN   \n",
       "top          2.0            NaN            NaN            NaN             NaN   \n",
       "freq    398142.0            NaN            NaN            NaN             NaN   \n",
       "mean         NaN      36.206421     -94.736583       0.985146       61.646242   \n",
       "std          NaN       5.071411      17.405761       2.254945       18.997991   \n",
       "min          NaN      24.562117    -124.497420       0.001000      -35.000000   \n",
       "25%          NaN      33.416823    -117.233047       0.089000       49.000000   \n",
       "50%          NaN      35.832147     -87.794365       0.344000       64.000000   \n",
       "75%          NaN      40.082443     -80.359601       1.005000       76.000000   \n",
       "max          NaN      48.999569     -67.484130     193.479996      196.000000   \n",
       "\n",
       "          Humidity(%)   Pressure(in)  Visibility(mi) Amenity Crossing  ...  \\\n",
       "count   470461.000000  491070.000000   488190.000000  500000   500000  ...   \n",
       "unique            NaN            NaN             NaN       2        2  ...   \n",
       "top               NaN            NaN             NaN   False    False  ...   \n",
       "freq              NaN            NaN             NaN  493809   443747  ...   \n",
       "mean        63.459133      29.536735        9.100939     NaN      NaN  ...   \n",
       "std         22.161575       1.007082        2.687707     NaN      NaN  ...   \n",
       "min          2.000000      19.360000        0.060000     NaN      NaN  ...   \n",
       "25%         47.000000      29.370000       10.000000     NaN      NaN  ...   \n",
       "50%         66.000000      29.860000       10.000000     NaN      NaN  ...   \n",
       "75%         82.000000      30.030000       10.000000     NaN      NaN  ...   \n",
       "max         99.000000      38.440000      120.000000     NaN      NaN  ...   \n",
       "\n",
       "       Traffic_Calming Traffic_Signal Turning_Loop Astronomical_Twilight  \\\n",
       "count           500000         500000       500000                498517   \n",
       "unique               2              2            1                     2   \n",
       "top              False          False        False                   Day   \n",
       "freq            499534         425965       500000                412242   \n",
       "mean               NaN            NaN          NaN                   NaN   \n",
       "std                NaN            NaN          NaN                   NaN   \n",
       "min                NaN            NaN          NaN                   NaN   \n",
       "25%                NaN            NaN          NaN                   NaN   \n",
       "50%                NaN            NaN          NaN                   NaN   \n",
       "75%                NaN            NaN          NaN                   NaN   \n",
       "max                NaN            NaN          NaN                   NaN   \n",
       "\n",
       "       Time_Difference           Year     Month       Day           Hour  \\\n",
       "count    500000.000000  500000.000000  500000.0  500000.0  500000.000000   \n",
       "unique             NaN            NaN      12.0      31.0            NaN   \n",
       "top                NaN            NaN      12.0      23.0            NaN   \n",
       "freq               NaN            NaN   54589.0   18159.0            NaN   \n",
       "mean       6532.913214    2019.906596       NaN       NaN      12.321320   \n",
       "std        7566.691113       1.913944       NaN       NaN       5.471098   \n",
       "min           0.000000    2016.000000       NaN       NaN       0.000000   \n",
       "25%        1890.000000    2018.000000       NaN       NaN       8.000000   \n",
       "50%        4488.000000    2020.000000       NaN       NaN      13.000000   \n",
       "75%        7485.000000    2022.000000       NaN       NaN      17.000000   \n",
       "max       86399.000000    2023.000000       NaN       NaN      23.000000   \n",
       "\n",
       "         Weekday  \n",
       "count   500000.0  \n",
       "unique       7.0  \n",
       "top          4.0  \n",
       "freq     88766.0  \n",
       "mean         NaN  \n",
       "std          NaN  \n",
       "min          NaN  \n",
       "25%          NaN  \n",
       "50%          NaN  \n",
       "75%          NaN  \n",
       "max          NaN  \n",
       "\n",
       "[11 rows x 27 columns]"
      ]
     },
     "execution_count": 35,
     "metadata": {},
     "output_type": "execute_result"
    }
   ],
   "source": [
    "data_without_nan = data_w_c\n",
    "data_without_nan.describe(include='all')"
   ]
  },
  {
   "cell_type": "markdown",
   "metadata": {},
   "source": [
    "Our data has no Nan's, those who where have been imputated, now let's focus on the outliers."
   ]
  },
  {
   "cell_type": "markdown",
   "metadata": {},
   "source": [
    "FINDING OUTLIERS"
   ]
  },
  {
   "cell_type": "markdown",
   "metadata": {},
   "source": [
    "It is important to identify these values, in order to take them into account when fitting models. Some of these models are sensitive to outliers. "
   ]
  },
  {
   "cell_type": "markdown",
   "metadata": {},
   "source": [
    "First let's see the variable Distance(mi), this has a clear outlier, it's max."
   ]
  },
  {
   "cell_type": "code",
   "execution_count": 36,
   "metadata": {},
   "outputs": [
    {
     "data": {
      "text/plain": [
       "array([<AxesSubplot: title={'center': 'Distance(mi)'}>], dtype=object)"
      ]
     },
     "execution_count": 36,
     "metadata": {},
     "output_type": "execute_result"
    },
    {
     "data": {
      "image/png": "[encoded data removed]",
      "text/plain": [
       "<Figure size 900x500 with 2 Axes>"
      ]
     },
     "metadata": {},
     "output_type": "display_data"
    }
   ],
   "source": [
    "fig, axes = plt.subplots(1,2,gridspec_kw={'width_ratios': [1, 4]}, figsize=(9, 5))\n",
    "data_without_nan.boxplot(column='Distance(mi)',ax=axes[0])\n",
    "data_without_nan.hist(column='Distance(mi)',ax=axes[1])"
   ]
  },
  {
   "cell_type": "markdown",
   "metadata": {},
   "source": [
    "There are obviously a lot of values that do not represent the correct distribution of our variable."
   ]
  },
  {
   "cell_type": "markdown",
   "metadata": {},
   "source": [
    "Let's use the IQR to improve this. Using LocalOutlierFactor, we have seen that it requires a lot of computational time and does not improve the results given by the IQR, so we will use this strategy."
   ]
  },
  {
   "cell_type": "code",
   "execution_count": 37,
   "metadata": {},
   "outputs": [
    {
     "data": {
      "text/plain": [
       "array([<AxesSubplot: title={'center': 'Distance(mi)'}>], dtype=object)"
      ]
     },
     "execution_count": 37,
     "metadata": {},
     "output_type": "execute_result"
    },
    {
     "data": {
      "image/png": "[encoded data removed]",
      "text/plain": [
       "<Figure size 900x500 with 2 Axes>"
      ]
     },
     "metadata": {},
     "output_type": "display_data"
    }
   ],
   "source": [
    "Q1 = data_without_nan['Distance(mi)'].quantile(0.25)\n",
    "Q3 = data_without_nan['Distance(mi)'].quantile(0.75)\n",
    "IQR = Q3 - Q1\n",
    "\n",
    "small_out = data_without_nan['Distance(mi)'] < (Q1 - 1.5 * IQR)\n",
    "big_out = data_without_nan['Distance(mi)'] > (Q3 + 1.5 * IQR)\n",
    "\n",
    "fig, axes = plt.subplots(1,2,gridspec_kw={'width_ratios': [1, 4]}, figsize=(9, 5))\n",
    "data_without_nan[~(small_out | big_out)].boxplot(column='Distance(mi)',ax=axes[0])\n",
    "data_without_nan[~(small_out | big_out)].hist(column='Distance(mi)',ax=axes[1])"
   ]
  },
  {
   "cell_type": "code",
   "execution_count": 38,
   "metadata": {},
   "outputs": [
    {
     "data": {
      "text/html": [
       "<div>\n",
       "<style scoped>\n",
       "    .dataframe tbody tr th:only-of-type {\n",
       "        vertical-align: middle;\n",
       "    }\n",
       "\n",
       "    .dataframe tbody tr th {\n",
       "        vertical-align: top;\n",
       "    }\n",
       "\n",
       "    .dataframe thead th {\n",
       "        text-align: right;\n",
       "    }\n",
       "</style>\n",
       "<table border=\"1\" class=\"dataframe\">\n",
       "  <thead>\n",
       "    <tr style=\"text-align: right;\">\n",
       "      <th></th>\n",
       "      <th>Start_Lat</th>\n",
       "      <th>Start_Lng</th>\n",
       "      <th>Distance(mi)</th>\n",
       "      <th>Temperature(F)</th>\n",
       "      <th>Humidity(%)</th>\n",
       "      <th>Pressure(in)</th>\n",
       "      <th>Visibility(mi)</th>\n",
       "      <th>Time_Difference</th>\n",
       "      <th>Year</th>\n",
       "      <th>Hour</th>\n",
       "    </tr>\n",
       "  </thead>\n",
       "  <tbody>\n",
       "    <tr>\n",
       "      <th>count</th>\n",
       "      <td>470685.000000</td>\n",
       "      <td>470685.000000</td>\n",
       "      <td>257098.000000</td>\n",
       "      <td>461072.000000</td>\n",
       "      <td>443229.000000</td>\n",
       "      <td>462522.000000</td>\n",
       "      <td>459836.000000</td>\n",
       "      <td>470685.000000</td>\n",
       "      <td>470685.000000</td>\n",
       "      <td>470685.000000</td>\n",
       "    </tr>\n",
       "    <tr>\n",
       "      <th>mean</th>\n",
       "      <td>36.139320</td>\n",
       "      <td>-94.789833</td>\n",
       "      <td>0.490887</td>\n",
       "      <td>61.839551</td>\n",
       "      <td>63.445524</td>\n",
       "      <td>29.556441</td>\n",
       "      <td>9.120426</td>\n",
       "      <td>6269.072418</td>\n",
       "      <td>2019.845614</td>\n",
       "      <td>12.335105</td>\n",
       "    </tr>\n",
       "    <tr>\n",
       "      <th>std</th>\n",
       "      <td>5.062872</td>\n",
       "      <td>17.398218</td>\n",
       "      <td>0.549991</td>\n",
       "      <td>18.850020</td>\n",
       "      <td>22.131319</td>\n",
       "      <td>0.973689</td>\n",
       "      <td>2.676424</td>\n",
       "      <td>7300.847340</td>\n",
       "      <td>1.918203</td>\n",
       "      <td>5.477849</td>\n",
       "    </tr>\n",
       "    <tr>\n",
       "      <th>min</th>\n",
       "      <td>24.562117</td>\n",
       "      <td>-124.497420</td>\n",
       "      <td>0.001000</td>\n",
       "      <td>-35.000000</td>\n",
       "      <td>2.000000</td>\n",
       "      <td>19.520000</td>\n",
       "      <td>0.060000</td>\n",
       "      <td>0.000000</td>\n",
       "      <td>2016.000000</td>\n",
       "      <td>0.000000</td>\n",
       "    </tr>\n",
       "    <tr>\n",
       "      <th>25%</th>\n",
       "      <td>33.368649</td>\n",
       "      <td>-117.249194</td>\n",
       "      <td>0.074000</td>\n",
       "      <td>50.000000</td>\n",
       "      <td>47.000000</td>\n",
       "      <td>29.390000</td>\n",
       "      <td>10.000000</td>\n",
       "      <td>1800.000000</td>\n",
       "      <td>2018.000000</td>\n",
       "      <td>8.000000</td>\n",
       "    </tr>\n",
       "    <tr>\n",
       "      <th>50%</th>\n",
       "      <td>35.774044</td>\n",
       "      <td>-87.862740</td>\n",
       "      <td>0.264000</td>\n",
       "      <td>64.000000</td>\n",
       "      <td>66.000000</td>\n",
       "      <td>29.860000</td>\n",
       "      <td>10.000000</td>\n",
       "      <td>4323.000000</td>\n",
       "      <td>2020.000000</td>\n",
       "      <td>13.000000</td>\n",
       "    </tr>\n",
       "    <tr>\n",
       "      <th>75%</th>\n",
       "      <td>40.024926</td>\n",
       "      <td>-80.380978</td>\n",
       "      <td>0.750000</td>\n",
       "      <td>76.000000</td>\n",
       "      <td>82.000000</td>\n",
       "      <td>30.030000</td>\n",
       "      <td>10.000000</td>\n",
       "      <td>7319.000000</td>\n",
       "      <td>2021.000000</td>\n",
       "      <td>17.000000</td>\n",
       "    </tr>\n",
       "    <tr>\n",
       "      <th>max</th>\n",
       "      <td>48.999569</td>\n",
       "      <td>-67.484130</td>\n",
       "      <td>2.378000</td>\n",
       "      <td>196.000000</td>\n",
       "      <td>99.000000</td>\n",
       "      <td>38.440000</td>\n",
       "      <td>120.000000</td>\n",
       "      <td>86399.000000</td>\n",
       "      <td>2023.000000</td>\n",
       "      <td>23.000000</td>\n",
       "    </tr>\n",
       "  </tbody>\n",
       "</table>\n",
       "</div>"
      ],
      "text/plain": [
       "           Start_Lat      Start_Lng   Distance(mi)  Temperature(F)  \\\n",
       "count  470685.000000  470685.000000  257098.000000   461072.000000   \n",
       "mean       36.139320     -94.789833       0.490887       61.839551   \n",
       "std         5.062872      17.398218       0.549991       18.850020   \n",
       "min        24.562117    -124.497420       0.001000      -35.000000   \n",
       "25%        33.368649    -117.249194       0.074000       50.000000   \n",
       "50%        35.774044     -87.862740       0.264000       64.000000   \n",
       "75%        40.024926     -80.380978       0.750000       76.000000   \n",
       "max        48.999569     -67.484130       2.378000      196.000000   \n",
       "\n",
       "         Humidity(%)   Pressure(in)  Visibility(mi)  Time_Difference  \\\n",
       "count  443229.000000  462522.000000   459836.000000    470685.000000   \n",
       "mean       63.445524      29.556441        9.120426      6269.072418   \n",
       "std        22.131319       0.973689        2.676424      7300.847340   \n",
       "min         2.000000      19.520000        0.060000         0.000000   \n",
       "25%        47.000000      29.390000       10.000000      1800.000000   \n",
       "50%        66.000000      29.860000       10.000000      4323.000000   \n",
       "75%        82.000000      30.030000       10.000000      7319.000000   \n",
       "max        99.000000      38.440000      120.000000     86399.000000   \n",
       "\n",
       "                Year           Hour  \n",
       "count  470685.000000  470685.000000  \n",
       "mean     2019.845614      12.335105  \n",
       "std         1.918203       5.477849  \n",
       "min      2016.000000       0.000000  \n",
       "25%      2018.000000       8.000000  \n",
       "50%      2020.000000      13.000000  \n",
       "75%      2021.000000      17.000000  \n",
       "max      2023.000000      23.000000  "
      ]
     },
     "execution_count": 38,
     "metadata": {},
     "output_type": "execute_result"
    }
   ],
   "source": [
    "data_without_nan[~(small_out | big_out)].describe(include=['int', 'float']) "
   ]
  },
  {
   "cell_type": "code",
   "execution_count": 39,
   "metadata": {},
   "outputs": [],
   "source": [
    "data_without_nan_out1 = data_without_nan[~(small_out | big_out)]"
   ]
  },
  {
   "cell_type": "markdown",
   "metadata": {},
   "source": [
    "Visibility:"
   ]
  },
  {
   "cell_type": "code",
   "execution_count": 40,
   "metadata": {},
   "outputs": [
    {
     "data": {
      "text/plain": [
       "array([<AxesSubplot: title={'center': 'Visibility(mi)'}>], dtype=object)"
      ]
     },
     "execution_count": 40,
     "metadata": {},
     "output_type": "execute_result"
    },
    {
     "data": {
      "image/png": "[encoded data removed]",
      "text/plain": [
       "<Figure size 900x500 with 2 Axes>"
      ]
     },
     "metadata": {},
     "output_type": "display_data"
    }
   ],
   "source": [
    "fig, axes = plt.subplots(1,2,gridspec_kw={'width_ratios': [1, 4]}, figsize=(9, 5))\n",
    "data_without_nan_out1.boxplot(column='Visibility(mi)',ax=axes[0])\n",
    "data_without_nan_out1.hist(column='Visibility(mi)',ax=axes[1])"
   ]
  },
  {
   "cell_type": "code",
   "execution_count": 41,
   "metadata": {},
   "outputs": [
    {
     "data": {
      "text/plain": [
       "array([<AxesSubplot: title={'center': 'Visibility(mi)'}>], dtype=object)"
      ]
     },
     "execution_count": 41,
     "metadata": {},
     "output_type": "execute_result"
    },
    {
     "data": {
      "image/png": "[encoded data removed]",
      "text/plain": [
       "<Figure size 900x500 with 2 Axes>"
      ]
     },
     "metadata": {},
     "output_type": "display_data"
    }
   ],
   "source": [
    "Q1 = data_without_nan_out1['Visibility(mi)'].quantile(0.25)\n",
    "Q3 = data_without_nan_out1['Visibility(mi)'].quantile(0.75)\n",
    "IQR = Q3 - Q1\n",
    "\n",
    "small_out = data_without_nan_out1['Visibility(mi)'] < (Q1 - 1.5 * IQR)\n",
    "big_out = data_without_nan_out1['Visibility(mi)'] > (Q3 + 1.5 * IQR)\n",
    "\n",
    "fig, axes = plt.subplots(1,2,gridspec_kw={'width_ratios': [1, 4]}, figsize=(9, 5))\n",
    "data_without_nan_out1[~(small_out | big_out)].boxplot(column='Visibility(mi)',ax=axes[0])\n",
    "data_without_nan_out1[~(small_out | big_out)].hist(column='Visibility(mi)',ax=axes[1])"
   ]
  },
  {
   "cell_type": "markdown",
   "metadata": {},
   "source": [
    "All data from Visibility is concentrated around 10 mi."
   ]
  },
  {
   "cell_type": "code",
   "execution_count": 42,
   "metadata": {},
   "outputs": [
    {
     "data": {
      "text/html": [
       "<div>\n",
       "<style scoped>\n",
       "    .dataframe tbody tr th:only-of-type {\n",
       "        vertical-align: middle;\n",
       "    }\n",
       "\n",
       "    .dataframe tbody tr th {\n",
       "        vertical-align: top;\n",
       "    }\n",
       "\n",
       "    .dataframe thead th {\n",
       "        text-align: right;\n",
       "    }\n",
       "</style>\n",
       "<table border=\"1\" class=\"dataframe\">\n",
       "  <thead>\n",
       "    <tr style=\"text-align: right;\">\n",
       "      <th></th>\n",
       "      <th>Start_Lat</th>\n",
       "      <th>Start_Lng</th>\n",
       "      <th>Distance(mi)</th>\n",
       "      <th>Temperature(F)</th>\n",
       "      <th>Humidity(%)</th>\n",
       "      <th>Pressure(in)</th>\n",
       "      <th>Visibility(mi)</th>\n",
       "      <th>Time_Difference</th>\n",
       "      <th>Year</th>\n",
       "      <th>Hour</th>\n",
       "    </tr>\n",
       "  </thead>\n",
       "  <tbody>\n",
       "    <tr>\n",
       "      <th>count</th>\n",
       "      <td>381590.000000</td>\n",
       "      <td>381590.000000</td>\n",
       "      <td>210267.000000</td>\n",
       "      <td>372423.000000</td>\n",
       "      <td>366476.000000</td>\n",
       "      <td>373551.000000</td>\n",
       "      <td>370741.0</td>\n",
       "      <td>381590.000000</td>\n",
       "      <td>381590.000000</td>\n",
       "      <td>381590.000000</td>\n",
       "    </tr>\n",
       "    <tr>\n",
       "      <th>mean</th>\n",
       "      <td>35.936464</td>\n",
       "      <td>-94.552522</td>\n",
       "      <td>0.481326</td>\n",
       "      <td>63.679126</td>\n",
       "      <td>59.715679</td>\n",
       "      <td>29.565728</td>\n",
       "      <td>10.0</td>\n",
       "      <td>6322.941573</td>\n",
       "      <td>2019.856291</td>\n",
       "      <td>12.640934</td>\n",
       "    </tr>\n",
       "    <tr>\n",
       "      <th>std</th>\n",
       "      <td>5.102307</td>\n",
       "      <td>17.347059</td>\n",
       "      <td>0.545407</td>\n",
       "      <td>18.444814</td>\n",
       "      <td>21.159869</td>\n",
       "      <td>0.976983</td>\n",
       "      <td>0.0</td>\n",
       "      <td>7367.351134</td>\n",
       "      <td>1.925378</td>\n",
       "      <td>5.407316</td>\n",
       "    </tr>\n",
       "    <tr>\n",
       "      <th>min</th>\n",
       "      <td>24.562117</td>\n",
       "      <td>-124.497420</td>\n",
       "      <td>0.001000</td>\n",
       "      <td>-35.000000</td>\n",
       "      <td>2.000000</td>\n",
       "      <td>19.520000</td>\n",
       "      <td>10.0</td>\n",
       "      <td>0.000000</td>\n",
       "      <td>2016.000000</td>\n",
       "      <td>0.000000</td>\n",
       "    </tr>\n",
       "    <tr>\n",
       "      <th>25%</th>\n",
       "      <td>32.988266</td>\n",
       "      <td>-117.147485</td>\n",
       "      <td>0.073000</td>\n",
       "      <td>51.800000</td>\n",
       "      <td>45.000000</td>\n",
       "      <td>29.400000</td>\n",
       "      <td>10.0</td>\n",
       "      <td>1818.000000</td>\n",
       "      <td>2018.000000</td>\n",
       "      <td>8.000000</td>\n",
       "    </tr>\n",
       "    <tr>\n",
       "      <th>50%</th>\n",
       "      <td>35.511395</td>\n",
       "      <td>-87.415503</td>\n",
       "      <td>0.253000</td>\n",
       "      <td>66.000000</td>\n",
       "      <td>61.000000</td>\n",
       "      <td>29.870000</td>\n",
       "      <td>10.0</td>\n",
       "      <td>4425.000000</td>\n",
       "      <td>2020.000000</td>\n",
       "      <td>13.000000</td>\n",
       "    </tr>\n",
       "    <tr>\n",
       "      <th>75%</th>\n",
       "      <td>39.890179</td>\n",
       "      <td>-80.345393</td>\n",
       "      <td>0.729000</td>\n",
       "      <td>78.000000</td>\n",
       "      <td>77.000000</td>\n",
       "      <td>30.040000</td>\n",
       "      <td>10.0</td>\n",
       "      <td>7342.000000</td>\n",
       "      <td>2022.000000</td>\n",
       "      <td>17.000000</td>\n",
       "    </tr>\n",
       "    <tr>\n",
       "      <th>max</th>\n",
       "      <td>48.991585</td>\n",
       "      <td>-67.484130</td>\n",
       "      <td>2.378000</td>\n",
       "      <td>196.000000</td>\n",
       "      <td>99.000000</td>\n",
       "      <td>38.440000</td>\n",
       "      <td>10.0</td>\n",
       "      <td>86399.000000</td>\n",
       "      <td>2023.000000</td>\n",
       "      <td>23.000000</td>\n",
       "    </tr>\n",
       "  </tbody>\n",
       "</table>\n",
       "</div>"
      ],
      "text/plain": [
       "           Start_Lat      Start_Lng   Distance(mi)  Temperature(F)  \\\n",
       "count  381590.000000  381590.000000  210267.000000   372423.000000   \n",
       "mean       35.936464     -94.552522       0.481326       63.679126   \n",
       "std         5.102307      17.347059       0.545407       18.444814   \n",
       "min        24.562117    -124.497420       0.001000      -35.000000   \n",
       "25%        32.988266    -117.147485       0.073000       51.800000   \n",
       "50%        35.511395     -87.415503       0.253000       66.000000   \n",
       "75%        39.890179     -80.345393       0.729000       78.000000   \n",
       "max        48.991585     -67.484130       2.378000      196.000000   \n",
       "\n",
       "         Humidity(%)   Pressure(in)  Visibility(mi)  Time_Difference  \\\n",
       "count  366476.000000  373551.000000        370741.0    381590.000000   \n",
       "mean       59.715679      29.565728            10.0      6322.941573   \n",
       "std        21.159869       0.976983             0.0      7367.351134   \n",
       "min         2.000000      19.520000            10.0         0.000000   \n",
       "25%        45.000000      29.400000            10.0      1818.000000   \n",
       "50%        61.000000      29.870000            10.0      4425.000000   \n",
       "75%        77.000000      30.040000            10.0      7342.000000   \n",
       "max        99.000000      38.440000            10.0     86399.000000   \n",
       "\n",
       "                Year           Hour  \n",
       "count  381590.000000  381590.000000  \n",
       "mean     2019.856291      12.640934  \n",
       "std         1.925378       5.407316  \n",
       "min      2016.000000       0.000000  \n",
       "25%      2018.000000       8.000000  \n",
       "50%      2020.000000      13.000000  \n",
       "75%      2022.000000      17.000000  \n",
       "max      2023.000000      23.000000  "
      ]
     },
     "execution_count": 42,
     "metadata": {},
     "output_type": "execute_result"
    }
   ],
   "source": [
    "data_without_nan_out1[~(small_out | big_out)].describe(include=['int', 'float']) "
   ]
  },
  {
   "cell_type": "code",
   "execution_count": 43,
   "metadata": {},
   "outputs": [],
   "source": [
    "data_without_nan_out2 = data_without_nan_out1[~(small_out | big_out)]"
   ]
  },
  {
   "cell_type": "markdown",
   "metadata": {},
   "source": [
    "Temperature:"
   ]
  },
  {
   "cell_type": "code",
   "execution_count": 44,
   "metadata": {},
   "outputs": [
    {
     "data": {
      "text/plain": [
       "array([<AxesSubplot: title={'center': 'Temperature(F)'}>], dtype=object)"
      ]
     },
     "execution_count": 44,
     "metadata": {},
     "output_type": "execute_result"
    },
    {
     "data": {
      "image/png": "[encoded data removed]",
      "text/plain": [
       "<Figure size 900x500 with 2 Axes>"
      ]
     },
     "metadata": {},
     "output_type": "display_data"
    }
   ],
   "source": [
    "fig, axes = plt.subplots(1,2,gridspec_kw={'width_ratios': [1, 4]}, figsize=(9, 5))\n",
    "data_without_nan_out2.boxplot(column='Temperature(F)',ax=axes[0])\n",
    "data_without_nan_out2.hist(column='Temperature(F)',ax=axes[1])"
   ]
  },
  {
   "cell_type": "markdown",
   "metadata": {},
   "source": [
    "It seems well distributed. However, it seems there are some outliers. We will do the same for Wind_Chill since from the describe of the dataset, it is almost equally distributed as temperature."
   ]
  },
  {
   "cell_type": "code",
   "execution_count": 45,
   "metadata": {},
   "outputs": [
    {
     "data": {
      "text/plain": [
       "array([<AxesSubplot: title={'center': 'Temperature(F)'}>], dtype=object)"
      ]
     },
     "execution_count": 45,
     "metadata": {},
     "output_type": "execute_result"
    },
    {
     "data": {
      "image/png": "[encoded data removed]",
      "text/plain": [
       "<Figure size 900x500 with 2 Axes>"
      ]
     },
     "metadata": {},
     "output_type": "display_data"
    }
   ],
   "source": [
    "Q1 = data_without_nan_out2['Temperature(F)'].quantile(0.25)\n",
    "Q3 = data_without_nan_out2['Temperature(F)'].quantile(0.75)\n",
    "IQR = Q3 - Q1\n",
    "\n",
    "small_out = data_without_nan_out2['Temperature(F)'] < (Q1 - 1.5 * IQR)\n",
    "big_out = data_without_nan_out2['Temperature(F)'] > (Q3 + 1.5 * IQR)\n",
    "\n",
    "fig, axes = plt.subplots(1,2,gridspec_kw={'width_ratios': [1, 4]}, figsize=(9, 5))\n",
    "data_without_nan_out2[~(small_out | big_out)].boxplot(column='Temperature(F)',ax=axes[0])\n",
    "data_without_nan_out2[~(small_out | big_out)].hist(column='Temperature(F)',ax=axes[1])"
   ]
  },
  {
   "cell_type": "markdown",
   "metadata": {},
   "source": [
    "It is better now."
   ]
  },
  {
   "cell_type": "code",
   "execution_count": 46,
   "metadata": {},
   "outputs": [
    {
     "data": {
      "text/html": [
       "<div>\n",
       "<style scoped>\n",
       "    .dataframe tbody tr th:only-of-type {\n",
       "        vertical-align: middle;\n",
       "    }\n",
       "\n",
       "    .dataframe tbody tr th {\n",
       "        vertical-align: top;\n",
       "    }\n",
       "\n",
       "    .dataframe thead th {\n",
       "        text-align: right;\n",
       "    }\n",
       "</style>\n",
       "<table border=\"1\" class=\"dataframe\">\n",
       "  <thead>\n",
       "    <tr style=\"text-align: right;\">\n",
       "      <th></th>\n",
       "      <th>Start_Lat</th>\n",
       "      <th>Start_Lng</th>\n",
       "      <th>Distance(mi)</th>\n",
       "      <th>Temperature(F)</th>\n",
       "      <th>Humidity(%)</th>\n",
       "      <th>Pressure(in)</th>\n",
       "      <th>Visibility(mi)</th>\n",
       "      <th>Time_Difference</th>\n",
       "      <th>Year</th>\n",
       "      <th>Hour</th>\n",
       "    </tr>\n",
       "  </thead>\n",
       "  <tbody>\n",
       "    <tr>\n",
       "      <th>count</th>\n",
       "      <td>378715.000000</td>\n",
       "      <td>378715.000000</td>\n",
       "      <td>208480.000000</td>\n",
       "      <td>369548.000000</td>\n",
       "      <td>363619.000000</td>\n",
       "      <td>370677.000000</td>\n",
       "      <td>367917.0</td>\n",
       "      <td>378715.00000</td>\n",
       "      <td>378715.000000</td>\n",
       "      <td>378715.000000</td>\n",
       "    </tr>\n",
       "    <tr>\n",
       "      <th>mean</th>\n",
       "      <td>35.882060</td>\n",
       "      <td>-94.580158</td>\n",
       "      <td>0.480066</td>\n",
       "      <td>64.147597</td>\n",
       "      <td>59.640638</td>\n",
       "      <td>29.567555</td>\n",
       "      <td>10.0</td>\n",
       "      <td>6325.26169</td>\n",
       "      <td>2019.854532</td>\n",
       "      <td>12.656208</td>\n",
       "    </tr>\n",
       "    <tr>\n",
       "      <th>std</th>\n",
       "      <td>5.078284</td>\n",
       "      <td>17.391757</td>\n",
       "      <td>0.544850</td>\n",
       "      <td>17.715915</td>\n",
       "      <td>21.198745</td>\n",
       "      <td>0.969910</td>\n",
       "      <td>0.0</td>\n",
       "      <td>7376.45457</td>\n",
       "      <td>1.925792</td>\n",
       "      <td>5.400472</td>\n",
       "    </tr>\n",
       "    <tr>\n",
       "      <th>min</th>\n",
       "      <td>24.562117</td>\n",
       "      <td>-124.497420</td>\n",
       "      <td>0.001000</td>\n",
       "      <td>12.600000</td>\n",
       "      <td>2.000000</td>\n",
       "      <td>19.520000</td>\n",
       "      <td>10.0</td>\n",
       "      <td>0.00000</td>\n",
       "      <td>2016.000000</td>\n",
       "      <td>0.000000</td>\n",
       "    </tr>\n",
       "    <tr>\n",
       "      <th>25%</th>\n",
       "      <td>32.951807</td>\n",
       "      <td>-117.163604</td>\n",
       "      <td>0.073000</td>\n",
       "      <td>52.000000</td>\n",
       "      <td>44.000000</td>\n",
       "      <td>29.410000</td>\n",
       "      <td>10.0</td>\n",
       "      <td>1822.50000</td>\n",
       "      <td>2018.000000</td>\n",
       "      <td>8.000000</td>\n",
       "    </tr>\n",
       "    <tr>\n",
       "      <th>50%</th>\n",
       "      <td>35.442459</td>\n",
       "      <td>-87.242270</td>\n",
       "      <td>0.252000</td>\n",
       "      <td>66.000000</td>\n",
       "      <td>61.000000</td>\n",
       "      <td>29.870000</td>\n",
       "      <td>10.0</td>\n",
       "      <td>4421.00000</td>\n",
       "      <td>2020.000000</td>\n",
       "      <td>13.000000</td>\n",
       "    </tr>\n",
       "    <tr>\n",
       "      <th>75%</th>\n",
       "      <td>39.821310</td>\n",
       "      <td>-80.339165</td>\n",
       "      <td>0.726000</td>\n",
       "      <td>78.000000</td>\n",
       "      <td>77.000000</td>\n",
       "      <td>30.040000</td>\n",
       "      <td>10.0</td>\n",
       "      <td>7343.50000</td>\n",
       "      <td>2022.000000</td>\n",
       "      <td>17.000000</td>\n",
       "    </tr>\n",
       "    <tr>\n",
       "      <th>max</th>\n",
       "      <td>48.991585</td>\n",
       "      <td>-67.484130</td>\n",
       "      <td>2.378000</td>\n",
       "      <td>117.000000</td>\n",
       "      <td>99.000000</td>\n",
       "      <td>38.440000</td>\n",
       "      <td>10.0</td>\n",
       "      <td>86399.00000</td>\n",
       "      <td>2023.000000</td>\n",
       "      <td>23.000000</td>\n",
       "    </tr>\n",
       "  </tbody>\n",
       "</table>\n",
       "</div>"
      ],
      "text/plain": [
       "           Start_Lat      Start_Lng   Distance(mi)  Temperature(F)  \\\n",
       "count  378715.000000  378715.000000  208480.000000   369548.000000   \n",
       "mean       35.882060     -94.580158       0.480066       64.147597   \n",
       "std         5.078284      17.391757       0.544850       17.715915   \n",
       "min        24.562117    -124.497420       0.001000       12.600000   \n",
       "25%        32.951807    -117.163604       0.073000       52.000000   \n",
       "50%        35.442459     -87.242270       0.252000       66.000000   \n",
       "75%        39.821310     -80.339165       0.726000       78.000000   \n",
       "max        48.991585     -67.484130       2.378000      117.000000   \n",
       "\n",
       "         Humidity(%)   Pressure(in)  Visibility(mi)  Time_Difference  \\\n",
       "count  363619.000000  370677.000000        367917.0     378715.00000   \n",
       "mean       59.640638      29.567555            10.0       6325.26169   \n",
       "std        21.198745       0.969910             0.0       7376.45457   \n",
       "min         2.000000      19.520000            10.0          0.00000   \n",
       "25%        44.000000      29.410000            10.0       1822.50000   \n",
       "50%        61.000000      29.870000            10.0       4421.00000   \n",
       "75%        77.000000      30.040000            10.0       7343.50000   \n",
       "max        99.000000      38.440000            10.0      86399.00000   \n",
       "\n",
       "                Year           Hour  \n",
       "count  378715.000000  378715.000000  \n",
       "mean     2019.854532      12.656208  \n",
       "std         1.925792       5.400472  \n",
       "min      2016.000000       0.000000  \n",
       "25%      2018.000000       8.000000  \n",
       "50%      2020.000000      13.000000  \n",
       "75%      2022.000000      17.000000  \n",
       "max      2023.000000      23.000000  "
      ]
     },
     "execution_count": 46,
     "metadata": {},
     "output_type": "execute_result"
    }
   ],
   "source": [
    "data_without_nan_out2[~(small_out | big_out)].describe(include=['int', 'float']) "
   ]
  },
  {
   "cell_type": "code",
   "execution_count": 47,
   "metadata": {},
   "outputs": [],
   "source": [
    "data_without_nan_out3 = data_without_nan_out2[~(small_out | big_out)]"
   ]
  },
  {
   "cell_type": "markdown",
   "metadata": {},
   "source": [
    "Humidity:"
   ]
  },
  {
   "cell_type": "code",
   "execution_count": 48,
   "metadata": {},
   "outputs": [
    {
     "data": {
      "text/plain": [
       "array([<AxesSubplot: title={'center': 'Humidity(%)'}>], dtype=object)"
      ]
     },
     "execution_count": 48,
     "metadata": {},
     "output_type": "execute_result"
    },
    {
     "data": {
      "image/png": "[encoded data removed]",
      "text/plain": [
       "<Figure size 900x500 with 2 Axes>"
      ]
     },
     "metadata": {},
     "output_type": "display_data"
    }
   ],
   "source": [
    "fig, axes = plt.subplots(1,2,gridspec_kw={'width_ratios': [1, 4]}, figsize=(9, 5))\n",
    "data_without_nan_out3.boxplot(column='Humidity(%)',ax=axes[0])\n",
    "data_without_nan_out3.hist(column='Humidity(%)',ax=axes[1])"
   ]
  },
  {
   "cell_type": "markdown",
   "metadata": {},
   "source": [
    "Humidity is well distributed."
   ]
  },
  {
   "cell_type": "markdown",
   "metadata": {},
   "source": [
    "Time_Difference:"
   ]
  },
  {
   "cell_type": "code",
   "execution_count": 49,
   "metadata": {},
   "outputs": [
    {
     "ename": "NameError",
     "evalue": "name 'data_without_nan_out6' is not defined",
     "output_type": "error",
     "traceback": [
      "\u001b[0;31m---------------------------------------------------------------------------\u001b[0m",
      "\u001b[0;31mNameError\u001b[0m                                 Traceback (most recent call last)",
      "Cell \u001b[0;32mIn[49], line 2\u001b[0m\n\u001b[1;32m      1\u001b[0m fig, axes \u001b[38;5;241m=\u001b[39m plt\u001b[38;5;241m.\u001b[39msubplots(\u001b[38;5;241m1\u001b[39m,\u001b[38;5;241m2\u001b[39m,gridspec_kw\u001b[38;5;241m=\u001b[39m{\u001b[38;5;124m'\u001b[39m\u001b[38;5;124mwidth_ratios\u001b[39m\u001b[38;5;124m'\u001b[39m: [\u001b[38;5;241m1\u001b[39m, \u001b[38;5;241m4\u001b[39m]}, figsize\u001b[38;5;241m=\u001b[39m(\u001b[38;5;241m9\u001b[39m, \u001b[38;5;241m5\u001b[39m))\n\u001b[0;32m----> 2\u001b[0m \u001b[43mdata_without_nan_out6\u001b[49m\u001b[38;5;241m.\u001b[39mboxplot(column\u001b[38;5;241m=\u001b[39m\u001b[38;5;124m'\u001b[39m\u001b[38;5;124mTime_Difference\u001b[39m\u001b[38;5;124m'\u001b[39m,ax\u001b[38;5;241m=\u001b[39maxes[\u001b[38;5;241m0\u001b[39m])\n\u001b[1;32m      3\u001b[0m data_without_nan_out6\u001b[38;5;241m.\u001b[39mhist(column\u001b[38;5;241m=\u001b[39m\u001b[38;5;124m'\u001b[39m\u001b[38;5;124mTime_Difference\u001b[39m\u001b[38;5;124m'\u001b[39m,ax\u001b[38;5;241m=\u001b[39maxes[\u001b[38;5;241m1\u001b[39m])\n",
      "\u001b[0;31mNameError\u001b[0m: name 'data_without_nan_out6' is not defined"
     ]
    },
    {
     "data": {
      "image/png": "[encoded data removed]",
      "text/plain": [
       "<Figure size 900x500 with 2 Axes>"
      ]
     },
     "metadata": {},
     "output_type": "display_data"
    }
   ],
   "source": [
    "fig, axes = plt.subplots(1,2,gridspec_kw={'width_ratios': [1, 4]}, figsize=(9, 5))\n",
    "data_without_nan_out6.boxplot(column='Time_Difference',ax=axes[0])\n",
    "data_without_nan_out6.hist(column='Time_Difference',ax=axes[1])"
   ]
  },
  {
   "cell_type": "code",
   "execution_count": null,
   "metadata": {},
   "outputs": [],
   "source": [
    "Q1 = data_without_nan_out6['Time_Difference'].quantile(0.25)\n",
    "Q3 = data_without_nan_out6['Time_Difference'].quantile(0.75)\n",
    "IQR = Q3 - Q1\n",
    "\n",
    "small_out = data_without_nan_out6['Time_Difference'] < (Q1 - 1.5 * IQR)\n",
    "big_out = data_without_nan_out6['Time_Difference'] > (Q3 + 1.5 * IQR)\n",
    "\n",
    "fig, axes = plt.subplots(1,2,gridspec_kw={'width_ratios': [1, 4]}, figsize=(9, 5))\n",
    "data_without_nan_out6[~(small_out | big_out)].boxplot(column='Time_Difference',ax=axes[0])\n",
    "data_without_nan_out6[~(small_out | big_out)].hist(column='Time_Difference',ax=axes[1])"
   ]
  },
  {
   "cell_type": "code",
   "execution_count": null,
   "metadata": {},
   "outputs": [],
   "source": [
    "data_without_nan_out6[~(small_out | big_out)].describe(include=['int', 'float'])"
   ]
  },
  {
   "cell_type": "code",
   "execution_count": null,
   "metadata": {},
   "outputs": [],
   "source": [
    "data_without_nan_out = data_without_nan_out6[~(small_out | big_out)]"
   ]
  },
  {
   "cell_type": "markdown",
   "metadata": {},
   "source": [
    "Every numerical variable has been treated from outliers."
   ]
  },
  {
   "cell_type": "markdown",
   "metadata": {},
   "source": [
    "GAUSSIANITY AND TRANSFORMATIONS"
   ]
  },
  {
   "cell_type": "markdown",
   "metadata": {},
   "source": [
    "Let's see if every numerical variable is distributed with a gaussian."
   ]
  },
  {
   "cell_type": "markdown",
   "metadata": {},
   "source": [
    "## SECTION Y: NORMALIZATION"
   ]
  },
  {
   "cell_type": "code",
   "execution_count": null,
   "metadata": {},
   "outputs": [],
   "source": [
    "data_without_nan_out.describe(include=['int', 'float'])"
   ]
  },
  {
   "cell_type": "markdown",
   "metadata": {},
   "source": [
    "## SECTION x: SHUFFLING DATA"
   ]
  },
  {
   "cell_type": "code",
   "execution_count": null,
   "metadata": {},
   "outputs": [],
   "source": [
    "np.random.seed(1234)\n",
    "data_without_nan_out = data_without_nan_out.sample(frac=1).reset_index(drop=True)"
   ]
  }
 ],
 "metadata": {
  "kernelspec": {
   "display_name": "Python 3",
   "language": "python",
   "name": "python3"
  },
  "language_info": {
   "codemirror_mode": {
    "name": "ipython",
    "version": 3
   },
   "file_extension": ".py",
   "mimetype": "text/x-python",
   "name": "python",
   "nbconvert_exporter": "python",
   "pygments_lexer": "ipython3",
   "version": "3.10.13"
  }
 },
 "nbformat": 4,
 "nbformat_minor": 2
}
